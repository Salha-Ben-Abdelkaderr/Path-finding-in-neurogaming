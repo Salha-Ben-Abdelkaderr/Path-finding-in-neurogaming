{
 "cells": [
  {
   "cell_type": "code",
   "execution_count": 66,
   "id": "0dedf787",
   "metadata": {},
   "outputs": [],
   "source": [
    "import pandas as pd\n",
    "import numpy as np\n",
    "import tensorflow as tf\n",
    "from sklearn.model_selection import train_test_split\n",
    "from sklearn.preprocessing import StandardScaler, LabelEncoder\n",
    "from tensorflow.keras.models import Sequential\n",
    "from tensorflow.keras.layers import Conv1D,Conv2D,MaxPooling1D,MaxPooling2D, Flatten,Dense,Dropout"
   ]
  },
  {
   "cell_type": "code",
   "execution_count": 125,
   "id": "9a19e293",
   "metadata": {},
   "outputs": [
    {
     "data": {
      "text/html": [
       "<div>\n",
       "<style scoped>\n",
       "    .dataframe tbody tr th:only-of-type {\n",
       "        vertical-align: middle;\n",
       "    }\n",
       "\n",
       "    .dataframe tbody tr th {\n",
       "        vertical-align: top;\n",
       "    }\n",
       "\n",
       "    .dataframe thead th {\n",
       "        text-align: right;\n",
       "    }\n",
       "</style>\n",
       "<table border=\"1\" class=\"dataframe\">\n",
       "  <thead>\n",
       "    <tr style=\"text-align: right;\">\n",
       "      <th></th>\n",
       "      <th>patient</th>\n",
       "      <th>time</th>\n",
       "      <th>label</th>\n",
       "      <th>epoch</th>\n",
       "      <th>EEG-Fz</th>\n",
       "      <th>EEG-0</th>\n",
       "      <th>EEG-1</th>\n",
       "      <th>EEG-2</th>\n",
       "      <th>EEG-3</th>\n",
       "      <th>EEG-4</th>\n",
       "      <th>...</th>\n",
       "      <th>EEG-8</th>\n",
       "      <th>EEG-9</th>\n",
       "      <th>EEG-10</th>\n",
       "      <th>EEG-11</th>\n",
       "      <th>EEG-12</th>\n",
       "      <th>EEG-13</th>\n",
       "      <th>EEG-14</th>\n",
       "      <th>EEG-Pz</th>\n",
       "      <th>EEG-15</th>\n",
       "      <th>EEG-16</th>\n",
       "    </tr>\n",
       "  </thead>\n",
       "  <tbody>\n",
       "    <tr>\n",
       "      <th>0</th>\n",
       "      <td>2</td>\n",
       "      <td>-0.100</td>\n",
       "      <td>left</td>\n",
       "      <td>8</td>\n",
       "      <td>-6.473483</td>\n",
       "      <td>-0.150240</td>\n",
       "      <td>-2.281776</td>\n",
       "      <td>-1.853591</td>\n",
       "      <td>-2.907151</td>\n",
       "      <td>-0.644156</td>\n",
       "      <td>...</td>\n",
       "      <td>-1.051683</td>\n",
       "      <td>5.478140</td>\n",
       "      <td>1.271409</td>\n",
       "      <td>2.882737</td>\n",
       "      <td>-0.796274</td>\n",
       "      <td>-1.365309</td>\n",
       "      <td>0.435697</td>\n",
       "      <td>0.366211</td>\n",
       "      <td>-0.153996</td>\n",
       "      <td>0.371845</td>\n",
       "    </tr>\n",
       "    <tr>\n",
       "      <th>1</th>\n",
       "      <td>2</td>\n",
       "      <td>-0.096</td>\n",
       "      <td>left</td>\n",
       "      <td>8</td>\n",
       "      <td>-4.256242</td>\n",
       "      <td>-1.643937</td>\n",
       "      <td>-2.896566</td>\n",
       "      <td>-4.030881</td>\n",
       "      <td>-1.422333</td>\n",
       "      <td>1.133632</td>\n",
       "      <td>...</td>\n",
       "      <td>7.464386</td>\n",
       "      <td>0.566475</td>\n",
       "      <td>0.607791</td>\n",
       "      <td>-0.759397</td>\n",
       "      <td>0.542060</td>\n",
       "      <td>1.437869</td>\n",
       "      <td>0.943954</td>\n",
       "      <td>0.972124</td>\n",
       "      <td>0.403088</td>\n",
       "      <td>0.196508</td>\n",
       "    </tr>\n",
       "    <tr>\n",
       "      <th>2</th>\n",
       "      <td>2</td>\n",
       "      <td>-0.092</td>\n",
       "      <td>left</td>\n",
       "      <td>8</td>\n",
       "      <td>-2.624939</td>\n",
       "      <td>-3.186462</td>\n",
       "      <td>-3.413701</td>\n",
       "      <td>-1.715984</td>\n",
       "      <td>-0.962904</td>\n",
       "      <td>2.569623</td>\n",
       "      <td>...</td>\n",
       "      <td>-2.476576</td>\n",
       "      <td>1.221215</td>\n",
       "      <td>-1.081219</td>\n",
       "      <td>0.725422</td>\n",
       "      <td>2.075707</td>\n",
       "      <td>2.776203</td>\n",
       "      <td>2.624085</td>\n",
       "      <td>1.773349</td>\n",
       "      <td>2.376188</td>\n",
       "      <td>1.778983</td>\n",
       "    </tr>\n",
       "    <tr>\n",
       "      <th>3</th>\n",
       "      <td>2</td>\n",
       "      <td>-0.088</td>\n",
       "      <td>left</td>\n",
       "      <td>8</td>\n",
       "      <td>0.959490</td>\n",
       "      <td>-2.873518</td>\n",
       "      <td>-1.098804</td>\n",
       "      <td>-2.379603</td>\n",
       "      <td>2.816836</td>\n",
       "      <td>0.099364</td>\n",
       "      <td>...</td>\n",
       "      <td>0.375430</td>\n",
       "      <td>-0.907247</td>\n",
       "      <td>1.331335</td>\n",
       "      <td>-2.037806</td>\n",
       "      <td>0.484355</td>\n",
       "      <td>1.282507</td>\n",
       "      <td>0.642107</td>\n",
       "      <td>0.181996</td>\n",
       "      <td>1.126632</td>\n",
       "      <td>0.675911</td>\n",
       "    </tr>\n",
       "    <tr>\n",
       "      <th>4</th>\n",
       "      <td>2</td>\n",
       "      <td>-0.084</td>\n",
       "      <td>left</td>\n",
       "      <td>8</td>\n",
       "      <td>-0.480940</td>\n",
       "      <td>0.178240</td>\n",
       "      <td>-1.513843</td>\n",
       "      <td>0.281530</td>\n",
       "      <td>-0.820859</td>\n",
       "      <td>2.223387</td>\n",
       "      <td>...</td>\n",
       "      <td>2.450626</td>\n",
       "      <td>-0.101583</td>\n",
       "      <td>-1.427454</td>\n",
       "      <td>-0.548548</td>\n",
       "      <td>0.020487</td>\n",
       "      <td>0.672155</td>\n",
       "      <td>-0.358870</td>\n",
       "      <td>-1.356090</td>\n",
       "      <td>-0.264969</td>\n",
       "      <td>-1.448112</td>\n",
       "    </tr>\n",
       "    <tr>\n",
       "      <th>...</th>\n",
       "      <td>...</td>\n",
       "      <td>...</td>\n",
       "      <td>...</td>\n",
       "      <td>...</td>\n",
       "      <td>...</td>\n",
       "      <td>...</td>\n",
       "      <td>...</td>\n",
       "      <td>...</td>\n",
       "      <td>...</td>\n",
       "      <td>...</td>\n",
       "      <td>...</td>\n",
       "      <td>...</td>\n",
       "      <td>...</td>\n",
       "      <td>...</td>\n",
       "      <td>...</td>\n",
       "      <td>...</td>\n",
       "      <td>...</td>\n",
       "      <td>...</td>\n",
       "      <td>...</td>\n",
       "      <td>...</td>\n",
       "      <td>...</td>\n",
       "    </tr>\n",
       "    <tr>\n",
       "      <th>57883</th>\n",
       "      <td>2</td>\n",
       "      <td>0.684</td>\n",
       "      <td>foot</td>\n",
       "      <td>605</td>\n",
       "      <td>-1.144729</td>\n",
       "      <td>-2.900664</td>\n",
       "      <td>1.125779</td>\n",
       "      <td>0.598059</td>\n",
       "      <td>2.954955</td>\n",
       "      <td>-6.517701</td>\n",
       "      <td>...</td>\n",
       "      <td>-4.528894</td>\n",
       "      <td>0.583035</td>\n",
       "      <td>3.108952</td>\n",
       "      <td>1.985905</td>\n",
       "      <td>-1.090267</td>\n",
       "      <td>-3.462187</td>\n",
       "      <td>3.711791</td>\n",
       "      <td>4.290217</td>\n",
       "      <td>3.242290</td>\n",
       "      <td>7.293146</td>\n",
       "    </tr>\n",
       "    <tr>\n",
       "      <th>57884</th>\n",
       "      <td>2</td>\n",
       "      <td>0.688</td>\n",
       "      <td>foot</td>\n",
       "      <td>605</td>\n",
       "      <td>0.677448</td>\n",
       "      <td>0.239872</td>\n",
       "      <td>1.922565</td>\n",
       "      <td>4.519845</td>\n",
       "      <td>0.626741</td>\n",
       "      <td>-3.718962</td>\n",
       "      <td>...</td>\n",
       "      <td>-14.278983</td>\n",
       "      <td>2.258728</td>\n",
       "      <td>2.294410</td>\n",
       "      <td>3.368628</td>\n",
       "      <td>-2.588403</td>\n",
       "      <td>-4.667354</td>\n",
       "      <td>2.457796</td>\n",
       "      <td>2.743253</td>\n",
       "      <td>1.890639</td>\n",
       "      <td>4.281339</td>\n",
       "    </tr>\n",
       "    <tr>\n",
       "      <th>57885</th>\n",
       "      <td>2</td>\n",
       "      <td>0.692</td>\n",
       "      <td>foot</td>\n",
       "      <td>605</td>\n",
       "      <td>-0.057194</td>\n",
       "      <td>-1.031878</td>\n",
       "      <td>1.480892</td>\n",
       "      <td>3.736376</td>\n",
       "      <td>0.722178</td>\n",
       "      <td>-4.893056</td>\n",
       "      <td>...</td>\n",
       "      <td>0.025438</td>\n",
       "      <td>2.158852</td>\n",
       "      <td>2.194534</td>\n",
       "      <td>3.122268</td>\n",
       "      <td>-2.688279</td>\n",
       "      <td>-4.816058</td>\n",
       "      <td>-0.278798</td>\n",
       "      <td>0.397283</td>\n",
       "      <td>-0.162362</td>\n",
       "      <td>1.398260</td>\n",
       "    </tr>\n",
       "    <tr>\n",
       "      <th>57886</th>\n",
       "      <td>2</td>\n",
       "      <td>0.696</td>\n",
       "      <td>foot</td>\n",
       "      <td>605</td>\n",
       "      <td>2.020221</td>\n",
       "      <td>-1.200557</td>\n",
       "      <td>4.095416</td>\n",
       "      <td>2.981759</td>\n",
       "      <td>1.920687</td>\n",
       "      <td>-6.624235</td>\n",
       "      <td>...</td>\n",
       "      <td>-1.266287</td>\n",
       "      <td>0.818298</td>\n",
       "      <td>3.393043</td>\n",
       "      <td>0.512183</td>\n",
       "      <td>-2.026879</td>\n",
       "      <td>-3.666378</td>\n",
       "      <td>-0.593962</td>\n",
       "      <td>0.716886</td>\n",
       "      <td>-0.477525</td>\n",
       "      <td>0.155362</td>\n",
       "    </tr>\n",
       "    <tr>\n",
       "      <th>57887</th>\n",
       "      <td>2</td>\n",
       "      <td>0.700</td>\n",
       "      <td>foot</td>\n",
       "      <td>605</td>\n",
       "      <td>3.871251</td>\n",
       "      <td>1.627035</td>\n",
       "      <td>5.067540</td>\n",
       "      <td>5.614039</td>\n",
       "      <td>1.476795</td>\n",
       "      <td>-6.335705</td>\n",
       "      <td>...</td>\n",
       "      <td>-15.186742</td>\n",
       "      <td>2.229875</td>\n",
       "      <td>3.535088</td>\n",
       "      <td>1.826104</td>\n",
       "      <td>-2.080146</td>\n",
       "      <td>-5.282145</td>\n",
       "      <td>0.182849</td>\n",
       "      <td>1.298384</td>\n",
       "      <td>-0.140167</td>\n",
       "      <td>0.688033</td>\n",
       "    </tr>\n",
       "  </tbody>\n",
       "</table>\n",
       "<p>57888 rows × 26 columns</p>\n",
       "</div>"
      ],
      "text/plain": [
       "       patient   time label  epoch    EEG-Fz     EEG-0     EEG-1     EEG-2  \\\n",
       "0            2 -0.100  left      8 -6.473483 -0.150240 -2.281776 -1.853591   \n",
       "1            2 -0.096  left      8 -4.256242 -1.643937 -2.896566 -4.030881   \n",
       "2            2 -0.092  left      8 -2.624939 -3.186462 -3.413701 -1.715984   \n",
       "3            2 -0.088  left      8  0.959490 -2.873518 -1.098804 -2.379603   \n",
       "4            2 -0.084  left      8 -0.480940  0.178240 -1.513843  0.281530   \n",
       "...        ...    ...   ...    ...       ...       ...       ...       ...   \n",
       "57883        2  0.684  foot    605 -1.144729 -2.900664  1.125779  0.598059   \n",
       "57884        2  0.688  foot    605  0.677448  0.239872  1.922565  4.519845   \n",
       "57885        2  0.692  foot    605 -0.057194 -1.031878  1.480892  3.736376   \n",
       "57886        2  0.696  foot    605  2.020221 -1.200557  4.095416  2.981759   \n",
       "57887        2  0.700  foot    605  3.871251  1.627035  5.067540  5.614039   \n",
       "\n",
       "          EEG-3     EEG-4  ...      EEG-8     EEG-9    EEG-10    EEG-11  \\\n",
       "0     -2.907151 -0.644156  ...  -1.051683  5.478140  1.271409  2.882737   \n",
       "1     -1.422333  1.133632  ...   7.464386  0.566475  0.607791 -0.759397   \n",
       "2     -0.962904  2.569623  ...  -2.476576  1.221215 -1.081219  0.725422   \n",
       "3      2.816836  0.099364  ...   0.375430 -0.907247  1.331335 -2.037806   \n",
       "4     -0.820859  2.223387  ...   2.450626 -0.101583 -1.427454 -0.548548   \n",
       "...         ...       ...  ...        ...       ...       ...       ...   \n",
       "57883  2.954955 -6.517701  ...  -4.528894  0.583035  3.108952  1.985905   \n",
       "57884  0.626741 -3.718962  ... -14.278983  2.258728  2.294410  3.368628   \n",
       "57885  0.722178 -4.893056  ...   0.025438  2.158852  2.194534  3.122268   \n",
       "57886  1.920687 -6.624235  ...  -1.266287  0.818298  3.393043  0.512183   \n",
       "57887  1.476795 -6.335705  ... -15.186742  2.229875  3.535088  1.826104   \n",
       "\n",
       "         EEG-12    EEG-13    EEG-14    EEG-Pz    EEG-15    EEG-16  \n",
       "0     -0.796274 -1.365309  0.435697  0.366211 -0.153996  0.371845  \n",
       "1      0.542060  1.437869  0.943954  0.972124  0.403088  0.196508  \n",
       "2      2.075707  2.776203  2.624085  1.773349  2.376188  1.778983  \n",
       "3      0.484355  1.282507  0.642107  0.181996  1.126632  0.675911  \n",
       "4      0.020487  0.672155 -0.358870 -1.356090 -0.264969 -1.448112  \n",
       "...         ...       ...       ...       ...       ...       ...  \n",
       "57883 -1.090267 -3.462187  3.711791  4.290217  3.242290  7.293146  \n",
       "57884 -2.588403 -4.667354  2.457796  2.743253  1.890639  4.281339  \n",
       "57885 -2.688279 -4.816058 -0.278798  0.397283 -0.162362  1.398260  \n",
       "57886 -2.026879 -3.666378 -0.593962  0.716886 -0.477525  0.155362  \n",
       "57887 -2.080146 -5.282145  0.182849  1.298384 -0.140167  0.688033  \n",
       "\n",
       "[57888 rows x 26 columns]"
      ]
     },
     "execution_count": 125,
     "metadata": {},
     "output_type": "execute_result"
    }
   ],
   "source": [
    "data = pd.read_csv(\"BCICIV_2a_2.csv\", delimiter=\",\")\n",
    "data"
   ]
  },
  {
   "cell_type": "code",
   "execution_count": 126,
   "id": "f413cad6",
   "metadata": {},
   "outputs": [],
   "source": [
    "#features separation\n",
    "X = data.iloc[:, 4:].values  # EEG signals\n",
    "y = data['label'].values     # Motor imagery classes"
   ]
  },
  {
   "cell_type": "code",
   "execution_count": 127,
   "id": "33598f00",
   "metadata": {},
   "outputs": [],
   "source": [
    "# Convert labels to numerical values (0 for 'left', 1 for 'right')\n",
    "label_encoder = LabelEncoder()\n",
    "y = label_encoder.fit_transform(y)"
   ]
  },
  {
   "cell_type": "code",
   "execution_count": 128,
   "id": "ed534269",
   "metadata": {},
   "outputs": [
    {
     "data": {
      "text/plain": [
       "array([1, 1, 1, ..., 0, 0, 0])"
      ]
     },
     "execution_count": 128,
     "metadata": {},
     "output_type": "execute_result"
    }
   ],
   "source": [
    "y"
   ]
  },
  {
   "cell_type": "code",
   "execution_count": 129,
   "id": "bae64746",
   "metadata": {},
   "outputs": [],
   "source": [
    "# Split the dataset into training, validation, and test sets\n",
    "X_train, X_temp, y_train, y_temp = train_test_split(X, y, test_size=0.3, random_state=42)\n",
    "X_val, X_test, y_val, y_test = train_test_split(X_temp, y_temp, test_size=0.5, random_state=42)"
   ]
  },
  {
   "cell_type": "code",
   "execution_count": 130,
   "id": "90931fd1",
   "metadata": {},
   "outputs": [],
   "source": [
    "# Normalize the features to have zero mean and unit variance\n",
    "scaler = StandardScaler()\n",
    "X_train = scaler.fit_transform(X_train)\n",
    "X_val = scaler.transform(X_val)\n",
    "X_test = scaler.transform(X_test)\n"
   ]
  },
  {
   "cell_type": "code",
   "execution_count": 164,
   "id": "f3c5ff88",
   "metadata": {},
   "outputs": [],
   "source": [
    "# Step 4: Reshape the data for CNN (assuming EEG channels as 1D sequences)\n",
    "num_channels = 2  # Number of EEG channels\n",
    "num_time_points = X.shape[1] // num_channels\n",
    "X_train = X_train.reshape(-1, num_channels, num_time_points, 1)\n",
    "X_val = X_val.reshape(-1, num_channels, num_time_points, 1)\n",
    "X_test = X_test.reshape(-1, num_channels, num_time_points, 1)\n"
   ]
  },
  {
   "cell_type": "code",
   "execution_count": 165,
   "id": "b661becc",
   "metadata": {},
   "outputs": [
    {
     "name": "stdout",
     "output_type": "stream",
     "text": [
      "11\n"
     ]
    }
   ],
   "source": [
    "print(num_time_points)"
   ]
  },
  {
   "cell_type": "code",
   "execution_count": 179,
   "id": "ecee18c4",
   "metadata": {
    "scrolled": false
   },
   "outputs": [],
   "source": [
    "# Step 5: Build the CNN Model\n",
    "model = Sequential()\n",
    "#model.add(Conv1D(filters=32, kernel_size=3, activation='relu', input_shape=(X_train.shape[1], 1)),padding='same')\n",
    "#model.add(MaxPooling1D(pool_size=2),padding='same')\n",
    "model.add(Conv2D(32, kernel_size=(3, 3), activation='relu', input_shape=(num_channels, num_time_points, 1), padding='same'))\n",
    "model.add(MaxPooling2D(pool_size=(2, 2), padding='same'))\n",
    "model.add(Dropout(0.25))\n",
    "model.add(Flatten())\n",
    "model.add(Dense(128, activation='relu'))\n",
    "model.add(Dropout(0.5))\n",
    "model.add(Dense(1, activation='sigmoid'))  # Binary classification (left vs. right)"
   ]
  },
  {
   "cell_type": "code",
   "execution_count": 180,
   "id": "e8d35de4",
   "metadata": {},
   "outputs": [],
   "source": [
    "# Step 6: Model Compilation\n",
    "model.compile(optimizer='adam', loss='binary_crossentropy', metrics=['accuracy'])\n"
   ]
  },
  {
   "cell_type": "code",
   "execution_count": 181,
   "id": "904f4d4c",
   "metadata": {
    "scrolled": false
   },
   "outputs": [
    {
     "name": "stdout",
     "output_type": "stream",
     "text": [
      "Epoch 1/20\n",
      "5/5 [==============================] - 1s 105ms/step - loss: 0.3766 - accuracy: 0.2488 - val_loss: -0.2971 - val_accuracy: 0.2500\n",
      "Epoch 2/20\n",
      "5/5 [==============================] - 0s 82ms/step - loss: -0.5429 - accuracy: 0.2517 - val_loss: -1.1654 - val_accuracy: 0.2500\n",
      "Epoch 3/20\n",
      "5/5 [==============================] - 0s 82ms/step - loss: -1.4089 - accuracy: 0.2517 - val_loss: -2.1161 - val_accuracy: 0.2500\n",
      "Epoch 4/20\n",
      "5/5 [==============================] - 0s 90ms/step - loss: -2.3883 - accuracy: 0.2517 - val_loss: -3.2778 - val_accuracy: 0.2500\n",
      "Epoch 5/20\n",
      "5/5 [==============================] - 0s 82ms/step - loss: -3.6286 - accuracy: 0.2517 - val_loss: -4.7495 - val_accuracy: 0.2500\n",
      "Epoch 6/20\n",
      "5/5 [==============================] - 0s 81ms/step - loss: -5.1885 - accuracy: 0.2517 - val_loss: -6.6263 - val_accuracy: 0.2500\n",
      "Epoch 7/20\n",
      "5/5 [==============================] - 0s 80ms/step - loss: -7.1573 - accuracy: 0.2517 - val_loss: -9.0105 - val_accuracy: 0.2500\n",
      "Epoch 8/20\n",
      "5/5 [==============================] - 0s 81ms/step - loss: -9.6751 - accuracy: 0.2517 - val_loss: -12.0022 - val_accuracy: 0.2500\n",
      "Epoch 9/20\n",
      "5/5 [==============================] - 0s 81ms/step - loss: -12.8085 - accuracy: 0.2517 - val_loss: -15.7103 - val_accuracy: 0.2500\n",
      "Epoch 10/20\n",
      "5/5 [==============================] - 0s 84ms/step - loss: -16.7427 - accuracy: 0.2517 - val_loss: -20.2723 - val_accuracy: 0.2500\n",
      "Epoch 11/20\n",
      "5/5 [==============================] - 0s 86ms/step - loss: -21.5134 - accuracy: 0.2517 - val_loss: -25.8109 - val_accuracy: 0.2500\n",
      "Epoch 12/20\n",
      "5/5 [==============================] - 0s 89ms/step - loss: -27.2460 - accuracy: 0.2517 - val_loss: -32.4972 - val_accuracy: 0.2500\n",
      "Epoch 13/20\n",
      "5/5 [==============================] - 0s 92ms/step - loss: -34.1380 - accuracy: 0.2517 - val_loss: -40.5110 - val_accuracy: 0.2500\n",
      "Epoch 14/20\n",
      "5/5 [==============================] - 0s 90ms/step - loss: -42.3296 - accuracy: 0.2517 - val_loss: -49.9434 - val_accuracy: 0.2500\n",
      "Epoch 15/20\n",
      "5/5 [==============================] - 0s 90ms/step - loss: -52.1115 - accuracy: 0.2517 - val_loss: -61.0331 - val_accuracy: 0.2500\n",
      "Epoch 16/20\n",
      "5/5 [==============================] - 0s 90ms/step - loss: -63.5290 - accuracy: 0.2517 - val_loss: -73.8494 - val_accuracy: 0.2500\n",
      "Epoch 17/20\n",
      "5/5 [==============================] - 0s 91ms/step - loss: -76.6482 - accuracy: 0.2517 - val_loss: -88.6663 - val_accuracy: 0.2500\n",
      "Epoch 18/20\n",
      "5/5 [==============================] - 0s 91ms/step - loss: -91.2490 - accuracy: 0.2517 - val_loss: -105.6620 - val_accuracy: 0.2500\n",
      "Epoch 19/20\n",
      "5/5 [==============================] - 0s 89ms/step - loss: -108.9359 - accuracy: 0.2517 - val_loss: -125.0518 - val_accuracy: 0.2500\n",
      "Epoch 20/20\n",
      "5/5 [==============================] - 0s 96ms/step - loss: -129.0033 - accuracy: 0.2517 - val_loss: -146.9829 - val_accuracy: 0.2500\n"
     ]
    }
   ],
   "source": [
    "# Step 7: Model Training\n",
    "epochs = 20\n",
    "batch_size = 10000\n",
    "history = model.fit(X_train, y_train, epochs=epochs, batch_size=batch_size, validation_data=(X_val, y_val))\n"
   ]
  },
  {
   "cell_type": "code",
   "execution_count": 182,
   "id": "028ff21e",
   "metadata": {},
   "outputs": [
    {
     "name": "stdout",
     "output_type": "stream",
     "text": [
      "272/272 [==============================] - 0s 719us/step - loss: -142.1284 - accuracy: 0.2422\n",
      "Test Loss: -142.1284, Test Accuracy: 0.2422\n"
     ]
    }
   ],
   "source": [
    "# Step 8: Model Evaluation\n",
    "test_loss, test_accuracy = model.evaluate(X_test, y_test)\n",
    "print(f\"Test Loss: {test_loss:.4f}, Test Accuracy: {test_accuracy:.4f}\")"
   ]
  },
  {
   "cell_type": "code",
   "execution_count": 170,
   "id": "303d284b",
   "metadata": {},
   "outputs": [
    {
     "data": {
      "image/png": "[encoded data removed]",
      "text/plain": [
       "<Figure size 432x288 with 1 Axes>"
      ]
     },
     "metadata": {
      "needs_background": "light"
     },
     "output_type": "display_data"
    }
   ],
   "source": [
    "import matplotlib.pyplot as plt\n",
    "# Plot Test Accuracy vs. Epochs\n",
    "plt.plot(history.history['accuracy'], label='Training Accuracy')\n",
    "plt.plot(history.history['val_accuracy'], label='Validation Accuracy')\n",
    "plt.xlabel('Epochs')\n",
    "plt.ylabel('Accuracy')\n",
    "plt.title('Test Accuracy vs. Epochs')\n",
    "plt.legend()\n",
    "plt.show()"
   ]
  },
  {
   "cell_type": "code",
   "execution_count": null,
   "id": "213c6132",
   "metadata": {},
   "outputs": [],
   "source": [
    "import pandas as pd\n",
    "import numpy as np\n",
    "import tensorflow as tf\n",
    "from sklearn.model_selection import train_test_split\n",
    "from sklearn.preprocessing import StandardScaler, LabelEncoder\n",
    "from tensorflow.keras.models import Sequential\n",
    "from tensorflow.keras.layers import LSTM, Dense, Dropout\n",
    "\n",
    "# Step 1: Data Preprocessing\n",
    "# Load the CSV dataset\n",
    "data = pd.read_csv(\"BCICIV_2a_1.csv\")\n",
    "\n",
    "# Separate features (EEG signals) from target labels\n",
    "X = data.iloc[:, 4:].values  # EEG signals\n",
    "y = data['label'].values     # Motor imagery classes\n",
    "\n",
    "# Convert labels to numerical values (0 for 'left', 1 for 'right')\n",
    "label_encoder = LabelEncoder()\n",
    "y = label_encoder.fit_transform(y)\n",
    "\n",
    "# Step 2: Data Splitting\n",
    "# Split the dataset into training, validation, and test sets\n",
    "X_train, X_temp, y_train, y_temp = train_test_split(X, y, test_size=0.3, random_state=42)\n",
    "X_val, X_test, y_val, y_test = train_test_split(X_temp, y_temp, test_size=0.5, random_state=42)\n",
    "\n",
    "# Step 3: Data Normalization\n",
    "# Normalize the features to have zero mean and unit variance\n",
    "scaler = StandardScaler()\n",
    "X_train = scaler.fit_transform(X_train)\n",
    "X_val = scaler.transform(X_val)\n",
    "X_test = scaler.transform(X_test)\n",
    "\n",
    "# Step 4: Reshape the data for LSTM (assuming EEG channels as 1D sequences)\n",
    "num_channels = 2  # Number of EEG channels\n",
    "num_time_points = X.shape[1] // num_channels\n",
    "X_train = X_train.reshape(-1, num_time_points, num_channels)\n",
    "X_val = X_val.reshape(-1, num_time_points, num_channels)\n",
    "X_test = X_test.reshape(-1, num_time_points, num_channels)\n",
    "\n",
    "# Step 5: Build the LSTM Model\n",
    "model = Sequential()\n",
    "model.add(LSTM(64, input_shape=(num_time_points, num_channels)))\n",
    "model.add(Dropout(0.5))\n",
    "model.add(Dense(32, activation='relu'))\n",
    "model.add(Dense(1, activation='sigmoid'))  # Binary classification (left vs. right)\n",
    "\n",
    "# Step 6: Model Compilation\n",
    "model.compile(optimizer='adam', loss='binary_crossentropy', metrics=['accuracy'])\n",
    "\n",
    "# Step 7: Model Training\n",
    "epochs = 44\n",
    "batch_size = 32\n",
    "history = model.fit(X_train, y_train, epochs=epochs, batch_size=batch_size, validation_data=(X_val, y_val))\n",
    "\n",
    "# Step 8: Model Evaluation\n",
    "test_loss, test_accuracy = model.evaluate(X_test, y_test)\n",
    "print(f\"Test Loss: {test_loss:.4f}, Test Accuracy: {test_accuracy:.4f}\")\n"
   ]
  },
  {
   "cell_type": "code",
   "execution_count": 119,
   "id": "25be6299",
   "metadata": {},
   "outputs": [
    {
     "data": {
      "image/png": "[encoded data removed]",
      "text/plain": [
       "<Figure size 432x288 with 1 Axes>"
      ]
     },
     "metadata": {
      "needs_background": "light"
     },
     "output_type": "display_data"
    }
   ],
   "source": [
    "import matplotlib.pyplot as plt\n",
    "# Plot Test Accuracy vs. Epochs\n",
    "plt.plot(history.history['accuracy'], label='Training Accuracy')\n",
    "plt.plot(history.history['val_accuracy'], label='Validation Accuracy')\n",
    "plt.xlabel('Epochs')\n",
    "plt.ylabel('Accuracy')\n",
    "plt.title('Test Accuracy vs. Epochs')\n",
    "plt.legend()\n",
    "plt.show()"
   ]
  },
  {
   "cell_type": "code",
   "execution_count": 120,
   "id": "0db0093e",
   "metadata": {},
   "outputs": [
    {
     "name": "stdout",
     "output_type": "stream",
     "text": [
      "272/272 [==============================] - 0s 955us/step - loss: -377145984.0000 - accuracy: 0.2422\n"
     ]
    },
    {
     "data": {
      "image/png": "[encoded data removed]",
      "text/plain": [
       "<Figure size 432x288 with 1 Axes>"
      ]
     },
     "metadata": {
      "needs_background": "light"
     },
     "output_type": "display_data"
    }
   ],
   "source": [
    "test_accuracy = model.evaluate(X_test, y_test)[1]\n",
    "plt.bar(['Test Accuracy'], [test_accuracy], color='b')\n",
    "plt.ylim(0, 1)\n",
    "plt.ylabel('Accuracy')\n",
    "plt.title('Test Accuracy')\n",
    "plt.show()"
   ]
  },
  {
   "cell_type": "code",
   "execution_count": 121,
   "id": "b21ca4ac",
   "metadata": {},
   "outputs": [
    {
     "name": "stdout",
     "output_type": "stream",
     "text": [
      "272/272 [==============================] - 0s 867us/step - loss: -377145984.0000 - accuracy: 0.2422\n"
     ]
    },
    {
     "data": {
      "image/png": "[encoded data removed]",
      "text/plain": [
       "<Figure size 432x288 with 1 Axes>"
      ]
     },
     "metadata": {
      "needs_background": "light"
     },
     "output_type": "display_data"
    }
   ],
   "source": [
    "train_accuracy = history.history['accuracy'][-1]\n",
    "val_accuracy = history.history['val_accuracy'][-1]\n",
    "test_accuracy = model.evaluate(X_test, y_test)[1]\n",
    "\n",
    "plt.bar(['Training Accuracy', 'Validation Accuracy', 'Test Accuracy'], [train_accuracy, val_accuracy, test_accuracy], color=['r', 'g', 'b'])\n",
    "plt.ylim(0, 1)\n",
    "plt.ylabel('Accuracy')\n",
    "plt.title('Accuracy Comparison')\n",
    "plt.show()"
   ]
  },
  {
   "cell_type": "code",
   "execution_count": 122,
   "id": "564b085e",
   "metadata": {},
   "outputs": [
    {
     "data": {
      "image/png": "[encoded data removed]",
      "text/plain": [
       "<Figure size 432x288 with 1 Axes>"
      ]
     },
     "metadata": {
      "needs_background": "light"
     },
     "output_type": "display_data"
    }
   ],
   "source": [
    "plt.plot(history.history['loss'], label='Training Loss')\n",
    "plt.plot(history.history['val_loss'], label='Validation Loss')\n",
    "plt.xlabel('Epochs')\n",
    "plt.ylabel('Loss')\n",
    "plt.title('Training Loss vs. Validation Loss')\n",
    "plt.legend()\n",
    "plt.grid(True)\n",
    "plt.show()"
   ]
  },
  {
   "cell_type": "code",
   "execution_count": 83,
   "id": "576bbff1",
   "metadata": {},
   "outputs": [],
   "source": [
    "def merge_data(csv_files, columns, output_file):\n",
    "    df = pandas.DataFrame(columns=columns)\n",
    "\n",
    "    for file in csv_files:\n",
    "        df = df.append(pandas.read_csv(file), sort=False)\n",
    "    return df"
   ]
  },
  {
   "cell_type": "code",
   "execution_count": 95,
   "id": "6739b42b",
   "metadata": {},
   "outputs": [
    {
     "ename": "KeyError",
     "evalue": "'label'",
     "output_type": "error",
     "traceback": [
      "\u001b[1;31m---------------------------------------------------------------------------\u001b[0m",
      "\u001b[1;31mKeyError\u001b[0m                                  Traceback (most recent call last)",
      "\u001b[1;32m~\\anaconda3\\lib\\site-packages\\pandas\\core\\indexes\\base.py\u001b[0m in \u001b[0;36mget_loc\u001b[1;34m(self, key)\u001b[0m\n\u001b[0;32m   3652\u001b[0m         \u001b[1;32mtry\u001b[0m\u001b[1;33m:\u001b[0m\u001b[1;33m\u001b[0m\u001b[1;33m\u001b[0m\u001b[0m\n\u001b[1;32m-> 3653\u001b[1;33m             \u001b[1;32mreturn\u001b[0m \u001b[0mself\u001b[0m\u001b[1;33m.\u001b[0m\u001b[0m_engine\u001b[0m\u001b[1;33m.\u001b[0m\u001b[0mget_loc\u001b[0m\u001b[1;33m(\u001b[0m\u001b[0mcasted_key\u001b[0m\u001b[1;33m)\u001b[0m\u001b[1;33m\u001b[0m\u001b[1;33m\u001b[0m\u001b[0m\n\u001b[0m\u001b[0;32m   3654\u001b[0m         \u001b[1;32mexcept\u001b[0m \u001b[0mKeyError\u001b[0m \u001b[1;32mas\u001b[0m \u001b[0merr\u001b[0m\u001b[1;33m:\u001b[0m\u001b[1;33m\u001b[0m\u001b[1;33m\u001b[0m\u001b[0m\n",
      "\u001b[1;32m~\\anaconda3\\lib\\site-packages\\pandas\\_libs\\index.pyx\u001b[0m in \u001b[0;36mpandas._libs.index.IndexEngine.get_loc\u001b[1;34m()\u001b[0m\n",
      "\u001b[1;32m~\\anaconda3\\lib\\site-packages\\pandas\\_libs\\index.pyx\u001b[0m in \u001b[0;36mpandas._libs.index.IndexEngine.get_loc\u001b[1;34m()\u001b[0m\n",
      "\u001b[1;32mpandas\\_libs\\hashtable_class_helper.pxi\u001b[0m in \u001b[0;36mpandas._libs.hashtable.PyObjectHashTable.get_item\u001b[1;34m()\u001b[0m\n",
      "\u001b[1;32mpandas\\_libs\\hashtable_class_helper.pxi\u001b[0m in \u001b[0;36mpandas._libs.hashtable.PyObjectHashTable.get_item\u001b[1;34m()\u001b[0m\n",
      "\u001b[1;31mKeyError\u001b[0m: 'label'",
      "\nThe above exception was the direct cause of the following exception:\n",
      "\u001b[1;31mKeyError\u001b[0m                                  Traceback (most recent call last)",
      "\u001b[1;32m<ipython-input-95-b01ca9ff56c3>\u001b[0m in \u001b[0;36m<module>\u001b[1;34m\u001b[0m\n\u001b[0;32m     13\u001b[0m \u001b[1;31m# Separate features (EEG signals) from target labels\u001b[0m\u001b[1;33m\u001b[0m\u001b[1;33m\u001b[0m\u001b[1;33m\u001b[0m\u001b[0m\n\u001b[0;32m     14\u001b[0m \u001b[0mX\u001b[0m \u001b[1;33m=\u001b[0m \u001b[0mdata\u001b[0m\u001b[1;33m.\u001b[0m\u001b[0miloc\u001b[0m\u001b[1;33m[\u001b[0m\u001b[1;33m:\u001b[0m\u001b[1;33m,\u001b[0m \u001b[1;36m4\u001b[0m\u001b[1;33m:\u001b[0m\u001b[1;33m]\u001b[0m\u001b[1;33m.\u001b[0m\u001b[0mvalues\u001b[0m  \u001b[1;31m# EEG signals\u001b[0m\u001b[1;33m\u001b[0m\u001b[1;33m\u001b[0m\u001b[0m\n\u001b[1;32m---> 15\u001b[1;33m \u001b[0my\u001b[0m \u001b[1;33m=\u001b[0m \u001b[0mdata\u001b[0m\u001b[1;33m[\u001b[0m\u001b[1;34m'label'\u001b[0m\u001b[1;33m]\u001b[0m\u001b[1;33m.\u001b[0m\u001b[0mvalues\u001b[0m     \u001b[1;31m# Motor imagery classes\u001b[0m\u001b[1;33m\u001b[0m\u001b[1;33m\u001b[0m\u001b[0m\n\u001b[0m\u001b[0;32m     16\u001b[0m \u001b[1;33m\u001b[0m\u001b[0m\n\u001b[0;32m     17\u001b[0m \u001b[1;31m# Convert labels to numerical values (0 for 'left', 1 for 'right')\u001b[0m\u001b[1;33m\u001b[0m\u001b[1;33m\u001b[0m\u001b[1;33m\u001b[0m\u001b[0m\n",
      "\u001b[1;32m~\\anaconda3\\lib\\site-packages\\pandas\\core\\frame.py\u001b[0m in \u001b[0;36m__getitem__\u001b[1;34m(self, key)\u001b[0m\n\u001b[0;32m   3759\u001b[0m             \u001b[1;32mif\u001b[0m \u001b[0mself\u001b[0m\u001b[1;33m.\u001b[0m\u001b[0mcolumns\u001b[0m\u001b[1;33m.\u001b[0m\u001b[0mnlevels\u001b[0m \u001b[1;33m>\u001b[0m \u001b[1;36m1\u001b[0m\u001b[1;33m:\u001b[0m\u001b[1;33m\u001b[0m\u001b[1;33m\u001b[0m\u001b[0m\n\u001b[0;32m   3760\u001b[0m                 \u001b[1;32mreturn\u001b[0m \u001b[0mself\u001b[0m\u001b[1;33m.\u001b[0m\u001b[0m_getitem_multilevel\u001b[0m\u001b[1;33m(\u001b[0m\u001b[0mkey\u001b[0m\u001b[1;33m)\u001b[0m\u001b[1;33m\u001b[0m\u001b[1;33m\u001b[0m\u001b[0m\n\u001b[1;32m-> 3761\u001b[1;33m             \u001b[0mindexer\u001b[0m \u001b[1;33m=\u001b[0m \u001b[0mself\u001b[0m\u001b[1;33m.\u001b[0m\u001b[0mcolumns\u001b[0m\u001b[1;33m.\u001b[0m\u001b[0mget_loc\u001b[0m\u001b[1;33m(\u001b[0m\u001b[0mkey\u001b[0m\u001b[1;33m)\u001b[0m\u001b[1;33m\u001b[0m\u001b[1;33m\u001b[0m\u001b[0m\n\u001b[0m\u001b[0;32m   3762\u001b[0m             \u001b[1;32mif\u001b[0m \u001b[0mis_integer\u001b[0m\u001b[1;33m(\u001b[0m\u001b[0mindexer\u001b[0m\u001b[1;33m)\u001b[0m\u001b[1;33m:\u001b[0m\u001b[1;33m\u001b[0m\u001b[1;33m\u001b[0m\u001b[0m\n\u001b[0;32m   3763\u001b[0m                 \u001b[0mindexer\u001b[0m \u001b[1;33m=\u001b[0m \u001b[1;33m[\u001b[0m\u001b[0mindexer\u001b[0m\u001b[1;33m]\u001b[0m\u001b[1;33m\u001b[0m\u001b[1;33m\u001b[0m\u001b[0m\n",
      "\u001b[1;32m~\\anaconda3\\lib\\site-packages\\pandas\\core\\indexes\\base.py\u001b[0m in \u001b[0;36mget_loc\u001b[1;34m(self, key)\u001b[0m\n\u001b[0;32m   3653\u001b[0m             \u001b[1;32mreturn\u001b[0m \u001b[0mself\u001b[0m\u001b[1;33m.\u001b[0m\u001b[0m_engine\u001b[0m\u001b[1;33m.\u001b[0m\u001b[0mget_loc\u001b[0m\u001b[1;33m(\u001b[0m\u001b[0mcasted_key\u001b[0m\u001b[1;33m)\u001b[0m\u001b[1;33m\u001b[0m\u001b[1;33m\u001b[0m\u001b[0m\n\u001b[0;32m   3654\u001b[0m         \u001b[1;32mexcept\u001b[0m \u001b[0mKeyError\u001b[0m \u001b[1;32mas\u001b[0m \u001b[0merr\u001b[0m\u001b[1;33m:\u001b[0m\u001b[1;33m\u001b[0m\u001b[1;33m\u001b[0m\u001b[0m\n\u001b[1;32m-> 3655\u001b[1;33m             \u001b[1;32mraise\u001b[0m \u001b[0mKeyError\u001b[0m\u001b[1;33m(\u001b[0m\u001b[0mkey\u001b[0m\u001b[1;33m)\u001b[0m \u001b[1;32mfrom\u001b[0m \u001b[0merr\u001b[0m\u001b[1;33m\u001b[0m\u001b[1;33m\u001b[0m\u001b[0m\n\u001b[0m\u001b[0;32m   3656\u001b[0m         \u001b[1;32mexcept\u001b[0m \u001b[0mTypeError\u001b[0m\u001b[1;33m:\u001b[0m\u001b[1;33m\u001b[0m\u001b[1;33m\u001b[0m\u001b[0m\n\u001b[0;32m   3657\u001b[0m             \u001b[1;31m# If we have a listlike key, _check_indexing_error will raise\u001b[0m\u001b[1;33m\u001b[0m\u001b[1;33m\u001b[0m\u001b[1;33m\u001b[0m\u001b[0m\n",
      "\u001b[1;31mKeyError\u001b[0m: 'label'"
     ]
    }
   ],
   "source": [
    "import pandas as pd\n",
    "import numpy as np\n",
    "import tensorflow as tf\n",
    "from sklearn.model_selection import train_test_split\n",
    "from sklearn.preprocessing import StandardScaler, LabelEncoder\n",
    "from tensorflow.keras.models import Sequential\n",
    "from tensorflow.keras.layers import LSTM, Dense, Dropout\n",
    "\n",
    "# Step 1: Data Preprocessing\n",
    "# Load the CSV dataset\n",
    "data = pd.read_csv(\"BCICIV_2a_all_patients.csv\")\n",
    "\n",
    "# Separate features (EEG signals) from target labels\n",
    "X = data.iloc[:, 4:].values  # EEG signals\n",
    "y = data['label'].values     # Motor imagery classes\n",
    "\n",
    "# Convert labels to numerical values (0 for 'left', 1 for 'right')\n",
    "label_encoder = LabelEncoder()\n",
    "y = label_encoder.fit_transform(y)\n",
    "\n",
    "# Step 2: Data Splitting\n",
    "# Split the dataset into training, validation, and test sets\n",
    "X_train, X_temp, y_train, y_temp = train_test_split(X, y, test_size=0.3, random_state=42)\n",
    "X_val, X_test, y_val, y_test = train_test_split(X_temp, y_temp, test_size=0.5, random_state=42)\n",
    "\n",
    "# Step 3: Data Normalization\n",
    "# Normalize the features to have zero mean and unit variance\n",
    "scaler = StandardScaler()\n",
    "X_train = scaler.fit_transform(X_train)\n",
    "X_val = scaler.transform(X_val)\n",
    "X_test = scaler.transform(X_test)\n",
    "\n",
    "# Step 4: Reshape the data for LSTM (assuming EEG channels as 1D sequences)\n",
    "num_channels = 2  # Number of EEG channels\n",
    "num_time_points = X.shape[1] // num_channels\n",
    "X_train = X_train.reshape(-1, num_time_points, num_channels)\n",
    "X_val = X_val.reshape(-1, num_time_points, num_channels)\n",
    "X_test = X_test.reshape(-1, num_time_points, num_channels)\n",
    "\n",
    "# Step 5: Build the LSTM Model\n",
    "model = Sequential()\n",
    "model.add(LSTM(64, input_shape=(num_time_points, num_channels)))\n",
    "model.add(Dropout(0.5))\n",
    "model.add(Dense(32, activation='relu'))\n",
    "model.add(Dense(1, activation='sigmoid'))  # Binary classification (left vs. right)\n",
    "\n",
    "# Step 6: Model Compilation\n",
    "model.compile(optimizer='adam', loss='binary_crossentropy', metrics=['accuracy'])\n",
    "\n",
    "# Step 7: Model Training\n",
    "epochs = 20\n",
    "batch_size = 32\n",
    "history = model.fit(X_train, y_train, epochs=epochs, batch_size=batch_size, validation_data=(X_val, y_val))\n",
    "\n",
    "# Step 8: Model Evaluation\n",
    "test_loss, test_accuracy = model.evaluate(X_test, y_test)\n",
    "print(f\"Test Loss: {test_loss:.4f}, Test Accuracy: {test_accuracy:.4f}\")\n"
   ]
  },
  {
   "cell_type": "code",
   "execution_count": null,
   "id": "11e83545",
   "metadata": {},
   "outputs": [],
   "source": []
  }
 ],
 "metadata": {
  "kernelspec": {
   "display_name": "Python 3",
   "language": "python",
   "name": "python3"
  },
  "language_info": {
   "codemirror_mode": {
    "name": "ipython",
    "version": 3
   },
   "file_extension": ".py",
   "mimetype": "text/x-python",
   "name": "python",
   "nbconvert_exporter": "python",
   "pygments_lexer": "ipython3",
   "version": "3.8.8"
  }
 },
 "nbformat": 4,
 "nbformat_minor": 5
}
