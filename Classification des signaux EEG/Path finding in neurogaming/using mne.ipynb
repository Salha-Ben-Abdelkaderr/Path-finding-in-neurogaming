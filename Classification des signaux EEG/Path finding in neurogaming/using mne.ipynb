{
 "cells": [
  {
   "cell_type": "code",
   "execution_count": 1,
   "id": "de6f7259",
   "metadata": {},
   "outputs": [],
   "source": [
    "import zipfile as zf\n",
    "files = zf.ZipFile(\"BCICIV_2b_gdf.zip\", 'r')\n",
    "files.extractall('Path finfing in neurogaming')\n",
    "files.close()"
   ]
  },
  {
   "cell_type": "code",
   "execution_count": 9,
   "id": "9a904b37",
   "metadata": {},
   "outputs": [
    {
     "name": "stdout",
     "output_type": "stream",
     "text": [
      "Collecting gdflib\n",
      "  Downloading gdflib-0.0.1.tar.gz (4.3 kB)\n",
      "  Preparing metadata (setup.py): started\n",
      "  Preparing metadata (setup.py): finished with status 'done'\n",
      "Building wheels for collected packages: gdflib\n",
      "  Building wheel for gdflib (setup.py): started\n",
      "  Building wheel for gdflib (setup.py): finished with status 'done'\n",
      "  Created wheel for gdflib: filename=gdflib-0.0.1-py3-none-any.whl size=4782 sha256=6c567d7f5d4c829ee03e4b41103d8b6afe102fefc38693329459a10b387ee032\n",
      "  Stored in directory: c:\\users\\21694\\appdata\\local\\pip\\cache\\wheels\\56\\bf\\8a\\d729fbd9f555c7e44e7eb6f00e1d81a5dd55d3e6eda8bc0a3e\n",
      "Successfully built gdflib\n",
      "Installing collected packages: gdflib\n",
      "Successfully installed gdflib-0.0.1\n",
      "Note: you may need to restart the kernel to use updated packages.\n"
     ]
    },
    {
     "name": "stderr",
     "output_type": "stream",
     "text": [
      "DEPRECATION: pyodbc 4.0.0-unsupported has a non-standard version number. pip 23.3 will enforce this behaviour change. A possible replacement is to upgrade to a newer version of pyodbc or contact the author to suggest that they release a version with a conforming version number. Discussion can be found at https://github.com/pypa/pip/issues/12063\n"
     ]
    }
   ],
   "source": [
    "pip install gdflib"
   ]
  },
  {
   "cell_type": "code",
   "execution_count": 8,
   "id": "e487bcf2",
   "metadata": {
    "scrolled": true
   },
   "outputs": [
    {
     "name": "stdout",
     "output_type": "stream",
     "text": [
      "Extracting EDF parameters from C:\\Users\\21694\\Path finding in neurogaming\\Path finding in neurogaming\\BCICIV_2b_gdf\\B0905E.gdf...\n",
      "GDF file detected\n"
     ]
    },
    {
     "ename": "FileNotFoundError",
     "evalue": "[Errno 2] No such file or directory: 'C:\\\\Users\\\\21694\\\\Path finding in neurogaming\\\\Path finding in neurogaming\\\\BCICIV_2b_gdf\\\\B0905E.gdf'",
     "output_type": "error",
     "traceback": [
      "\u001b[1;31m---------------------------------------------------------------------------\u001b[0m",
      "\u001b[1;31mFileNotFoundError\u001b[0m                         Traceback (most recent call last)",
      "\u001b[1;32m<ipython-input-8-6b5dec8c1cf5>\u001b[0m in \u001b[0;36m<module>\u001b[1;34m\u001b[0m\n\u001b[0;32m      5\u001b[0m \u001b[1;33m\u001b[0m\u001b[0m\n\u001b[0;32m      6\u001b[0m \u001b[1;31m# Read the .gdf file using mne\u001b[0m\u001b[1;33m\u001b[0m\u001b[1;33m\u001b[0m\u001b[1;33m\u001b[0m\u001b[0m\n\u001b[1;32m----> 7\u001b[1;33m \u001b[0mraw_data\u001b[0m \u001b[1;33m=\u001b[0m \u001b[0mmne\u001b[0m\u001b[1;33m.\u001b[0m\u001b[0mio\u001b[0m\u001b[1;33m.\u001b[0m\u001b[0mread_raw_gdf\u001b[0m\u001b[1;33m(\u001b[0m\u001b[0mfile_path\u001b[0m\u001b[1;33m,\u001b[0m \u001b[0mpreload\u001b[0m\u001b[1;33m=\u001b[0m\u001b[1;32mTrue\u001b[0m\u001b[1;33m)\u001b[0m\u001b[1;33m\u001b[0m\u001b[1;33m\u001b[0m\u001b[0m\n\u001b[0m\u001b[0;32m      8\u001b[0m \u001b[1;33m\u001b[0m\u001b[0m\n\u001b[0;32m      9\u001b[0m \u001b[1;31m# Get the EEG data (EEG channels only)\u001b[0m\u001b[1;33m\u001b[0m\u001b[1;33m\u001b[0m\u001b[1;33m\u001b[0m\u001b[0m\n",
      "\u001b[1;32m~\\anaconda3\\lib\\site-packages\\mne\\io\\edf\\edf.py\u001b[0m in \u001b[0;36mread_raw_gdf\u001b[1;34m(input_fname, eog, misc, stim_channel, exclude, include, preload, verbose)\u001b[0m\n\u001b[0;32m   1788\u001b[0m     \u001b[1;32mif\u001b[0m \u001b[0mext\u001b[0m \u001b[1;33m!=\u001b[0m \u001b[1;34m\"gdf\"\u001b[0m\u001b[1;33m:\u001b[0m\u001b[1;33m\u001b[0m\u001b[1;33m\u001b[0m\u001b[0m\n\u001b[0;32m   1789\u001b[0m         \u001b[1;32mraise\u001b[0m \u001b[0mNotImplementedError\u001b[0m\u001b[1;33m(\u001b[0m\u001b[1;34mf\"Only BDF files are supported, got {ext}.\"\u001b[0m\u001b[1;33m)\u001b[0m\u001b[1;33m\u001b[0m\u001b[1;33m\u001b[0m\u001b[0m\n\u001b[1;32m-> 1790\u001b[1;33m     return RawGDF(\n\u001b[0m\u001b[0;32m   1791\u001b[0m         \u001b[0minput_fname\u001b[0m\u001b[1;33m=\u001b[0m\u001b[0minput_fname\u001b[0m\u001b[1;33m,\u001b[0m\u001b[1;33m\u001b[0m\u001b[1;33m\u001b[0m\u001b[0m\n\u001b[0;32m   1792\u001b[0m         \u001b[0meog\u001b[0m\u001b[1;33m=\u001b[0m\u001b[0meog\u001b[0m\u001b[1;33m,\u001b[0m\u001b[1;33m\u001b[0m\u001b[1;33m\u001b[0m\u001b[0m\n",
      "\u001b[1;32m<decorator-gen-254>\u001b[0m in \u001b[0;36m__init__\u001b[1;34m(self, input_fname, eog, misc, stim_channel, exclude, preload, include, verbose)\u001b[0m\n",
      "\u001b[1;32m~\\anaconda3\\lib\\site-packages\\mne\\io\\edf\\edf.py\u001b[0m in \u001b[0;36m__init__\u001b[1;34m(self, input_fname, eog, misc, stim_channel, exclude, preload, include, verbose)\u001b[0m\n\u001b[0;32m    290\u001b[0m         \u001b[0mlogger\u001b[0m\u001b[1;33m.\u001b[0m\u001b[0minfo\u001b[0m\u001b[1;33m(\u001b[0m\u001b[1;34m\"Extracting EDF parameters from {}...\"\u001b[0m\u001b[1;33m.\u001b[0m\u001b[0mformat\u001b[0m\u001b[1;33m(\u001b[0m\u001b[0minput_fname\u001b[0m\u001b[1;33m)\u001b[0m\u001b[1;33m)\u001b[0m\u001b[1;33m\u001b[0m\u001b[1;33m\u001b[0m\u001b[0m\n\u001b[0;32m    291\u001b[0m         \u001b[0minput_fname\u001b[0m \u001b[1;33m=\u001b[0m \u001b[0mos\u001b[0m\u001b[1;33m.\u001b[0m\u001b[0mpath\u001b[0m\u001b[1;33m.\u001b[0m\u001b[0mabspath\u001b[0m\u001b[1;33m(\u001b[0m\u001b[0minput_fname\u001b[0m\u001b[1;33m)\u001b[0m\u001b[1;33m\u001b[0m\u001b[1;33m\u001b[0m\u001b[0m\n\u001b[1;32m--> 292\u001b[1;33m         info, edf_info, orig_units = _get_info(\n\u001b[0m\u001b[0;32m    293\u001b[0m             \u001b[0minput_fname\u001b[0m\u001b[1;33m,\u001b[0m \u001b[0mstim_channel\u001b[0m\u001b[1;33m,\u001b[0m \u001b[0meog\u001b[0m\u001b[1;33m,\u001b[0m \u001b[0mmisc\u001b[0m\u001b[1;33m,\u001b[0m \u001b[0mexclude\u001b[0m\u001b[1;33m,\u001b[0m \u001b[1;32mTrue\u001b[0m\u001b[1;33m,\u001b[0m \u001b[0mpreload\u001b[0m\u001b[1;33m,\u001b[0m \u001b[0minclude\u001b[0m\u001b[1;33m\u001b[0m\u001b[1;33m\u001b[0m\u001b[0m\n\u001b[0;32m    294\u001b[0m         )\n",
      "\u001b[1;32m~\\anaconda3\\lib\\site-packages\\mne\\io\\edf\\edf.py\u001b[0m in \u001b[0;36m_get_info\u001b[1;34m(fname, stim_channel, eog, misc, exclude, infer_types, preload, include)\u001b[0m\n\u001b[0;32m    487\u001b[0m     \u001b[0mmisc\u001b[0m \u001b[1;33m=\u001b[0m \u001b[0mmisc\u001b[0m \u001b[1;32mif\u001b[0m \u001b[0mmisc\u001b[0m \u001b[1;32mis\u001b[0m \u001b[1;32mnot\u001b[0m \u001b[1;32mNone\u001b[0m \u001b[1;32melse\u001b[0m \u001b[1;33m[\u001b[0m\u001b[1;33m]\u001b[0m\u001b[1;33m\u001b[0m\u001b[1;33m\u001b[0m\u001b[0m\n\u001b[0;32m    488\u001b[0m \u001b[1;33m\u001b[0m\u001b[0m\n\u001b[1;32m--> 489\u001b[1;33m     \u001b[0medf_info\u001b[0m\u001b[1;33m,\u001b[0m \u001b[0morig_units\u001b[0m \u001b[1;33m=\u001b[0m \u001b[0m_read_header\u001b[0m\u001b[1;33m(\u001b[0m\u001b[0mfname\u001b[0m\u001b[1;33m,\u001b[0m \u001b[0mexclude\u001b[0m\u001b[1;33m,\u001b[0m \u001b[0minfer_types\u001b[0m\u001b[1;33m,\u001b[0m \u001b[0minclude\u001b[0m\u001b[1;33m)\u001b[0m\u001b[1;33m\u001b[0m\u001b[1;33m\u001b[0m\u001b[0m\n\u001b[0m\u001b[0;32m    490\u001b[0m \u001b[1;33m\u001b[0m\u001b[0m\n\u001b[0;32m    491\u001b[0m     \u001b[1;31m# XXX: `tal_ch_names` to pass to `_check_stim_channel` should be computed\u001b[0m\u001b[1;33m\u001b[0m\u001b[1;33m\u001b[0m\u001b[1;33m\u001b[0m\u001b[0m\n",
      "\u001b[1;32m~\\anaconda3\\lib\\site-packages\\mne\\io\\edf\\edf.py\u001b[0m in \u001b[0;36m_read_header\u001b[1;34m(fname, exclude, infer_types, include)\u001b[0m\n\u001b[0;32m    473\u001b[0m         \u001b[1;32mreturn\u001b[0m \u001b[0m_read_edf_header\u001b[0m\u001b[1;33m(\u001b[0m\u001b[0mfname\u001b[0m\u001b[1;33m,\u001b[0m \u001b[0mexclude\u001b[0m\u001b[1;33m,\u001b[0m \u001b[0minfer_types\u001b[0m\u001b[1;33m,\u001b[0m \u001b[0minclude\u001b[0m\u001b[1;33m)\u001b[0m\u001b[1;33m\u001b[0m\u001b[1;33m\u001b[0m\u001b[0m\n\u001b[0;32m    474\u001b[0m     \u001b[1;32melif\u001b[0m \u001b[0mext\u001b[0m \u001b[1;33m==\u001b[0m \u001b[1;34m\"gdf\"\u001b[0m\u001b[1;33m:\u001b[0m\u001b[1;33m\u001b[0m\u001b[1;33m\u001b[0m\u001b[0m\n\u001b[1;32m--> 475\u001b[1;33m         \u001b[1;32mreturn\u001b[0m \u001b[0m_read_gdf_header\u001b[0m\u001b[1;33m(\u001b[0m\u001b[0mfname\u001b[0m\u001b[1;33m,\u001b[0m \u001b[0mexclude\u001b[0m\u001b[1;33m,\u001b[0m \u001b[0minclude\u001b[0m\u001b[1;33m)\u001b[0m\u001b[1;33m,\u001b[0m \u001b[1;32mNone\u001b[0m\u001b[1;33m\u001b[0m\u001b[1;33m\u001b[0m\u001b[0m\n\u001b[0m\u001b[0;32m    476\u001b[0m     \u001b[1;32melse\u001b[0m\u001b[1;33m:\u001b[0m\u001b[1;33m\u001b[0m\u001b[1;33m\u001b[0m\u001b[0m\n\u001b[0;32m    477\u001b[0m         raise NotImplementedError(\n",
      "\u001b[1;32m~\\anaconda3\\lib\\site-packages\\mne\\io\\edf\\edf.py\u001b[0m in \u001b[0;36m_read_gdf_header\u001b[1;34m(fname, exclude, include)\u001b[0m\n\u001b[0;32m    969\u001b[0m     \u001b[0medf_info\u001b[0m \u001b[1;33m=\u001b[0m \u001b[0mdict\u001b[0m\u001b[1;33m(\u001b[0m\u001b[1;33m)\u001b[0m\u001b[1;33m\u001b[0m\u001b[1;33m\u001b[0m\u001b[0m\n\u001b[0;32m    970\u001b[0m     \u001b[0mevents\u001b[0m \u001b[1;33m=\u001b[0m \u001b[1;32mNone\u001b[0m\u001b[1;33m\u001b[0m\u001b[1;33m\u001b[0m\u001b[0m\n\u001b[1;32m--> 971\u001b[1;33m     \u001b[1;32mwith\u001b[0m \u001b[0mopen\u001b[0m\u001b[1;33m(\u001b[0m\u001b[0mfname\u001b[0m\u001b[1;33m,\u001b[0m \u001b[1;34m\"rb\"\u001b[0m\u001b[1;33m)\u001b[0m \u001b[1;32mas\u001b[0m \u001b[0mfid\u001b[0m\u001b[1;33m:\u001b[0m\u001b[1;33m\u001b[0m\u001b[1;33m\u001b[0m\u001b[0m\n\u001b[0m\u001b[0;32m    972\u001b[0m         \u001b[0mversion\u001b[0m \u001b[1;33m=\u001b[0m \u001b[0mfid\u001b[0m\u001b[1;33m.\u001b[0m\u001b[0mread\u001b[0m\u001b[1;33m(\u001b[0m\u001b[1;36m8\u001b[0m\u001b[1;33m)\u001b[0m\u001b[1;33m.\u001b[0m\u001b[0mdecode\u001b[0m\u001b[1;33m(\u001b[0m\u001b[1;33m)\u001b[0m\u001b[1;33m\u001b[0m\u001b[1;33m\u001b[0m\u001b[0m\n\u001b[0;32m    973\u001b[0m         \u001b[0medf_info\u001b[0m\u001b[1;33m[\u001b[0m\u001b[1;34m\"type\"\u001b[0m\u001b[1;33m]\u001b[0m \u001b[1;33m=\u001b[0m \u001b[0medf_info\u001b[0m\u001b[1;33m[\u001b[0m\u001b[1;34m\"subtype\"\u001b[0m\u001b[1;33m]\u001b[0m \u001b[1;33m=\u001b[0m \u001b[0mversion\u001b[0m\u001b[1;33m[\u001b[0m\u001b[1;33m:\u001b[0m\u001b[1;36m3\u001b[0m\u001b[1;33m]\u001b[0m\u001b[1;33m\u001b[0m\u001b[1;33m\u001b[0m\u001b[0m\n",
      "\u001b[1;31mFileNotFoundError\u001b[0m: [Errno 2] No such file or directory: 'C:\\\\Users\\\\21694\\\\Path finding in neurogaming\\\\Path finding in neurogaming\\\\BCICIV_2b_gdf\\\\B0905E.gdf'"
     ]
    }
   ],
   "source": [
    "import mne\n",
    "\n",
    "# Replace 'your_file.gdf' with the path to your .gdf file\n",
    "file_path = 'Path finding in neurogaming/BCICIV_2b_gdf/B0905E.gdf'\n",
    "\n",
    "# Read the .gdf file using mne\n",
    "raw_data = mne.io.read_raw_gdf(file_path, preload=True)\n",
    "\n",
    "# Get the EEG data (EEG channels only)\n",
    "eeg_data = raw_data.get_data()\n",
    "\n",
    "# Get the channel names (labels)\n",
    "channel_names = raw_data.ch_names\n",
    "\n",
    "# Get the sampling frequency (sampling rate)\n",
    "sampling_frequency = raw_data.info['sfreq']\n"
   ]
  },
  {
   "cell_type": "code",
   "execution_count": 1,
   "id": "8407f2d2",
   "metadata": {},
   "outputs": [
    {
     "ename": "TypeError",
     "evalue": "raw must be an instance of BaseRaw, got <class 'numpy.ndarray'> instead.",
     "output_type": "error",
     "traceback": [
      "\u001b[1;31m---------------------------------------------------------------------------\u001b[0m",
      "\u001b[1;31mTypeError\u001b[0m                                 Traceback (most recent call last)",
      "\u001b[1;32m<ipython-input-1-dc181ac09e14>\u001b[0m in \u001b[0;36m<module>\u001b[1;34m\u001b[0m\n\u001b[0;32m     21\u001b[0m \u001b[1;32mfor\u001b[0m \u001b[0m_\u001b[0m\u001b[1;33m,\u001b[0m \u001b[0mleft_row\u001b[0m \u001b[1;32min\u001b[0m \u001b[0mleft_data\u001b[0m\u001b[1;33m.\u001b[0m\u001b[0miterrows\u001b[0m\u001b[1;33m(\u001b[0m\u001b[1;33m)\u001b[0m\u001b[1;33m:\u001b[0m\u001b[1;33m\u001b[0m\u001b[1;33m\u001b[0m\u001b[0m\n\u001b[0;32m     22\u001b[0m     \u001b[0mleft_signal\u001b[0m \u001b[1;33m=\u001b[0m \u001b[0mnp\u001b[0m\u001b[1;33m.\u001b[0m\u001b[0marray\u001b[0m\u001b[1;33m(\u001b[0m\u001b[0mleft_row\u001b[0m\u001b[1;33m[\u001b[0m\u001b[0melectrode_names\u001b[0m\u001b[1;33m]\u001b[0m\u001b[1;33m)\u001b[0m\u001b[1;33m\u001b[0m\u001b[1;33m\u001b[0m\u001b[0m\n\u001b[1;32m---> 23\u001b[1;33m     \u001b[0mleft_event\u001b[0m \u001b[1;33m=\u001b[0m \u001b[0mmne\u001b[0m\u001b[1;33m.\u001b[0m\u001b[0mmake_fixed_length_events\u001b[0m\u001b[1;33m(\u001b[0m\u001b[0mnp\u001b[0m\u001b[1;33m.\u001b[0m\u001b[0mexpand_dims\u001b[0m\u001b[1;33m(\u001b[0m\u001b[0mleft_signal\u001b[0m\u001b[1;33m,\u001b[0m \u001b[0maxis\u001b[0m\u001b[1;33m=\u001b[0m\u001b[1;36m1\u001b[0m\u001b[1;33m)\u001b[0m\u001b[1;33m,\u001b[0m \u001b[0mid\u001b[0m\u001b[1;33m=\u001b[0m\u001b[1;36m1\u001b[0m\u001b[1;33m)\u001b[0m\u001b[1;33m\u001b[0m\u001b[1;33m\u001b[0m\u001b[0m\n\u001b[0m\u001b[0;32m     24\u001b[0m     \u001b[0mleft_epoch\u001b[0m \u001b[1;33m=\u001b[0m \u001b[0mmne\u001b[0m\u001b[1;33m.\u001b[0m\u001b[0mEpochsArray\u001b[0m\u001b[1;33m(\u001b[0m\u001b[1;33m[\u001b[0m\u001b[0mleft_signal\u001b[0m\u001b[1;33m]\u001b[0m\u001b[1;33m,\u001b[0m \u001b[0minfo\u001b[0m\u001b[1;33m=\u001b[0m\u001b[0minfo_left\u001b[0m\u001b[1;33m,\u001b[0m \u001b[0mevents\u001b[0m\u001b[1;33m=\u001b[0m\u001b[0mleft_event\u001b[0m\u001b[1;33m,\u001b[0m \u001b[0mevent_id\u001b[0m\u001b[1;33m=\u001b[0m\u001b[1;36m1\u001b[0m\u001b[1;33m,\u001b[0m \u001b[0mtmin\u001b[0m\u001b[1;33m=\u001b[0m\u001b[1;36m0\u001b[0m\u001b[1;33m)\u001b[0m\u001b[1;33m\u001b[0m\u001b[1;33m\u001b[0m\u001b[0m\n\u001b[0;32m     25\u001b[0m     \u001b[0mepochs_left\u001b[0m\u001b[1;33m.\u001b[0m\u001b[0mappend\u001b[0m\u001b[1;33m(\u001b[0m\u001b[0mleft_epoch\u001b[0m\u001b[1;33m)\u001b[0m\u001b[1;33m\u001b[0m\u001b[1;33m\u001b[0m\u001b[0m\n",
      "\u001b[1;32m~\\anaconda3\\lib\\site-packages\\mne\\event.py\u001b[0m in \u001b[0;36mmake_fixed_length_events\u001b[1;34m(raw, id, start, stop, duration, first_samp, overlap)\u001b[0m\n\u001b[0;32m    958\u001b[0m     \u001b[1;32mfrom\u001b[0m \u001b[1;33m.\u001b[0m\u001b[0mio\u001b[0m\u001b[1;33m.\u001b[0m\u001b[0mbase\u001b[0m \u001b[1;32mimport\u001b[0m \u001b[0mBaseRaw\u001b[0m\u001b[1;33m\u001b[0m\u001b[1;33m\u001b[0m\u001b[0m\n\u001b[0;32m    959\u001b[0m \u001b[1;33m\u001b[0m\u001b[0m\n\u001b[1;32m--> 960\u001b[1;33m     \u001b[0m_validate_type\u001b[0m\u001b[1;33m(\u001b[0m\u001b[0mraw\u001b[0m\u001b[1;33m,\u001b[0m \u001b[0mBaseRaw\u001b[0m\u001b[1;33m,\u001b[0m \u001b[1;34m\"raw\"\u001b[0m\u001b[1;33m)\u001b[0m\u001b[1;33m\u001b[0m\u001b[1;33m\u001b[0m\u001b[0m\n\u001b[0m\u001b[0;32m    961\u001b[0m     \u001b[0m_validate_type\u001b[0m\u001b[1;33m(\u001b[0m\u001b[0mid\u001b[0m\u001b[1;33m,\u001b[0m \u001b[0mint\u001b[0m\u001b[1;33m,\u001b[0m \u001b[1;34m\"id\"\u001b[0m\u001b[1;33m)\u001b[0m\u001b[1;33m\u001b[0m\u001b[1;33m\u001b[0m\u001b[0m\n\u001b[0;32m    962\u001b[0m     \u001b[0m_validate_type\u001b[0m\u001b[1;33m(\u001b[0m\u001b[0mduration\u001b[0m\u001b[1;33m,\u001b[0m \u001b[1;34m\"numeric\"\u001b[0m\u001b[1;33m,\u001b[0m \u001b[1;34m\"duration\"\u001b[0m\u001b[1;33m)\u001b[0m\u001b[1;33m\u001b[0m\u001b[1;33m\u001b[0m\u001b[0m\n",
      "\u001b[1;32m~\\anaconda3\\lib\\site-packages\\mne\\utils\\check.py\u001b[0m in \u001b[0;36m_validate_type\u001b[1;34m(item, types, item_name, type_name, extra)\u001b[0m\n\u001b[0;32m    579\u001b[0m                 \u001b[0mtype_name\u001b[0m \u001b[1;33m=\u001b[0m \u001b[1;34m\", \"\u001b[0m\u001b[1;33m.\u001b[0m\u001b[0mjoin\u001b[0m\u001b[1;33m(\u001b[0m\u001b[0mtype_name\u001b[0m\u001b[1;33m)\u001b[0m\u001b[1;33m\u001b[0m\u001b[1;33m\u001b[0m\u001b[0m\n\u001b[0;32m    580\u001b[0m         \u001b[0m_item_name\u001b[0m \u001b[1;33m=\u001b[0m \u001b[1;34m\"Item\"\u001b[0m \u001b[1;32mif\u001b[0m \u001b[0mitem_name\u001b[0m \u001b[1;32mis\u001b[0m \u001b[1;32mNone\u001b[0m \u001b[1;32melse\u001b[0m \u001b[0mitem_name\u001b[0m\u001b[1;33m\u001b[0m\u001b[1;33m\u001b[0m\u001b[0m\n\u001b[1;32m--> 581\u001b[1;33m         raise TypeError(\n\u001b[0m\u001b[0;32m    582\u001b[0m             \u001b[1;34mf\"{_item_name} must be an instance of {type_name}{extra}, \"\u001b[0m\u001b[1;33m\u001b[0m\u001b[1;33m\u001b[0m\u001b[0m\n\u001b[0;32m    583\u001b[0m             \u001b[1;34mf\"got {type(item)} instead.\"\u001b[0m\u001b[1;33m\u001b[0m\u001b[1;33m\u001b[0m\u001b[0m\n",
      "\u001b[1;31mTypeError\u001b[0m: raw must be an instance of BaseRaw, got <class 'numpy.ndarray'> instead."
     ]
    }
   ],
   "source": [
    "import pandas as pd\n",
    "import numpy as np\n",
    "import mne\n",
    "\n",
    "# Load the provided CSV dataset\n",
    "data = pd.read_csv('BCICIV_2a_2.csv')\n",
    "\n",
    "# Separate data based on classes\n",
    "left_data = data[data['label'] == 'left']\n",
    "right_data = data[data['label'] == 'right']\n",
    "\n",
    "# Get electrode names (excluding 'patient', 'time', 'label', and 'epoch' columns)\n",
    "electrode_names = data.columns[4:]\n",
    "\n",
    "# Create info objects for both left and right classes (assuming the same electrodes for each class)\n",
    "info_left = mne.create_info(ch_names=list(electrode_names), sfreq=1.0, ch_types='eeg')\n",
    "info_right = mne.create_info(ch_names=list(electrode_names), sfreq=1.0, ch_types='eeg')\n",
    "\n",
    "# Create epochs for each class\n",
    "epochs_left = []\n",
    "for _, left_row in left_data.iterrows():\n",
    "    left_signal = np.array(left_row[electrode_names])\n",
    "    left_event = mne.make_fixed_length_events(np.expand_dims(left_signal, axis=1), id=1)\n",
    "    left_epoch = mne.EpochsArray([left_signal], info=info_left, events=left_event, event_id=1, tmin=0)\n",
    "    epochs_left.append(left_epoch)\n",
    "\n",
    "epochs_right = []\n",
    "for _, right_row in right_data.iterrows():\n",
    "    right_signal = np.array(right_row[electrode_names])\n",
    "    right_event = mne.make_fixed_length_events(np.expand_dims(right_signal, axis=1), id=1)\n",
    "    right_epoch = mne.EpochsArray([right_signal], info=info_right, events=right_event, event_id=1, tmin=0)\n",
    "    epochs_right.append(right_epoch)\n",
    "\n",
    "# Concatenate the epochs for both classes\n",
    "epochs_left = mne.concatenate_epochs(epochs_left)\n",
    "epochs_right = mne.concatenate_epochs(epochs_right)\n",
    "\n",
    "# Save the new dataset into a new format (for further analysis if needed)\n",
    "epochs_left.save('left_motor_imagery-epo.fif', overwrite=True)\n",
    "epochs_right.save('right_motor_imagery-epo.fif', overwrite=True)\n"
   ]
  },
  {
   "cell_type": "code",
   "execution_count": null,
   "id": "602b7330",
   "metadata": {},
   "outputs": [],
   "source": [
    "import mne\n",
    "import numpy as np\n",
    "\n",
    "# Assuming left_signal is your EEG/MEG data in a NumPy array with shape (n_channels, n_samples)\n",
    "sampling_rate = 250  # Sampling rate in Hz\n",
    "\n",
    "# Create info about the channels in your data\n",
    "n_channels = left_signal.shape[0]  # Replace this with the actual number of channels in your data\n",
    "ch_names = ['ch{}'.format(i) for i in range(n_channels)]\n",
    "ch_types = ['eeg' for _ in range(n_channels)]  # Adjust the channel type if needed\n",
    "\n",
    "info = mne.create_info(ch_names=ch_names, sfreq=sampling_rate, ch_types=ch_types)\n",
    "\n",
    "# Create a raw instance using your data and the info\n",
    "raw_left = mne.io.RawArray(left_signal, info)\n",
    "\n",
    "# Now, you can use mne.make_fixed_length_events with your raw_left instance\n",
    "duration = 1.0  # Duration of each event in seconds\n",
    "left_event = mne.make_fixed_length_events(raw_left, id=1, duration=duration)\n"
   ]
  },
  {
   "cell_type": "code",
   "execution_count": null,
   "id": "21a12366",
   "metadata": {},
   "outputs": [],
   "source": []
  },
  {
   "cell_type": "code",
   "execution_count": 6,
   "id": "beaa317c",
   "metadata": {},
   "outputs": [
    {
     "name": "stdout",
     "output_type": "stream",
     "text": [
      "Creating RawArray with float64 data, n_channels=22, n_times=57888\n",
      "    Range : 0 ... 57887 =      0.000 ...   231.548 secs\n",
      "Ready.\n"
     ]
    },
    {
     "ename": "ValueError",
     "evalue": "DigMontage is only a subset of info. There are 22 channel positions not present in the DigMontage. The channels missing from the montage are:\n\n['EEG-Fz', 'EEG-0', 'EEG-1', 'EEG-2', 'EEG-3', 'EEG-4', 'EEG-5', 'EEG-C3', 'EEG-6', 'EEG-Cz', 'EEG-7', 'EEG-C4', 'EEG-8', 'EEG-9', 'EEG-10', 'EEG-11', 'EEG-12', 'EEG-13', 'EEG-14', 'EEG-Pz', 'EEG-15', 'EEG-16'].\n\nConsider using inst.rename_channels to match the montage nomenclature, or inst.set_channel_types if these are not EEG channels, or use the on_missing parameter if the channel positions are allowed to be unknown in your analyses.",
     "output_type": "error",
     "traceback": [
      "\u001b[1;31m---------------------------------------------------------------------------\u001b[0m",
      "\u001b[1;31mValueError\u001b[0m                                Traceback (most recent call last)",
      "\u001b[1;32m<ipython-input-6-daa6da615c74>\u001b[0m in \u001b[0;36m<module>\u001b[1;34m\u001b[0m\n\u001b[0;32m     15\u001b[0m \u001b[1;33m\u001b[0m\u001b[0m\n\u001b[0;32m     16\u001b[0m \u001b[1;31m# Set the montage for the Raw object\u001b[0m\u001b[1;33m\u001b[0m\u001b[1;33m\u001b[0m\u001b[1;33m\u001b[0m\u001b[0m\n\u001b[1;32m---> 17\u001b[1;33m \u001b[0mraw\u001b[0m\u001b[1;33m.\u001b[0m\u001b[0mset_montage\u001b[0m\u001b[1;33m(\u001b[0m\u001b[0mmontage\u001b[0m\u001b[1;33m)\u001b[0m\u001b[1;33m\u001b[0m\u001b[1;33m\u001b[0m\u001b[0m\n\u001b[0m\u001b[0;32m     18\u001b[0m \u001b[1;33m\u001b[0m\u001b[0m\n\u001b[0;32m     19\u001b[0m \u001b[1;31m# Create an event array for each class (left, right)\u001b[0m\u001b[1;33m\u001b[0m\u001b[1;33m\u001b[0m\u001b[1;33m\u001b[0m\u001b[0m\n",
      "\u001b[1;32m<decorator-gen-36>\u001b[0m in \u001b[0;36mset_montage\u001b[1;34m(self, montage, match_case, match_alias, on_missing, verbose)\u001b[0m\n",
      "\u001b[1;32m~\\anaconda3\\lib\\site-packages\\mne\\io\\meas_info.py\u001b[0m in \u001b[0;36mset_montage\u001b[1;34m(self, montage, match_case, match_alias, on_missing, verbose)\u001b[0m\n\u001b[0;32m    421\u001b[0m \u001b[1;33m\u001b[0m\u001b[0m\n\u001b[0;32m    422\u001b[0m         \u001b[0minfo\u001b[0m \u001b[1;33m=\u001b[0m \u001b[0mself\u001b[0m \u001b[1;32mif\u001b[0m \u001b[0misinstance\u001b[0m\u001b[1;33m(\u001b[0m\u001b[0mself\u001b[0m\u001b[1;33m,\u001b[0m \u001b[0mInfo\u001b[0m\u001b[1;33m)\u001b[0m \u001b[1;32melse\u001b[0m \u001b[0mself\u001b[0m\u001b[1;33m.\u001b[0m\u001b[0minfo\u001b[0m\u001b[1;33m\u001b[0m\u001b[1;33m\u001b[0m\u001b[0m\n\u001b[1;32m--> 423\u001b[1;33m         \u001b[0m_set_montage\u001b[0m\u001b[1;33m(\u001b[0m\u001b[0minfo\u001b[0m\u001b[1;33m,\u001b[0m \u001b[0mmontage\u001b[0m\u001b[1;33m,\u001b[0m \u001b[0mmatch_case\u001b[0m\u001b[1;33m,\u001b[0m \u001b[0mmatch_alias\u001b[0m\u001b[1;33m,\u001b[0m \u001b[0mon_missing\u001b[0m\u001b[1;33m)\u001b[0m\u001b[1;33m\u001b[0m\u001b[1;33m\u001b[0m\u001b[0m\n\u001b[0m\u001b[0;32m    424\u001b[0m         \u001b[1;32mreturn\u001b[0m \u001b[0mself\u001b[0m\u001b[1;33m\u001b[0m\u001b[1;33m\u001b[0m\u001b[0m\n\u001b[0;32m    425\u001b[0m \u001b[1;33m\u001b[0m\u001b[0m\n",
      "\u001b[1;32m~\\anaconda3\\lib\\site-packages\\mne\\channels\\montage.py\u001b[0m in \u001b[0;36m_set_montage\u001b[1;34m(***failed resolving arguments***)\u001b[0m\n\u001b[0;32m   1256\u001b[0m             \u001b[1;34mf\"position{pl} {are_is} allowed to be unknown in your analyses.\"\u001b[0m\u001b[1;33m\u001b[0m\u001b[1;33m\u001b[0m\u001b[0m\n\u001b[0;32m   1257\u001b[0m         )\n\u001b[1;32m-> 1258\u001b[1;33m         \u001b[0m_on_missing\u001b[0m\u001b[1;33m(\u001b[0m\u001b[0mon_missing\u001b[0m\u001b[1;33m,\u001b[0m \u001b[0mmissing_coord_msg\u001b[0m\u001b[1;33m)\u001b[0m\u001b[1;33m\u001b[0m\u001b[1;33m\u001b[0m\u001b[0m\n\u001b[0m\u001b[0;32m   1259\u001b[0m \u001b[1;33m\u001b[0m\u001b[0m\n\u001b[0;32m   1260\u001b[0m         \u001b[1;31m# set ch coordinates and names from digmontage or nan coords\u001b[0m\u001b[1;33m\u001b[0m\u001b[1;33m\u001b[0m\u001b[1;33m\u001b[0m\u001b[0m\n",
      "\u001b[1;32m~\\anaconda3\\lib\\site-packages\\mne\\utils\\check.py\u001b[0m in \u001b[0;36m_on_missing\u001b[1;34m(on_missing, msg, name, error_klass)\u001b[0m\n\u001b[0;32m   1140\u001b[0m     \u001b[0mon_missing\u001b[0m \u001b[1;33m=\u001b[0m \u001b[1;34m\"warn\"\u001b[0m \u001b[1;32mif\u001b[0m \u001b[0mon_missing\u001b[0m \u001b[1;33m==\u001b[0m \u001b[1;34m\"warning\"\u001b[0m \u001b[1;32melse\u001b[0m \u001b[0mon_missing\u001b[0m\u001b[1;33m\u001b[0m\u001b[1;33m\u001b[0m\u001b[0m\n\u001b[0;32m   1141\u001b[0m     \u001b[1;32mif\u001b[0m \u001b[0mon_missing\u001b[0m \u001b[1;33m==\u001b[0m \u001b[1;34m\"raise\"\u001b[0m\u001b[1;33m:\u001b[0m\u001b[1;33m\u001b[0m\u001b[1;33m\u001b[0m\u001b[0m\n\u001b[1;32m-> 1142\u001b[1;33m         \u001b[1;32mraise\u001b[0m \u001b[0merror_klass\u001b[0m\u001b[1;33m(\u001b[0m\u001b[0mmsg\u001b[0m\u001b[1;33m)\u001b[0m\u001b[1;33m\u001b[0m\u001b[1;33m\u001b[0m\u001b[0m\n\u001b[0m\u001b[0;32m   1143\u001b[0m     \u001b[1;32melif\u001b[0m \u001b[0mon_missing\u001b[0m \u001b[1;33m==\u001b[0m \u001b[1;34m\"warn\"\u001b[0m\u001b[1;33m:\u001b[0m\u001b[1;33m\u001b[0m\u001b[1;33m\u001b[0m\u001b[0m\n\u001b[0;32m   1144\u001b[0m         \u001b[0mwarn\u001b[0m\u001b[1;33m(\u001b[0m\u001b[0mmsg\u001b[0m\u001b[1;33m)\u001b[0m\u001b[1;33m\u001b[0m\u001b[1;33m\u001b[0m\u001b[0m\n",
      "\u001b[1;31mValueError\u001b[0m: DigMontage is only a subset of info. There are 22 channel positions not present in the DigMontage. The channels missing from the montage are:\n\n['EEG-Fz', 'EEG-0', 'EEG-1', 'EEG-2', 'EEG-3', 'EEG-4', 'EEG-5', 'EEG-C3', 'EEG-6', 'EEG-Cz', 'EEG-7', 'EEG-C4', 'EEG-8', 'EEG-9', 'EEG-10', 'EEG-11', 'EEG-12', 'EEG-13', 'EEG-14', 'EEG-Pz', 'EEG-15', 'EEG-16'].\n\nConsider using inst.rename_channels to match the montage nomenclature, or inst.set_channel_types if these are not EEG channels, or use the on_missing parameter if the channel positions are allowed to be unknown in your analyses."
     ]
    }
   ],
   "source": [
    "import pandas as pd\n",
    "import mne\n",
    "\n",
    "# Load the CSV dataset\n",
    "data = pd.read_csv('BCICIV_2a_2.csv')\n",
    "# Convert the columns into a list\n",
    "ch_names = data.columns[4:].tolist()\n",
    "# Convert the pandas DataFrame to an MNE Raw object\n",
    "# Note: 'info' contains information about the data, such as sampling rate and channel names\n",
    "info = mne.create_info(ch_names=ch_names, sfreq=250, ch_types='eeg')\n",
    "raw = mne.io.RawArray(data.iloc[:, 4:].values.T, info)\n",
    "\n",
    "# Define the electrode locations (you may need to replace these with the actual coordinates of your electrodes)\n",
    "montage = mne.channels.make_standard_montage('standard_1005')\n",
    "\n",
    "# Set the montage for the Raw object\n",
    "raw.set_montage(montage)\n",
    "\n",
    "# Create an event array for each class (left, right)\n",
    "events_left = mne.make_fixed_length_events(raw, duration=1.0, overlap=0.0, id=1)\n",
    "events_right = mne.make_fixed_length_events(raw, duration=1.0, overlap=0.0, id=2)\n",
    "\n",
    "# Create epochs for each class\n",
    "epochs_left = mne.Epochs(raw, events_left, tmin=0, tmax=1, baseline=None)\n",
    "epochs_right = mne.Epochs(raw, events_right, tmin=0, tmax=1, baseline=None)\n",
    "\n",
    "# Get the electrode locations for each class\n",
    "electrode_locations_left = epochs_left.info['chs'][0:22]  # Assuming you have 21 electrodes\n",
    "electrode_locations_right = epochs_right.info['chs'][0:22]  # Assuming you have 21 electrodes\n",
    "\n",
    "# Print electrode locations for left class\n",
    "print('Electrode locations for left class:')\n",
    "for electrode in electrode_locations_left:\n",
    "    print(electrode['ch_name'], ':', electrode['loc'])\n",
    "\n",
    "# Print electrode locations for right class\n",
    "print('Electrode locations for right class:')\n",
    "for electrode in electrode_locations_right:\n",
    "    print(electrode['ch_name'], ':', electrode['loc'])\n"
   ]
  },
  {
   "cell_type": "code",
   "execution_count": 7,
   "id": "aec5390d",
   "metadata": {},
   "outputs": [
    {
     "ename": "ValueError",
     "evalue": "Info and data must have same number of channels.",
     "output_type": "error",
     "traceback": [
      "\u001b[1;31m---------------------------------------------------------------------------\u001b[0m",
      "\u001b[1;31mValueError\u001b[0m                                Traceback (most recent call last)",
      "\u001b[1;32m<ipython-input-7-0b533185835d>\u001b[0m in \u001b[0;36m<module>\u001b[1;34m\u001b[0m\n\u001b[0;32m     30\u001b[0m \u001b[1;32mfor\u001b[0m \u001b[0mlabel\u001b[0m\u001b[1;33m,\u001b[0m \u001b[0melectrode_positions\u001b[0m \u001b[1;32min\u001b[0m \u001b[0melectrode_placements\u001b[0m\u001b[1;33m.\u001b[0m\u001b[0mitems\u001b[0m\u001b[1;33m(\u001b[0m\u001b[1;33m)\u001b[0m\u001b[1;33m:\u001b[0m\u001b[1;33m\u001b[0m\u001b[1;33m\u001b[0m\u001b[0m\n\u001b[0;32m     31\u001b[0m     \u001b[0mdata\u001b[0m \u001b[1;33m=\u001b[0m \u001b[0mnp\u001b[0m\u001b[1;33m.\u001b[0m\u001b[0mexpand_dims\u001b[0m\u001b[1;33m(\u001b[0m\u001b[0melectrode_positions\u001b[0m\u001b[1;33m,\u001b[0m \u001b[0maxis\u001b[0m\u001b[1;33m=\u001b[0m\u001b[1;36m0\u001b[0m\u001b[1;33m)\u001b[0m\u001b[1;33m\u001b[0m\u001b[1;33m\u001b[0m\u001b[0m\n\u001b[1;32m---> 32\u001b[1;33m     \u001b[0mepochs_array\u001b[0m \u001b[1;33m=\u001b[0m \u001b[0mmne\u001b[0m\u001b[1;33m.\u001b[0m\u001b[0mEpochsArray\u001b[0m\u001b[1;33m(\u001b[0m\u001b[0mdata\u001b[0m\u001b[1;33m,\u001b[0m \u001b[0minfo\u001b[0m\u001b[1;33m)\u001b[0m\u001b[1;33m\u001b[0m\u001b[1;33m\u001b[0m\u001b[0m\n\u001b[0m\u001b[0;32m     33\u001b[0m     \u001b[0mepochs_per_class\u001b[0m\u001b[1;33m[\u001b[0m\u001b[0mlabel\u001b[0m\u001b[1;33m]\u001b[0m \u001b[1;33m=\u001b[0m \u001b[0mepochs_array\u001b[0m\u001b[1;33m\u001b[0m\u001b[1;33m\u001b[0m\u001b[0m\n\u001b[0;32m     34\u001b[0m \u001b[1;33m\u001b[0m\u001b[0m\n",
      "\u001b[1;32m<decorator-gen-290>\u001b[0m in \u001b[0;36m__init__\u001b[1;34m(self, data, info, events, tmin, event_id, reject, flat, reject_tmin, reject_tmax, baseline, proj, on_missing, metadata, selection, drop_log, raw_sfreq, verbose)\u001b[0m\n",
      "\u001b[1;32m~\\anaconda3\\lib\\site-packages\\mne\\epochs.py\u001b[0m in \u001b[0;36m__init__\u001b[1;34m(self, data, info, events, tmin, event_id, reject, flat, reject_tmin, reject_tmax, baseline, proj, on_missing, metadata, selection, drop_log, raw_sfreq, verbose)\u001b[0m\n\u001b[0;32m   3267\u001b[0m \u001b[1;33m\u001b[0m\u001b[0m\n\u001b[0;32m   3268\u001b[0m         \u001b[1;32mif\u001b[0m \u001b[0mlen\u001b[0m\u001b[1;33m(\u001b[0m\u001b[0minfo\u001b[0m\u001b[1;33m[\u001b[0m\u001b[1;34m\"ch_names\"\u001b[0m\u001b[1;33m]\u001b[0m\u001b[1;33m)\u001b[0m \u001b[1;33m!=\u001b[0m \u001b[0mdata\u001b[0m\u001b[1;33m.\u001b[0m\u001b[0mshape\u001b[0m\u001b[1;33m[\u001b[0m\u001b[1;36m1\u001b[0m\u001b[1;33m]\u001b[0m\u001b[1;33m:\u001b[0m\u001b[1;33m\u001b[0m\u001b[1;33m\u001b[0m\u001b[0m\n\u001b[1;32m-> 3269\u001b[1;33m             \u001b[1;32mraise\u001b[0m \u001b[0mValueError\u001b[0m\u001b[1;33m(\u001b[0m\u001b[1;34m\"Info and data must have same number of \"\u001b[0m \u001b[1;34m\"channels.\"\u001b[0m\u001b[1;33m)\u001b[0m\u001b[1;33m\u001b[0m\u001b[1;33m\u001b[0m\u001b[0m\n\u001b[0m\u001b[0;32m   3270\u001b[0m         \u001b[1;32mif\u001b[0m \u001b[0mevents\u001b[0m \u001b[1;32mis\u001b[0m \u001b[1;32mNone\u001b[0m\u001b[1;33m:\u001b[0m\u001b[1;33m\u001b[0m\u001b[1;33m\u001b[0m\u001b[0m\n\u001b[0;32m   3271\u001b[0m             \u001b[0mn_epochs\u001b[0m \u001b[1;33m=\u001b[0m \u001b[0mlen\u001b[0m\u001b[1;33m(\u001b[0m\u001b[0mdata\u001b[0m\u001b[1;33m)\u001b[0m\u001b[1;33m\u001b[0m\u001b[1;33m\u001b[0m\u001b[0m\n",
      "\u001b[1;31mValueError\u001b[0m: Info and data must have same number of channels."
     ]
    }
   ],
   "source": [
    "import mne\n",
    "import pandas as pd\n",
    "import numpy as np\n",
    "\n",
    "# Load the CSV dataset into a pandas DataFrame\n",
    "data_df = pd.read_csv('BCICIV_2a_2.csv')\n",
    "\n",
    "# Get the unique class labels\n",
    "unique_classes = data_df['label'].unique()\n",
    "\n",
    "# Create a dictionary to store electrode placements for each class\n",
    "electrode_placements = {label: [] for label in unique_classes}\n",
    "\n",
    "# Loop through the DataFrame and store electrode placements for each class\n",
    "for label in unique_classes:\n",
    "    class_df = data_df[data_df['label'] == label]\n",
    "    electrode_positions = class_df[['EEG-Fz', 'EEG-0', 'EEG-1', 'EEG-2', 'EEG-3', 'EEG-4',\n",
    "                                    'EEG-5', 'EEG-C3', 'EEG-6', 'EEG-Cz', 'EEG-7', 'EEG-C4',\n",
    "                                    'EEG-8', 'EEG-9', 'EEG-10', 'EEG-11', 'EEG-12', 'EEG-13',\n",
    "                                    'EEG-14', 'EEG-Pz', 'EEG-15', 'EEG-16']].values\n",
    "    electrode_placements[label] = electrode_positions\n",
    "\n",
    "# Convert the electrode placements dictionary into a MNE Info object\n",
    "info = mne.create_info(ch_names=[f'EEG-{i}' for i in range(22)],\n",
    "                       ch_types=['eeg'] * 22,\n",
    "                       sfreq=250)\n",
    "\n",
    "# Create MNE EpochsArray for each class\n",
    "epochs_per_class = {}\n",
    "for label, electrode_positions in electrode_placements.items():\n",
    "    data = np.expand_dims(electrode_positions, axis=0)\n",
    "    epochs_array = mne.EpochsArray(data, info)\n",
    "    epochs_per_class[label] = epochs_array\n",
    "\n",
    "# Save the MNE EpochsArray for each class into a new dataset\n",
    "for label, epochs_array in epochs_per_class.items():\n",
    "    output_filename = f'{label}_epochs.fif'\n",
    "    epochs_array.save(output_filename, overwrite=True)\n"
   ]
  },
  {
   "cell_type": "code",
   "execution_count": 8,
   "id": "ada4bda9",
   "metadata": {},
   "outputs": [
    {
     "name": "stdout",
     "output_type": "stream",
     "text": [
      "Actual number of EEG channels: 21\n",
      "Actual number of time points: 57888\n"
     ]
    }
   ],
   "source": [
    "import pandas as pd\n",
    "\n",
    "# Load the dataset from the provided CSV file\n",
    "dataset_path = 'BCICIV_2a_2.csv'\n",
    "data = pd.read_csv(dataset_path)\n",
    "\n",
    "# Get the actual number of EEG channels and time points\n",
    "eeg_channels = data.columns[5:]  # Assuming EEG channels start from column index 5\n",
    "num_eeg_channels = len(eeg_channels)\n",
    "num_time_points = len(data)\n",
    "\n",
    "print(\"Actual number of EEG channels:\", num_eeg_channels)\n",
    "print(\"Actual number of time points:\", num_time_points)\n"
   ]
  },
  {
   "cell_type": "code",
   "execution_count": 9,
   "id": "2af7fb2a",
   "metadata": {},
   "outputs": [
    {
     "ename": "ValueError",
     "evalue": "len(data) (1) does not match len(info[\"ch_names\"]) (21)",
     "output_type": "error",
     "traceback": [
      "\u001b[1;31m---------------------------------------------------------------------------\u001b[0m",
      "\u001b[1;31mValueError\u001b[0m                                Traceback (most recent call last)",
      "\u001b[1;32m<ipython-input-9-56ef2a594d02>\u001b[0m in \u001b[0;36m<module>\u001b[1;34m\u001b[0m\n\u001b[0;32m     16\u001b[0m     \u001b[1;31m# Create an info object for the epoch data\u001b[0m\u001b[1;33m\u001b[0m\u001b[1;33m\u001b[0m\u001b[1;33m\u001b[0m\u001b[0m\n\u001b[0;32m     17\u001b[0m     \u001b[0minfo\u001b[0m \u001b[1;33m=\u001b[0m \u001b[0mmne\u001b[0m\u001b[1;33m.\u001b[0m\u001b[0mcreate_info\u001b[0m\u001b[1;33m(\u001b[0m\u001b[0mch_names\u001b[0m\u001b[1;33m=\u001b[0m\u001b[0meeg_channels\u001b[0m\u001b[1;33m.\u001b[0m\u001b[0mtolist\u001b[0m\u001b[1;33m(\u001b[0m\u001b[1;33m)\u001b[0m\u001b[1;33m,\u001b[0m \u001b[0msfreq\u001b[0m\u001b[1;33m=\u001b[0m\u001b[1;36m250\u001b[0m\u001b[1;33m,\u001b[0m \u001b[0mch_types\u001b[0m\u001b[1;33m=\u001b[0m\u001b[1;34m'eeg'\u001b[0m\u001b[1;33m)\u001b[0m\u001b[1;33m\u001b[0m\u001b[1;33m\u001b[0m\u001b[0m\n\u001b[1;32m---> 18\u001b[1;33m     \u001b[0mraw\u001b[0m \u001b[1;33m=\u001b[0m \u001b[0mmne\u001b[0m\u001b[1;33m.\u001b[0m\u001b[0mio\u001b[0m\u001b[1;33m.\u001b[0m\u001b[0mRawArray\u001b[0m\u001b[1;33m(\u001b[0m\u001b[0mepoch_data\u001b[0m\u001b[1;33m,\u001b[0m \u001b[0minfo\u001b[0m\u001b[1;33m)\u001b[0m\u001b[1;33m\u001b[0m\u001b[1;33m\u001b[0m\u001b[0m\n\u001b[0m\u001b[0;32m     19\u001b[0m \u001b[1;33m\u001b[0m\u001b[0m\n\u001b[0;32m     20\u001b[0m     \u001b[1;31m# Set the montage for the epoch data\u001b[0m\u001b[1;33m\u001b[0m\u001b[1;33m\u001b[0m\u001b[1;33m\u001b[0m\u001b[0m\n",
      "\u001b[1;32m<decorator-gen-248>\u001b[0m in \u001b[0;36m__init__\u001b[1;34m(self, data, info, first_samp, copy, verbose)\u001b[0m\n",
      "\u001b[1;32m~\\anaconda3\\lib\\site-packages\\mne\\io\\array\\array.py\u001b[0m in \u001b[0;36m__init__\u001b[1;34m(self, data, info, first_samp, copy, verbose)\u001b[0m\n\u001b[0;32m     66\u001b[0m             )\n\u001b[0;32m     67\u001b[0m         \u001b[1;32mif\u001b[0m \u001b[0mlen\u001b[0m\u001b[1;33m(\u001b[0m\u001b[0mdata\u001b[0m\u001b[1;33m)\u001b[0m \u001b[1;33m!=\u001b[0m \u001b[0mlen\u001b[0m\u001b[1;33m(\u001b[0m\u001b[0minfo\u001b[0m\u001b[1;33m[\u001b[0m\u001b[1;34m\"ch_names\"\u001b[0m\u001b[1;33m]\u001b[0m\u001b[1;33m)\u001b[0m\u001b[1;33m:\u001b[0m\u001b[1;33m\u001b[0m\u001b[1;33m\u001b[0m\u001b[0m\n\u001b[1;32m---> 68\u001b[1;33m             raise ValueError(\n\u001b[0m\u001b[0;32m     69\u001b[0m                 \u001b[1;34m\"len(data) (%s) does not match \"\u001b[0m\u001b[1;33m\u001b[0m\u001b[1;33m\u001b[0m\u001b[0m\n\u001b[0;32m     70\u001b[0m                 \u001b[1;34m'len(info[\"ch_names\"]) (%s)'\u001b[0m \u001b[1;33m%\u001b[0m \u001b[1;33m(\u001b[0m\u001b[0mlen\u001b[0m\u001b[1;33m(\u001b[0m\u001b[0mdata\u001b[0m\u001b[1;33m)\u001b[0m\u001b[1;33m,\u001b[0m \u001b[0mlen\u001b[0m\u001b[1;33m(\u001b[0m\u001b[0minfo\u001b[0m\u001b[1;33m[\u001b[0m\u001b[1;34m\"ch_names\"\u001b[0m\u001b[1;33m]\u001b[0m\u001b[1;33m)\u001b[0m\u001b[1;33m)\u001b[0m\u001b[1;33m\u001b[0m\u001b[1;33m\u001b[0m\u001b[0m\n",
      "\u001b[1;31mValueError\u001b[0m: len(data) (1) does not match len(info[\"ch_names\"]) (21)"
     ]
    }
   ],
   "source": [
    "import mne\n",
    "\n",
    "# Create empty dictionaries to store electrode placements for each class\n",
    "left_electrodes = {}\n",
    "right_electrodes = {}\n",
    "\n",
    "# Define the montage for the 10-20 system\n",
    "montage = mne.channels.make_standard_montage('standard_1020')\n",
    "\n",
    "# Loop through the dataset to extract electrode locations for each class\n",
    "for index, row in data.iterrows():\n",
    "    label = row['label']\n",
    "    epoch = row['epoch']\n",
    "    epoch_data = row[eeg_channels].values.reshape(1, num_eeg_channels) * 1e-6  # Convert microvolts to volts\n",
    "\n",
    "    # Create an info object for the epoch data\n",
    "    info = mne.create_info(ch_names=eeg_channels.tolist(), sfreq=250, ch_types='eeg')\n",
    "    raw = mne.io.RawArray(epoch_data, info)\n",
    "\n",
    "    # Set the montage for the epoch data\n",
    "    raw.set_montage(montage)\n",
    "\n",
    "    # Get the coordinates of the electrodes for each class\n",
    "    if label == 'left':\n",
    "        left_electrodes[epoch] = raw.get_channel_positions()\n",
    "    elif label == 'right':\n",
    "        right_electrodes[epoch] = raw.get_channel_positions()\n",
    "\n",
    "# Print the electrode placements for each class\n",
    "print(\"Electrode placements for imagining the left class:\")\n",
    "for epoch, electrodes in left_electrodes.items():\n",
    "    print(f\"Epoch {epoch}: {electrodes}\")\n",
    "\n",
    "print(\"\\nElectrode placements for imagining the right class:\")\n",
    "for epoch, electrodes in right_electrodes.items():\n",
    "    print(f\"Epoch {epoch}: {electrodes}\")\n"
   ]
  },
  {
   "cell_type": "code",
   "execution_count": 10,
   "id": "79fa502c",
   "metadata": {},
   "outputs": [
    {
     "name": "stdout",
     "output_type": "stream",
     "text": [
      "Actual number of EEG channels: 21\n",
      "Actual number of time points: 57888\n",
      "Creating RawArray with float64 data, n_channels=21, n_times=57888\n",
      "    Range : 0 ... 57887 =      0.000 ...   231.548 secs\n",
      "Ready.\n"
     ]
    },
    {
     "ename": "ValueError",
     "evalue": "DigMontage is only a subset of info. There are 21 channel positions not present in the DigMontage. The channels missing from the montage are:\n\n['EEG-0', 'EEG-1', 'EEG-2', 'EEG-3', 'EEG-4', 'EEG-5', 'EEG-C3', 'EEG-6', 'EEG-Cz', 'EEG-7', 'EEG-C4', 'EEG-8', 'EEG-9', 'EEG-10', 'EEG-11', 'EEG-12', 'EEG-13', 'EEG-14', 'EEG-Pz', 'EEG-15', 'EEG-16'].\n\nConsider using inst.rename_channels to match the montage nomenclature, or inst.set_channel_types if these are not EEG channels, or use the on_missing parameter if the channel positions are allowed to be unknown in your analyses.",
     "output_type": "error",
     "traceback": [
      "\u001b[1;31m---------------------------------------------------------------------------\u001b[0m",
      "\u001b[1;31mValueError\u001b[0m                                Traceback (most recent call last)",
      "\u001b[1;32m<ipython-input-10-4ac16c40e66a>\u001b[0m in \u001b[0;36m<module>\u001b[1;34m\u001b[0m\n\u001b[0;32m     27\u001b[0m \u001b[1;33m\u001b[0m\u001b[0m\n\u001b[0;32m     28\u001b[0m \u001b[1;31m# Set the montage for the info object\u001b[0m\u001b[1;33m\u001b[0m\u001b[1;33m\u001b[0m\u001b[1;33m\u001b[0m\u001b[0m\n\u001b[1;32m---> 29\u001b[1;33m \u001b[0mraw\u001b[0m\u001b[1;33m.\u001b[0m\u001b[0mset_montage\u001b[0m\u001b[1;33m(\u001b[0m\u001b[0mmontage\u001b[0m\u001b[1;33m)\u001b[0m\u001b[1;33m\u001b[0m\u001b[1;33m\u001b[0m\u001b[0m\n\u001b[0m\u001b[0;32m     30\u001b[0m \u001b[1;33m\u001b[0m\u001b[0m\n\u001b[0;32m     31\u001b[0m \u001b[1;31m# Loop through the dataset to extract electrode locations for each class\u001b[0m\u001b[1;33m\u001b[0m\u001b[1;33m\u001b[0m\u001b[1;33m\u001b[0m\u001b[0m\n",
      "\u001b[1;32m<decorator-gen-36>\u001b[0m in \u001b[0;36mset_montage\u001b[1;34m(self, montage, match_case, match_alias, on_missing, verbose)\u001b[0m\n",
      "\u001b[1;32m~\\anaconda3\\lib\\site-packages\\mne\\io\\meas_info.py\u001b[0m in \u001b[0;36mset_montage\u001b[1;34m(self, montage, match_case, match_alias, on_missing, verbose)\u001b[0m\n\u001b[0;32m    421\u001b[0m \u001b[1;33m\u001b[0m\u001b[0m\n\u001b[0;32m    422\u001b[0m         \u001b[0minfo\u001b[0m \u001b[1;33m=\u001b[0m \u001b[0mself\u001b[0m \u001b[1;32mif\u001b[0m \u001b[0misinstance\u001b[0m\u001b[1;33m(\u001b[0m\u001b[0mself\u001b[0m\u001b[1;33m,\u001b[0m \u001b[0mInfo\u001b[0m\u001b[1;33m)\u001b[0m \u001b[1;32melse\u001b[0m \u001b[0mself\u001b[0m\u001b[1;33m.\u001b[0m\u001b[0minfo\u001b[0m\u001b[1;33m\u001b[0m\u001b[1;33m\u001b[0m\u001b[0m\n\u001b[1;32m--> 423\u001b[1;33m         \u001b[0m_set_montage\u001b[0m\u001b[1;33m(\u001b[0m\u001b[0minfo\u001b[0m\u001b[1;33m,\u001b[0m \u001b[0mmontage\u001b[0m\u001b[1;33m,\u001b[0m \u001b[0mmatch_case\u001b[0m\u001b[1;33m,\u001b[0m \u001b[0mmatch_alias\u001b[0m\u001b[1;33m,\u001b[0m \u001b[0mon_missing\u001b[0m\u001b[1;33m)\u001b[0m\u001b[1;33m\u001b[0m\u001b[1;33m\u001b[0m\u001b[0m\n\u001b[0m\u001b[0;32m    424\u001b[0m         \u001b[1;32mreturn\u001b[0m \u001b[0mself\u001b[0m\u001b[1;33m\u001b[0m\u001b[1;33m\u001b[0m\u001b[0m\n\u001b[0;32m    425\u001b[0m \u001b[1;33m\u001b[0m\u001b[0m\n",
      "\u001b[1;32m~\\anaconda3\\lib\\site-packages\\mne\\channels\\montage.py\u001b[0m in \u001b[0;36m_set_montage\u001b[1;34m(***failed resolving arguments***)\u001b[0m\n\u001b[0;32m   1256\u001b[0m             \u001b[1;34mf\"position{pl} {are_is} allowed to be unknown in your analyses.\"\u001b[0m\u001b[1;33m\u001b[0m\u001b[1;33m\u001b[0m\u001b[0m\n\u001b[0;32m   1257\u001b[0m         )\n\u001b[1;32m-> 1258\u001b[1;33m         \u001b[0m_on_missing\u001b[0m\u001b[1;33m(\u001b[0m\u001b[0mon_missing\u001b[0m\u001b[1;33m,\u001b[0m \u001b[0mmissing_coord_msg\u001b[0m\u001b[1;33m)\u001b[0m\u001b[1;33m\u001b[0m\u001b[1;33m\u001b[0m\u001b[0m\n\u001b[0m\u001b[0;32m   1259\u001b[0m \u001b[1;33m\u001b[0m\u001b[0m\n\u001b[0;32m   1260\u001b[0m         \u001b[1;31m# set ch coordinates and names from digmontage or nan coords\u001b[0m\u001b[1;33m\u001b[0m\u001b[1;33m\u001b[0m\u001b[1;33m\u001b[0m\u001b[0m\n",
      "\u001b[1;32m~\\anaconda3\\lib\\site-packages\\mne\\utils\\check.py\u001b[0m in \u001b[0;36m_on_missing\u001b[1;34m(on_missing, msg, name, error_klass)\u001b[0m\n\u001b[0;32m   1140\u001b[0m     \u001b[0mon_missing\u001b[0m \u001b[1;33m=\u001b[0m \u001b[1;34m\"warn\"\u001b[0m \u001b[1;32mif\u001b[0m \u001b[0mon_missing\u001b[0m \u001b[1;33m==\u001b[0m \u001b[1;34m\"warning\"\u001b[0m \u001b[1;32melse\u001b[0m \u001b[0mon_missing\u001b[0m\u001b[1;33m\u001b[0m\u001b[1;33m\u001b[0m\u001b[0m\n\u001b[0;32m   1141\u001b[0m     \u001b[1;32mif\u001b[0m \u001b[0mon_missing\u001b[0m \u001b[1;33m==\u001b[0m \u001b[1;34m\"raise\"\u001b[0m\u001b[1;33m:\u001b[0m\u001b[1;33m\u001b[0m\u001b[1;33m\u001b[0m\u001b[0m\n\u001b[1;32m-> 1142\u001b[1;33m         \u001b[1;32mraise\u001b[0m \u001b[0merror_klass\u001b[0m\u001b[1;33m(\u001b[0m\u001b[0mmsg\u001b[0m\u001b[1;33m)\u001b[0m\u001b[1;33m\u001b[0m\u001b[1;33m\u001b[0m\u001b[0m\n\u001b[0m\u001b[0;32m   1143\u001b[0m     \u001b[1;32melif\u001b[0m \u001b[0mon_missing\u001b[0m \u001b[1;33m==\u001b[0m \u001b[1;34m\"warn\"\u001b[0m\u001b[1;33m:\u001b[0m\u001b[1;33m\u001b[0m\u001b[1;33m\u001b[0m\u001b[0m\n\u001b[0;32m   1144\u001b[0m         \u001b[0mwarn\u001b[0m\u001b[1;33m(\u001b[0m\u001b[0mmsg\u001b[0m\u001b[1;33m)\u001b[0m\u001b[1;33m\u001b[0m\u001b[1;33m\u001b[0m\u001b[0m\n",
      "\u001b[1;31mValueError\u001b[0m: DigMontage is only a subset of info. There are 21 channel positions not present in the DigMontage. The channels missing from the montage are:\n\n['EEG-0', 'EEG-1', 'EEG-2', 'EEG-3', 'EEG-4', 'EEG-5', 'EEG-C3', 'EEG-6', 'EEG-Cz', 'EEG-7', 'EEG-C4', 'EEG-8', 'EEG-9', 'EEG-10', 'EEG-11', 'EEG-12', 'EEG-13', 'EEG-14', 'EEG-Pz', 'EEG-15', 'EEG-16'].\n\nConsider using inst.rename_channels to match the montage nomenclature, or inst.set_channel_types if these are not EEG channels, or use the on_missing parameter if the channel positions are allowed to be unknown in your analyses."
     ]
    }
   ],
   "source": [
    "import pandas as pd\n",
    "import numpy as np\n",
    "import mne\n",
    "\n",
    "# Load the dataset from the provided CSV file\n",
    "dataset_path = 'BCICIV_2a_2.csv'\n",
    "data = pd.read_csv(dataset_path)\n",
    "\n",
    "# Get the actual number of EEG channels and time points\n",
    "eeg_channels = data.columns[5:]  # Assuming EEG channels start from column index 5\n",
    "num_eeg_channels = len(eeg_channels)\n",
    "num_time_points = len(data)\n",
    "\n",
    "print(\"Actual number of EEG channels:\", num_eeg_channels)\n",
    "print(\"Actual number of time points:\", num_time_points)\n",
    "\n",
    "# Create empty dictionaries to store electrode placements for each class\n",
    "left_electrodes = {}\n",
    "right_electrodes = {}\n",
    "\n",
    "# Define the montage for the 10-20 system\n",
    "montage = mne.channels.make_standard_montage('standard_1020', head_size=1.0)\n",
    "\n",
    "# Create an info object for the dataset\n",
    "info = mne.create_info(ch_names=eeg_channels.tolist(), sfreq=250, ch_types='eeg')\n",
    "raw = mne.io.RawArray(np.zeros((num_eeg_channels, num_time_points)), info)\n",
    "\n",
    "# Set the montage for the info object\n",
    "raw.set_montage(montage)\n",
    "\n",
    "# Loop through the dataset to extract electrode locations for each class\n",
    "for index, row in data.iterrows():\n",
    "    label = row['label']\n",
    "    epoch = row['epoch']\n",
    "    epoch_data = row[eeg_channels].values.reshape(num_eeg_channels, 1) * 1e-6  # Convert microvolts to volts\n",
    "\n",
    "    # Update the data for the info object\n",
    "    raw._data = epoch_data\n",
    "\n",
    "    # Get the coordinates of the electrodes for each class\n",
    "    if label == 'left':\n",
    "        left_electrodes[epoch] = raw.get_channel_positions()\n",
    "    elif label == 'right':\n",
    "        right_electrodes[epoch] = raw.get_channel_positions()\n",
    "\n",
    "# Print the electrode placements for each class\n",
    "print(\"Electrode placements for imagining the left class:\")\n",
    "for epoch, electrodes in left_electrodes.items():\n",
    "    print(f\"Epoch {epoch}: {electrodes}\")\n",
    "\n",
    "print(\"\\nElectrode placements for imagining the right class:\")\n",
    "for epoch, electrodes in right_electrodes.items():\n",
    "    print(f\"Epoch {epoch}: {electrodes}\")\n"
   ]
  },
  {
   "cell_type": "code",
   "execution_count": 14,
   "id": "582fa3dc",
   "metadata": {},
   "outputs": [
    {
     "name": "stdout",
     "output_type": "stream",
     "text": [
      "Actual number of EEG channels: 22\n",
      "Actual number of time points: 57888\n",
      "Creating RawArray with float64 data, n_channels=22, n_times=57888\n",
      "    Range : 0 ... 57887 =      0.000 ...   231.548 secs\n",
      "Ready.\n"
     ]
    },
    {
     "ename": "KeyError",
     "evalue": "\"['EEG-0', 'EEG-1', 'EEG-2', 'EEG-3', 'EEG-4', 'EEG-5', 'EEG-6', 'EEG-7', 'EEG-8', 'EEG-9', 'EEG-10', 'EEG-11', 'EEG-12', 'EEG-13', 'EEG-14', 'EEG-15'] not in index\"",
     "output_type": "error",
     "traceback": [
      "\u001b[1;31m---------------------------------------------------------------------------\u001b[0m",
      "\u001b[1;31mKeyError\u001b[0m                                  Traceback (most recent call last)",
      "\u001b[1;32m<ipython-input-14-dcb566f1445b>\u001b[0m in \u001b[0;36m<module>\u001b[1;34m\u001b[0m\n\u001b[0;32m     62\u001b[0m     \u001b[0mlabel\u001b[0m \u001b[1;33m=\u001b[0m \u001b[0mrow\u001b[0m\u001b[1;33m[\u001b[0m\u001b[1;34m'label'\u001b[0m\u001b[1;33m]\u001b[0m\u001b[1;33m\u001b[0m\u001b[1;33m\u001b[0m\u001b[0m\n\u001b[0;32m     63\u001b[0m     \u001b[0mepoch\u001b[0m \u001b[1;33m=\u001b[0m \u001b[0mrow\u001b[0m\u001b[1;33m[\u001b[0m\u001b[1;34m'epoch'\u001b[0m\u001b[1;33m]\u001b[0m\u001b[1;33m\u001b[0m\u001b[1;33m\u001b[0m\u001b[0m\n\u001b[1;32m---> 64\u001b[1;33m     \u001b[0mepoch_data\u001b[0m \u001b[1;33m=\u001b[0m \u001b[0mrow\u001b[0m\u001b[1;33m[\u001b[0m\u001b[0meeg_channels\u001b[0m\u001b[1;33m]\u001b[0m\u001b[1;33m.\u001b[0m\u001b[0mvalues\u001b[0m\u001b[1;33m.\u001b[0m\u001b[0mreshape\u001b[0m\u001b[1;33m(\u001b[0m\u001b[0mnum_eeg_channels\u001b[0m\u001b[1;33m,\u001b[0m \u001b[1;36m1\u001b[0m\u001b[1;33m)\u001b[0m \u001b[1;33m*\u001b[0m \u001b[1;36m1e-6\u001b[0m  \u001b[1;31m# Convert microvolts to volts\u001b[0m\u001b[1;33m\u001b[0m\u001b[1;33m\u001b[0m\u001b[0m\n\u001b[0m\u001b[0;32m     65\u001b[0m \u001b[1;33m\u001b[0m\u001b[0m\n\u001b[0;32m     66\u001b[0m     \u001b[1;31m# Update the data for the raw object\u001b[0m\u001b[1;33m\u001b[0m\u001b[1;33m\u001b[0m\u001b[1;33m\u001b[0m\u001b[0m\n",
      "\u001b[1;32m~\\anaconda3\\lib\\site-packages\\pandas\\core\\series.py\u001b[0m in \u001b[0;36m__getitem__\u001b[1;34m(self, key)\u001b[0m\n\u001b[0;32m   1031\u001b[0m             \u001b[1;32mreturn\u001b[0m \u001b[0mself\u001b[0m\u001b[1;33m.\u001b[0m\u001b[0m_get_values\u001b[0m\u001b[1;33m(\u001b[0m\u001b[0mkey\u001b[0m\u001b[1;33m)\u001b[0m\u001b[1;33m\u001b[0m\u001b[1;33m\u001b[0m\u001b[0m\n\u001b[0;32m   1032\u001b[0m \u001b[1;33m\u001b[0m\u001b[0m\n\u001b[1;32m-> 1033\u001b[1;33m         \u001b[1;32mreturn\u001b[0m \u001b[0mself\u001b[0m\u001b[1;33m.\u001b[0m\u001b[0m_get_with\u001b[0m\u001b[1;33m(\u001b[0m\u001b[0mkey\u001b[0m\u001b[1;33m)\u001b[0m\u001b[1;33m\u001b[0m\u001b[1;33m\u001b[0m\u001b[0m\n\u001b[0m\u001b[0;32m   1034\u001b[0m \u001b[1;33m\u001b[0m\u001b[0m\n\u001b[0;32m   1035\u001b[0m     \u001b[1;32mdef\u001b[0m \u001b[0m_get_with\u001b[0m\u001b[1;33m(\u001b[0m\u001b[0mself\u001b[0m\u001b[1;33m,\u001b[0m \u001b[0mkey\u001b[0m\u001b[1;33m)\u001b[0m\u001b[1;33m:\u001b[0m\u001b[1;33m\u001b[0m\u001b[1;33m\u001b[0m\u001b[0m\n",
      "\u001b[1;32m~\\anaconda3\\lib\\site-packages\\pandas\\core\\series.py\u001b[0m in \u001b[0;36m_get_with\u001b[1;34m(self, key)\u001b[0m\n\u001b[0;32m   1071\u001b[0m \u001b[1;33m\u001b[0m\u001b[0m\n\u001b[0;32m   1072\u001b[0m         \u001b[1;31m# handle the dup indexing case GH#4246\u001b[0m\u001b[1;33m\u001b[0m\u001b[1;33m\u001b[0m\u001b[1;33m\u001b[0m\u001b[0m\n\u001b[1;32m-> 1073\u001b[1;33m         \u001b[1;32mreturn\u001b[0m \u001b[0mself\u001b[0m\u001b[1;33m.\u001b[0m\u001b[0mloc\u001b[0m\u001b[1;33m[\u001b[0m\u001b[0mkey\u001b[0m\u001b[1;33m]\u001b[0m\u001b[1;33m\u001b[0m\u001b[1;33m\u001b[0m\u001b[0m\n\u001b[0m\u001b[0;32m   1074\u001b[0m \u001b[1;33m\u001b[0m\u001b[0m\n\u001b[0;32m   1075\u001b[0m     \u001b[1;32mdef\u001b[0m \u001b[0m_get_values_tuple\u001b[0m\u001b[1;33m(\u001b[0m\u001b[0mself\u001b[0m\u001b[1;33m,\u001b[0m \u001b[0mkey\u001b[0m\u001b[1;33m:\u001b[0m \u001b[0mtuple\u001b[0m\u001b[1;33m)\u001b[0m\u001b[1;33m:\u001b[0m\u001b[1;33m\u001b[0m\u001b[1;33m\u001b[0m\u001b[0m\n",
      "\u001b[1;32m~\\anaconda3\\lib\\site-packages\\pandas\\core\\indexing.py\u001b[0m in \u001b[0;36m__getitem__\u001b[1;34m(self, key)\u001b[0m\n\u001b[0;32m   1101\u001b[0m \u001b[1;33m\u001b[0m\u001b[0m\n\u001b[0;32m   1102\u001b[0m             \u001b[0mmaybe_callable\u001b[0m \u001b[1;33m=\u001b[0m \u001b[0mcom\u001b[0m\u001b[1;33m.\u001b[0m\u001b[0mapply_if_callable\u001b[0m\u001b[1;33m(\u001b[0m\u001b[0mkey\u001b[0m\u001b[1;33m,\u001b[0m \u001b[0mself\u001b[0m\u001b[1;33m.\u001b[0m\u001b[0mobj\u001b[0m\u001b[1;33m)\u001b[0m\u001b[1;33m\u001b[0m\u001b[1;33m\u001b[0m\u001b[0m\n\u001b[1;32m-> 1103\u001b[1;33m             \u001b[1;32mreturn\u001b[0m \u001b[0mself\u001b[0m\u001b[1;33m.\u001b[0m\u001b[0m_getitem_axis\u001b[0m\u001b[1;33m(\u001b[0m\u001b[0mmaybe_callable\u001b[0m\u001b[1;33m,\u001b[0m \u001b[0maxis\u001b[0m\u001b[1;33m=\u001b[0m\u001b[0maxis\u001b[0m\u001b[1;33m)\u001b[0m\u001b[1;33m\u001b[0m\u001b[1;33m\u001b[0m\u001b[0m\n\u001b[0m\u001b[0;32m   1104\u001b[0m \u001b[1;33m\u001b[0m\u001b[0m\n\u001b[0;32m   1105\u001b[0m     \u001b[1;32mdef\u001b[0m \u001b[0m_is_scalar_access\u001b[0m\u001b[1;33m(\u001b[0m\u001b[0mself\u001b[0m\u001b[1;33m,\u001b[0m \u001b[0mkey\u001b[0m\u001b[1;33m:\u001b[0m \u001b[0mtuple\u001b[0m\u001b[1;33m)\u001b[0m\u001b[1;33m:\u001b[0m\u001b[1;33m\u001b[0m\u001b[1;33m\u001b[0m\u001b[0m\n",
      "\u001b[1;32m~\\anaconda3\\lib\\site-packages\\pandas\\core\\indexing.py\u001b[0m in \u001b[0;36m_getitem_axis\u001b[1;34m(self, key, axis)\u001b[0m\n\u001b[0;32m   1330\u001b[0m                     \u001b[1;32mraise\u001b[0m \u001b[0mValueError\u001b[0m\u001b[1;33m(\u001b[0m\u001b[1;34m\"Cannot index with multidimensional key\"\u001b[0m\u001b[1;33m)\u001b[0m\u001b[1;33m\u001b[0m\u001b[1;33m\u001b[0m\u001b[0m\n\u001b[0;32m   1331\u001b[0m \u001b[1;33m\u001b[0m\u001b[0m\n\u001b[1;32m-> 1332\u001b[1;33m                 \u001b[1;32mreturn\u001b[0m \u001b[0mself\u001b[0m\u001b[1;33m.\u001b[0m\u001b[0m_getitem_iterable\u001b[0m\u001b[1;33m(\u001b[0m\u001b[0mkey\u001b[0m\u001b[1;33m,\u001b[0m \u001b[0maxis\u001b[0m\u001b[1;33m=\u001b[0m\u001b[0maxis\u001b[0m\u001b[1;33m)\u001b[0m\u001b[1;33m\u001b[0m\u001b[1;33m\u001b[0m\u001b[0m\n\u001b[0m\u001b[0;32m   1333\u001b[0m \u001b[1;33m\u001b[0m\u001b[0m\n\u001b[0;32m   1334\u001b[0m             \u001b[1;31m# nested tuple slicing\u001b[0m\u001b[1;33m\u001b[0m\u001b[1;33m\u001b[0m\u001b[1;33m\u001b[0m\u001b[0m\n",
      "\u001b[1;32m~\\anaconda3\\lib\\site-packages\\pandas\\core\\indexing.py\u001b[0m in \u001b[0;36m_getitem_iterable\u001b[1;34m(self, key, axis)\u001b[0m\n\u001b[0;32m   1270\u001b[0m \u001b[1;33m\u001b[0m\u001b[0m\n\u001b[0;32m   1271\u001b[0m         \u001b[1;31m# A collection of keys\u001b[0m\u001b[1;33m\u001b[0m\u001b[1;33m\u001b[0m\u001b[1;33m\u001b[0m\u001b[0m\n\u001b[1;32m-> 1272\u001b[1;33m         \u001b[0mkeyarr\u001b[0m\u001b[1;33m,\u001b[0m \u001b[0mindexer\u001b[0m \u001b[1;33m=\u001b[0m \u001b[0mself\u001b[0m\u001b[1;33m.\u001b[0m\u001b[0m_get_listlike_indexer\u001b[0m\u001b[1;33m(\u001b[0m\u001b[0mkey\u001b[0m\u001b[1;33m,\u001b[0m \u001b[0maxis\u001b[0m\u001b[1;33m)\u001b[0m\u001b[1;33m\u001b[0m\u001b[1;33m\u001b[0m\u001b[0m\n\u001b[0m\u001b[0;32m   1273\u001b[0m         return self.obj._reindex_with_indexers(\n\u001b[0;32m   1274\u001b[0m             \u001b[1;33m{\u001b[0m\u001b[0maxis\u001b[0m\u001b[1;33m:\u001b[0m \u001b[1;33m[\u001b[0m\u001b[0mkeyarr\u001b[0m\u001b[1;33m,\u001b[0m \u001b[0mindexer\u001b[0m\u001b[1;33m]\u001b[0m\u001b[1;33m}\u001b[0m\u001b[1;33m,\u001b[0m \u001b[0mcopy\u001b[0m\u001b[1;33m=\u001b[0m\u001b[1;32mTrue\u001b[0m\u001b[1;33m,\u001b[0m \u001b[0mallow_dups\u001b[0m\u001b[1;33m=\u001b[0m\u001b[1;32mTrue\u001b[0m\u001b[1;33m\u001b[0m\u001b[1;33m\u001b[0m\u001b[0m\n",
      "\u001b[1;32m~\\anaconda3\\lib\\site-packages\\pandas\\core\\indexing.py\u001b[0m in \u001b[0;36m_get_listlike_indexer\u001b[1;34m(self, key, axis)\u001b[0m\n\u001b[0;32m   1460\u001b[0m         \u001b[0maxis_name\u001b[0m \u001b[1;33m=\u001b[0m \u001b[0mself\u001b[0m\u001b[1;33m.\u001b[0m\u001b[0mobj\u001b[0m\u001b[1;33m.\u001b[0m\u001b[0m_get_axis_name\u001b[0m\u001b[1;33m(\u001b[0m\u001b[0maxis\u001b[0m\u001b[1;33m)\u001b[0m\u001b[1;33m\u001b[0m\u001b[1;33m\u001b[0m\u001b[0m\n\u001b[0;32m   1461\u001b[0m \u001b[1;33m\u001b[0m\u001b[0m\n\u001b[1;32m-> 1462\u001b[1;33m         \u001b[0mkeyarr\u001b[0m\u001b[1;33m,\u001b[0m \u001b[0mindexer\u001b[0m \u001b[1;33m=\u001b[0m \u001b[0max\u001b[0m\u001b[1;33m.\u001b[0m\u001b[0m_get_indexer_strict\u001b[0m\u001b[1;33m(\u001b[0m\u001b[0mkey\u001b[0m\u001b[1;33m,\u001b[0m \u001b[0maxis_name\u001b[0m\u001b[1;33m)\u001b[0m\u001b[1;33m\u001b[0m\u001b[1;33m\u001b[0m\u001b[0m\n\u001b[0m\u001b[0;32m   1463\u001b[0m \u001b[1;33m\u001b[0m\u001b[0m\n\u001b[0;32m   1464\u001b[0m         \u001b[1;32mreturn\u001b[0m \u001b[0mkeyarr\u001b[0m\u001b[1;33m,\u001b[0m \u001b[0mindexer\u001b[0m\u001b[1;33m\u001b[0m\u001b[1;33m\u001b[0m\u001b[0m\n",
      "\u001b[1;32m~\\anaconda3\\lib\\site-packages\\pandas\\core\\indexes\\base.py\u001b[0m in \u001b[0;36m_get_indexer_strict\u001b[1;34m(self, key, axis_name)\u001b[0m\n\u001b[0;32m   5875\u001b[0m             \u001b[0mkeyarr\u001b[0m\u001b[1;33m,\u001b[0m \u001b[0mindexer\u001b[0m\u001b[1;33m,\u001b[0m \u001b[0mnew_indexer\u001b[0m \u001b[1;33m=\u001b[0m \u001b[0mself\u001b[0m\u001b[1;33m.\u001b[0m\u001b[0m_reindex_non_unique\u001b[0m\u001b[1;33m(\u001b[0m\u001b[0mkeyarr\u001b[0m\u001b[1;33m)\u001b[0m\u001b[1;33m\u001b[0m\u001b[1;33m\u001b[0m\u001b[0m\n\u001b[0;32m   5876\u001b[0m \u001b[1;33m\u001b[0m\u001b[0m\n\u001b[1;32m-> 5877\u001b[1;33m         \u001b[0mself\u001b[0m\u001b[1;33m.\u001b[0m\u001b[0m_raise_if_missing\u001b[0m\u001b[1;33m(\u001b[0m\u001b[0mkeyarr\u001b[0m\u001b[1;33m,\u001b[0m \u001b[0mindexer\u001b[0m\u001b[1;33m,\u001b[0m \u001b[0maxis_name\u001b[0m\u001b[1;33m)\u001b[0m\u001b[1;33m\u001b[0m\u001b[1;33m\u001b[0m\u001b[0m\n\u001b[0m\u001b[0;32m   5878\u001b[0m \u001b[1;33m\u001b[0m\u001b[0m\n\u001b[0;32m   5879\u001b[0m         \u001b[0mkeyarr\u001b[0m \u001b[1;33m=\u001b[0m \u001b[0mself\u001b[0m\u001b[1;33m.\u001b[0m\u001b[0mtake\u001b[0m\u001b[1;33m(\u001b[0m\u001b[0mindexer\u001b[0m\u001b[1;33m)\u001b[0m\u001b[1;33m\u001b[0m\u001b[1;33m\u001b[0m\u001b[0m\n",
      "\u001b[1;32m~\\anaconda3\\lib\\site-packages\\pandas\\core\\indexes\\base.py\u001b[0m in \u001b[0;36m_raise_if_missing\u001b[1;34m(self, key, indexer, axis_name)\u001b[0m\n\u001b[0;32m   5939\u001b[0m \u001b[1;33m\u001b[0m\u001b[0m\n\u001b[0;32m   5940\u001b[0m             \u001b[0mnot_found\u001b[0m \u001b[1;33m=\u001b[0m \u001b[0mlist\u001b[0m\u001b[1;33m(\u001b[0m\u001b[0mensure_index\u001b[0m\u001b[1;33m(\u001b[0m\u001b[0mkey\u001b[0m\u001b[1;33m)\u001b[0m\u001b[1;33m[\u001b[0m\u001b[0mmissing_mask\u001b[0m\u001b[1;33m.\u001b[0m\u001b[0mnonzero\u001b[0m\u001b[1;33m(\u001b[0m\u001b[1;33m)\u001b[0m\u001b[1;33m[\u001b[0m\u001b[1;36m0\u001b[0m\u001b[1;33m]\u001b[0m\u001b[1;33m]\u001b[0m\u001b[1;33m.\u001b[0m\u001b[0munique\u001b[0m\u001b[1;33m(\u001b[0m\u001b[1;33m)\u001b[0m\u001b[1;33m)\u001b[0m\u001b[1;33m\u001b[0m\u001b[1;33m\u001b[0m\u001b[0m\n\u001b[1;32m-> 5941\u001b[1;33m             \u001b[1;32mraise\u001b[0m \u001b[0mKeyError\u001b[0m\u001b[1;33m(\u001b[0m\u001b[1;34mf\"{not_found} not in index\"\u001b[0m\u001b[1;33m)\u001b[0m\u001b[1;33m\u001b[0m\u001b[1;33m\u001b[0m\u001b[0m\n\u001b[0m\u001b[0;32m   5942\u001b[0m \u001b[1;33m\u001b[0m\u001b[0m\n\u001b[0;32m   5943\u001b[0m     \u001b[1;33m@\u001b[0m\u001b[0moverload\u001b[0m\u001b[1;33m\u001b[0m\u001b[1;33m\u001b[0m\u001b[0m\n",
      "\u001b[1;31mKeyError\u001b[0m: \"['EEG-0', 'EEG-1', 'EEG-2', 'EEG-3', 'EEG-4', 'EEG-5', 'EEG-6', 'EEG-7', 'EEG-8', 'EEG-9', 'EEG-10', 'EEG-11', 'EEG-12', 'EEG-13', 'EEG-14', 'EEG-15'] not in index\""
     ]
    }
   ],
   "source": [
    "import pandas as pd\n",
    "import numpy as np\n",
    "import mne\n",
    "\n",
    "# Load the dataset from the provided CSV file\n",
    "dataset_path = 'BCICIV_2a_2.csv'\n",
    "data = pd.read_csv(dataset_path)\n",
    "\n",
    "# Get the actual number of EEG channels and time points\n",
    "eeg_channels = ['EEG-Fz', 'EEG-0', 'EEG-1', 'EEG-2', 'EEG-3', 'EEG-4',\n",
    "                                    'EEG-5', 'EEG-C3', 'EEG-6', 'EEG-Cz', 'EEG-7', 'EEG-C4',\n",
    "                                    'EEG-8', 'EEG-9', 'EEG-10', 'EEG-11', 'EEG-12', 'EEG-13',\n",
    "                                    'EEG-14', 'EEG-Pz', 'EEG-15', 'EEG-16']\n",
    "num_eeg_channels = len(eeg_channels)\n",
    "num_time_points = len(data)\n",
    "\n",
    "print(\"Actual number of EEG channels:\", num_eeg_channels)\n",
    "print(\"Actual number of time points:\", num_time_points)\n",
    "\n",
    "# Create a mapping dictionary to rename channels to the standard 10-20 system names\n",
    "mapping = {\n",
    "    'EEG-0': 'EEG-Fp1',\n",
    "    'EEG-1': 'EEG-Fp2',\n",
    "    'EEG-2': 'EEG-F3',\n",
    "    'EEG-3': 'EEG-F4',\n",
    "    'EEG-C3': 'EEG-C3',\n",
    "    'EEG-C4': 'EEG-C4',\n",
    "    'EEG-4': 'EEG-P3',\n",
    "    'EEG-5': 'EEG-P4',\n",
    "    'EEG-6': 'EEG-O1',\n",
    "    'EEG-7': 'EEG-O2',\n",
    "    'EEG-8': 'EEG-F7',\n",
    "    'EEG-9': 'EEG-F8',\n",
    "    'EEG-10': 'EEG-T3',\n",
    "    'EEG-11': 'EEG-T4',\n",
    "    'EEG-12': 'EEG-T5',\n",
    "    'EEG-13': 'EEG-T6',\n",
    "    'EEG-Fz': 'EEG-Fz',\n",
    "    'EEG-Cz': 'EEG-Cz',\n",
    "    'EEG-Pz': 'EEG-Pz',\n",
    "    'EEG-14': 'EEG-A1',\n",
    "    'EEG-15': 'EEG-A2',\n",
    "}\n",
    "\n",
    "\n",
    "# Apply the channel renaming to the data\n",
    "data.rename(columns=mapping, inplace=True)\n",
    "\n",
    "# Create an info object for the dataset using the standard 10-20 system montage\n",
    "montage = mne.channels.make_standard_montage('standard_1020', head_size=1.0)\n",
    "info = mne.create_info(ch_names=eeg_channels, sfreq=250, ch_types='eeg')\n",
    "\n",
    "# Create an empty raw object to store the data and use for electrode placement\n",
    "raw = mne.io.RawArray(np.zeros((num_eeg_channels, num_time_points)), info)\n",
    "\n",
    "# Create dictionaries to store electrode placements for each class\n",
    "left_electrodes = {}\n",
    "right_electrodes = {}\n",
    "\n",
    "# Loop through the dataset to extract electrode locations for each class\n",
    "for index, row in data.iterrows():\n",
    "    label = row['label']\n",
    "    epoch = row['epoch']\n",
    "    epoch_data = row[eeg_channels].values.reshape(num_eeg_channels, 1) * 1e-6  # Convert microvolts to volts\n",
    "\n",
    "    # Update the data for the raw object\n",
    "    raw._data = epoch_data\n",
    "\n",
    "    # Get the coordinates of the electrodes for each class\n",
    "    if label == 'left':\n",
    "        left_electrodes[epoch] = raw.get_channel_positions()\n",
    "    elif label == 'right':\n",
    "        right_electrodes[epoch] = raw.get_channel_positions()\n",
    "\n",
    "# Print the electrode placements for each class\n",
    "print(\"Electrode placements for imagining the left class:\")\n",
    "for epoch, electrodes in left_electrodes.items():\n",
    "    print(f\"Epoch {epoch}: {electrodes}\")\n",
    "\n",
    "print(\"\\nElectrode placements for imagining the right class:\")\n",
    "for epoch, electrodes in right_electrodes.items():\n",
    "    print(f\"Epoch {epoch}: {electrodes}\")\n"
   ]
  },
  {
   "cell_type": "code",
   "execution_count": 15,
   "id": "01fbd8b0",
   "metadata": {},
   "outputs": [
    {
     "ename": "ImportError",
     "evalue": "cannot import name 'read_montage' from 'mne.channels' (C:\\Users\\21694\\anaconda3\\lib\\site-packages\\mne\\channels\\__init__.py)",
     "output_type": "error",
     "traceback": [
      "\u001b[1;31m---------------------------------------------------------------------------\u001b[0m",
      "\u001b[1;31mImportError\u001b[0m                               Traceback (most recent call last)",
      "\u001b[1;32m<ipython-input-15-5856e8bf7020>\u001b[0m in \u001b[0;36m<module>\u001b[1;34m\u001b[0m\n\u001b[0;32m      2\u001b[0m \u001b[1;32mimport\u001b[0m \u001b[0mnumpy\u001b[0m \u001b[1;32mas\u001b[0m \u001b[0mnp\u001b[0m\u001b[1;33m\u001b[0m\u001b[1;33m\u001b[0m\u001b[0m\n\u001b[0;32m      3\u001b[0m \u001b[1;32mimport\u001b[0m \u001b[0mmne\u001b[0m\u001b[1;33m\u001b[0m\u001b[1;33m\u001b[0m\u001b[0m\n\u001b[1;32m----> 4\u001b[1;33m \u001b[1;32mfrom\u001b[0m \u001b[0mmne\u001b[0m\u001b[1;33m.\u001b[0m\u001b[0mchannels\u001b[0m \u001b[1;32mimport\u001b[0m \u001b[0mread_montage\u001b[0m\u001b[1;33m\u001b[0m\u001b[1;33m\u001b[0m\u001b[0m\n\u001b[0m\u001b[0;32m      5\u001b[0m \u001b[1;33m\u001b[0m\u001b[0m\n\u001b[0;32m      6\u001b[0m \u001b[1;31m# Read the provided CSV file\u001b[0m\u001b[1;33m\u001b[0m\u001b[1;33m\u001b[0m\u001b[1;33m\u001b[0m\u001b[0m\n",
      "\u001b[1;31mImportError\u001b[0m: cannot import name 'read_montage' from 'mne.channels' (C:\\Users\\21694\\anaconda3\\lib\\site-packages\\mne\\channels\\__init__.py)"
     ]
    }
   ],
   "source": [
    "import pandas as pd\n",
    "import numpy as np\n",
    "import mne\n",
    "from mne.channels.montage import Montage\n",
    "\n",
    "# Read the provided CSV file\n",
    "df = pd.read_csv('BCICIV_2a_2.csv')\n",
    "\n",
    "# Define the electrode names\n",
    "electrode_names = df.columns[4:].tolist()\n",
    "\n",
    "# Filter the dataset to keep only the left and right classes\n",
    "left_data = df[df['label'] == 'left'][electrode_names].values.T\n",
    "right_data = df[df['label'] == 'right'][electrode_names].values.T\n",
    "\n",
    "# Define the sampling rate\n",
    "sfreq = 250  # Hz\n",
    "\n",
    "# Create MNE Info objects\n",
    "info_left = mne.create_info(ch_names=electrode_names, sfreq=sfreq, ch_types='eeg')\n",
    "info_right = mne.create_info(ch_names=electrode_names, sfreq=sfreq, ch_types='eeg')\n",
    "\n",
    "# Create MNE RawArray objects\n",
    "raw_left = mne.io.RawArray(left_data, info_left)\n",
    "raw_right = mne.io.RawArray(right_data, info_right)\n",
    "\n",
    "# Load the 10-20 international montage\n",
    "montage = read_montage('standard_1020')\n",
    "\n",
    "# Set the montage to the RawArray objects\n",
    "raw_left.set_montage(montage)\n",
    "raw_right.set_montage(montage)\n",
    "\n",
    "# Plot the electrode locations for left class\n",
    "raw_left.plot_sensors(show_names=True)\n",
    "\n",
    "# Plot the electrode locations for right class\n",
    "raw_right.plot_sensors(show_names=True)\n"
   ]
  },
  {
   "cell_type": "code",
   "execution_count": 18,
   "id": "38e6e6fb",
   "metadata": {},
   "outputs": [
    {
     "data": {
      "text/plain": [
       "'1.4.2'"
      ]
     },
     "execution_count": 18,
     "metadata": {},
     "output_type": "execute_result"
    }
   ],
   "source": [
    "mne.__version__"
   ]
  },
  {
   "cell_type": "code",
   "execution_count": 17,
   "id": "75955a4c",
   "metadata": {},
   "outputs": [
    {
     "name": "stdout",
     "output_type": "stream",
     "text": [
      "Requirement already satisfied: mne in c:\\users\\21694\\anaconda3\\lib\\site-packages (1.4.2)\n",
      "Requirement already satisfied: numpy>=1.15.4 in c:\\users\\21694\\anaconda3\\lib\\site-packages (from mne) (1.21.0)\n",
      "Requirement already satisfied: scipy>=1.6.3 in c:\\users\\21694\\anaconda3\\lib\\site-packages (from mne) (1.10.1)\n",
      "Requirement already satisfied: matplotlib>=3.4.0 in c:\\users\\21694\\anaconda3\\lib\\site-packages (from mne) (3.7.2)\n",
      "Requirement already satisfied: tqdm in c:\\users\\21694\\anaconda3\\lib\\site-packages (from mne) (4.59.0)\n",
      "Requirement already satisfied: pooch>=1.5 in c:\\users\\21694\\anaconda3\\lib\\site-packages (from mne) (1.7.0)\n",
      "Requirement already satisfied: decorator in c:\\users\\21694\\anaconda3\\lib\\site-packages (from mne) (5.0.6)\n",
      "Requirement already satisfied: packaging in c:\\users\\21694\\anaconda3\\lib\\site-packages (from mne) (23.1)\n",
      "Requirement already satisfied: jinja2 in c:\\users\\21694\\anaconda3\\lib\\site-packages (from mne) (2.11.3)\n",
      "Requirement already satisfied: importlib-resources>=5.10.2 in c:\\users\\21694\\anaconda3\\lib\\site-packages (from mne) (6.0.0)\n",
      "Requirement already satisfied: zipp>=3.1.0 in c:\\users\\21694\\anaconda3\\lib\\site-packages (from importlib-resources>=5.10.2->mne) (3.4.1)\n",
      "Requirement already satisfied: contourpy>=1.0.1 in c:\\users\\21694\\anaconda3\\lib\\site-packages (from matplotlib>=3.4.0->mne) (1.1.0)\n",
      "Requirement already satisfied: cycler>=0.10 in c:\\users\\21694\\anaconda3\\lib\\site-packages (from matplotlib>=3.4.0->mne) (0.10.0)\n",
      "Requirement already satisfied: fonttools>=4.22.0 in c:\\users\\21694\\anaconda3\\lib\\site-packages (from matplotlib>=3.4.0->mne) (4.41.0)\n",
      "Requirement already satisfied: kiwisolver>=1.0.1 in c:\\users\\21694\\anaconda3\\lib\\site-packages (from matplotlib>=3.4.0->mne) (1.3.1)\n",
      "Requirement already satisfied: pillow>=6.2.0 in c:\\users\\21694\\anaconda3\\lib\\site-packages (from matplotlib>=3.4.0->mne) (8.2.0)\n",
      "Requirement already satisfied: pyparsing<3.1,>=2.3.1 in c:\\users\\21694\\anaconda3\\lib\\site-packages (from matplotlib>=3.4.0->mne) (2.4.7)\n",
      "Requirement already satisfied: python-dateutil>=2.7 in c:\\users\\21694\\anaconda3\\lib\\site-packages (from matplotlib>=3.4.0->mne) (2.8.2)\n",
      "Requirement already satisfied: platformdirs>=2.5.0 in c:\\users\\21694\\anaconda3\\lib\\site-packages (from pooch>=1.5->mne) (3.9.1)\n",
      "Requirement already satisfied: requests>=2.19.0 in c:\\users\\21694\\anaconda3\\lib\\site-packages (from pooch>=1.5->mne) (2.25.1)\n",
      "Requirement already satisfied: MarkupSafe>=0.23 in c:\\users\\21694\\anaconda3\\lib\\site-packages (from jinja2->mne) (1.1.1)\n",
      "Requirement already satisfied: six in c:\\users\\21694\\anaconda3\\lib\\site-packages (from cycler>=0.10->matplotlib>=3.4.0->mne) (1.15.0)\n",
      "Requirement already satisfied: chardet<5,>=3.0.2 in c:\\users\\21694\\anaconda3\\lib\\site-packages (from requests>=2.19.0->pooch>=1.5->mne) (4.0.0)\n",
      "Requirement already satisfied: idna<3,>=2.5 in c:\\users\\21694\\anaconda3\\lib\\site-packages (from requests>=2.19.0->pooch>=1.5->mne) (2.10)\n",
      "Requirement already satisfied: urllib3<1.27,>=1.21.1 in c:\\users\\21694\\anaconda3\\lib\\site-packages (from requests>=2.19.0->pooch>=1.5->mne) (1.26.4)\n",
      "Requirement already satisfied: certifi>=2017.4.17 in c:\\users\\21694\\anaconda3\\lib\\site-packages (from requests>=2.19.0->pooch>=1.5->mne) (2022.5.18.1)\n",
      "Note: you may need to restart the kernel to use updated packages.\n"
     ]
    },
    {
     "name": "stderr",
     "output_type": "stream",
     "text": [
      "DEPRECATION: pyodbc 4.0.0-unsupported has a non-standard version number. pip 23.3 will enforce this behaviour change. A possible replacement is to upgrade to a newer version of pyodbc or contact the author to suggest that they release a version with a conforming version number. Discussion can be found at https://github.com/pypa/pip/issues/12063\n"
     ]
    }
   ],
   "source": [
    "pip install --upgrade mne"
   ]
  },
  {
   "cell_type": "code",
   "execution_count": 19,
   "id": "aa9f636e",
   "metadata": {},
   "outputs": [
    {
     "name": "stdout",
     "output_type": "stream",
     "text": [
      "Creating RawArray with float64 data, n_channels=22, n_times=57888\n",
      "    Range : 0 ... 57887 =      0.000 ...   231.548 secs\n",
      "Ready.\n"
     ]
    },
    {
     "ename": "ValueError",
     "evalue": "DigMontage is only a subset of info. There are 22 channel positions not present in the DigMontage. The channels missing from the montage are:\n\n['EEG-Fz', 'EEG-0', 'EEG-1', 'EEG-2', 'EEG-3', 'EEG-4', 'EEG-5', 'EEG-C3', 'EEG-6', 'EEG-Cz', 'EEG-7', 'EEG-C4', 'EEG-8', 'EEG-9', 'EEG-10', 'EEG-11', 'EEG-12', 'EEG-13', 'EEG-14', 'EEG-Pz', 'EEG-15', 'EEG-16'].\n\nConsider using inst.rename_channels to match the montage nomenclature, or inst.set_channel_types if these are not EEG channels, or use the on_missing parameter if the channel positions are allowed to be unknown in your analyses.",
     "output_type": "error",
     "traceback": [
      "\u001b[1;31m---------------------------------------------------------------------------\u001b[0m",
      "\u001b[1;31mValueError\u001b[0m                                Traceback (most recent call last)",
      "\u001b[1;32m<ipython-input-19-cd0e8b781ce3>\u001b[0m in \u001b[0;36m<module>\u001b[1;34m\u001b[0m\n\u001b[0;32m     26\u001b[0m \u001b[1;33m\u001b[0m\u001b[0m\n\u001b[0;32m     27\u001b[0m \u001b[1;31m# Apply the montage to the Raw object\u001b[0m\u001b[1;33m\u001b[0m\u001b[1;33m\u001b[0m\u001b[1;33m\u001b[0m\u001b[0m\n\u001b[1;32m---> 28\u001b[1;33m \u001b[0mraw\u001b[0m\u001b[1;33m.\u001b[0m\u001b[0mset_montage\u001b[0m\u001b[1;33m(\u001b[0m\u001b[0mmontage\u001b[0m\u001b[1;33m)\u001b[0m\u001b[1;33m\u001b[0m\u001b[1;33m\u001b[0m\u001b[0m\n\u001b[0m\u001b[0;32m     29\u001b[0m \u001b[1;33m\u001b[0m\u001b[0m\n\u001b[0;32m     30\u001b[0m \u001b[1;31m# Pick channels corresponding to C3 and C4 (left and right motor cortex)\u001b[0m\u001b[1;33m\u001b[0m\u001b[1;33m\u001b[0m\u001b[1;33m\u001b[0m\u001b[0m\n",
      "\u001b[1;32m<decorator-gen-36>\u001b[0m in \u001b[0;36mset_montage\u001b[1;34m(self, montage, match_case, match_alias, on_missing, verbose)\u001b[0m\n",
      "\u001b[1;32m~\\anaconda3\\lib\\site-packages\\mne\\io\\meas_info.py\u001b[0m in \u001b[0;36mset_montage\u001b[1;34m(self, montage, match_case, match_alias, on_missing, verbose)\u001b[0m\n\u001b[0;32m    421\u001b[0m \u001b[1;33m\u001b[0m\u001b[0m\n\u001b[0;32m    422\u001b[0m         \u001b[0minfo\u001b[0m \u001b[1;33m=\u001b[0m \u001b[0mself\u001b[0m \u001b[1;32mif\u001b[0m \u001b[0misinstance\u001b[0m\u001b[1;33m(\u001b[0m\u001b[0mself\u001b[0m\u001b[1;33m,\u001b[0m \u001b[0mInfo\u001b[0m\u001b[1;33m)\u001b[0m \u001b[1;32melse\u001b[0m \u001b[0mself\u001b[0m\u001b[1;33m.\u001b[0m\u001b[0minfo\u001b[0m\u001b[1;33m\u001b[0m\u001b[1;33m\u001b[0m\u001b[0m\n\u001b[1;32m--> 423\u001b[1;33m         \u001b[0m_set_montage\u001b[0m\u001b[1;33m(\u001b[0m\u001b[0minfo\u001b[0m\u001b[1;33m,\u001b[0m \u001b[0mmontage\u001b[0m\u001b[1;33m,\u001b[0m \u001b[0mmatch_case\u001b[0m\u001b[1;33m,\u001b[0m \u001b[0mmatch_alias\u001b[0m\u001b[1;33m,\u001b[0m \u001b[0mon_missing\u001b[0m\u001b[1;33m)\u001b[0m\u001b[1;33m\u001b[0m\u001b[1;33m\u001b[0m\u001b[0m\n\u001b[0m\u001b[0;32m    424\u001b[0m         \u001b[1;32mreturn\u001b[0m \u001b[0mself\u001b[0m\u001b[1;33m\u001b[0m\u001b[1;33m\u001b[0m\u001b[0m\n\u001b[0;32m    425\u001b[0m \u001b[1;33m\u001b[0m\u001b[0m\n",
      "\u001b[1;32m~\\anaconda3\\lib\\site-packages\\mne\\channels\\montage.py\u001b[0m in \u001b[0;36m_set_montage\u001b[1;34m(***failed resolving arguments***)\u001b[0m\n\u001b[0;32m   1256\u001b[0m             \u001b[1;34mf\"position{pl} {are_is} allowed to be unknown in your analyses.\"\u001b[0m\u001b[1;33m\u001b[0m\u001b[1;33m\u001b[0m\u001b[0m\n\u001b[0;32m   1257\u001b[0m         )\n\u001b[1;32m-> 1258\u001b[1;33m         \u001b[0m_on_missing\u001b[0m\u001b[1;33m(\u001b[0m\u001b[0mon_missing\u001b[0m\u001b[1;33m,\u001b[0m \u001b[0mmissing_coord_msg\u001b[0m\u001b[1;33m)\u001b[0m\u001b[1;33m\u001b[0m\u001b[1;33m\u001b[0m\u001b[0m\n\u001b[0m\u001b[0;32m   1259\u001b[0m \u001b[1;33m\u001b[0m\u001b[0m\n\u001b[0;32m   1260\u001b[0m         \u001b[1;31m# set ch coordinates and names from digmontage or nan coords\u001b[0m\u001b[1;33m\u001b[0m\u001b[1;33m\u001b[0m\u001b[1;33m\u001b[0m\u001b[0m\n",
      "\u001b[1;32m~\\anaconda3\\lib\\site-packages\\mne\\utils\\check.py\u001b[0m in \u001b[0;36m_on_missing\u001b[1;34m(on_missing, msg, name, error_klass)\u001b[0m\n\u001b[0;32m   1140\u001b[0m     \u001b[0mon_missing\u001b[0m \u001b[1;33m=\u001b[0m \u001b[1;34m\"warn\"\u001b[0m \u001b[1;32mif\u001b[0m \u001b[0mon_missing\u001b[0m \u001b[1;33m==\u001b[0m \u001b[1;34m\"warning\"\u001b[0m \u001b[1;32melse\u001b[0m \u001b[0mon_missing\u001b[0m\u001b[1;33m\u001b[0m\u001b[1;33m\u001b[0m\u001b[0m\n\u001b[0;32m   1141\u001b[0m     \u001b[1;32mif\u001b[0m \u001b[0mon_missing\u001b[0m \u001b[1;33m==\u001b[0m \u001b[1;34m\"raise\"\u001b[0m\u001b[1;33m:\u001b[0m\u001b[1;33m\u001b[0m\u001b[1;33m\u001b[0m\u001b[0m\n\u001b[1;32m-> 1142\u001b[1;33m         \u001b[1;32mraise\u001b[0m \u001b[0merror_klass\u001b[0m\u001b[1;33m(\u001b[0m\u001b[0mmsg\u001b[0m\u001b[1;33m)\u001b[0m\u001b[1;33m\u001b[0m\u001b[1;33m\u001b[0m\u001b[0m\n\u001b[0m\u001b[0;32m   1143\u001b[0m     \u001b[1;32melif\u001b[0m \u001b[0mon_missing\u001b[0m \u001b[1;33m==\u001b[0m \u001b[1;34m\"warn\"\u001b[0m\u001b[1;33m:\u001b[0m\u001b[1;33m\u001b[0m\u001b[1;33m\u001b[0m\u001b[0m\n\u001b[0;32m   1144\u001b[0m         \u001b[0mwarn\u001b[0m\u001b[1;33m(\u001b[0m\u001b[0mmsg\u001b[0m\u001b[1;33m)\u001b[0m\u001b[1;33m\u001b[0m\u001b[1;33m\u001b[0m\u001b[0m\n",
      "\u001b[1;31mValueError\u001b[0m: DigMontage is only a subset of info. There are 22 channel positions not present in the DigMontage. The channels missing from the montage are:\n\n['EEG-Fz', 'EEG-0', 'EEG-1', 'EEG-2', 'EEG-3', 'EEG-4', 'EEG-5', 'EEG-C3', 'EEG-6', 'EEG-Cz', 'EEG-7', 'EEG-C4', 'EEG-8', 'EEG-9', 'EEG-10', 'EEG-11', 'EEG-12', 'EEG-13', 'EEG-14', 'EEG-Pz', 'EEG-15', 'EEG-16'].\n\nConsider using inst.rename_channels to match the montage nomenclature, or inst.set_channel_types if these are not EEG channels, or use the on_missing parameter if the channel positions are allowed to be unknown in your analyses."
     ]
    }
   ],
   "source": [
    "import pandas as pd\n",
    "import mne\n",
    "import numpy as np\n",
    "\n",
    "# Load the provided motor imagery dataset from the CSV file\n",
    "data = pd.read_csv(\"BCICIV_2a_2.csv\")\n",
    "\n",
    "# Define the channel names\n",
    "channels = data.columns[4:].tolist()\n",
    "\n",
    "# Create an MNE info object with the channel names and sampling rate\n",
    "info = mne.create_info(channels, sfreq=250, ch_types=\"eeg\")\n",
    "\n",
    "# Initialize an empty array to store the EEG data\n",
    "eeg_data = np.zeros((len(data), len(channels)))\n",
    "\n",
    "# Fill the EEG data array with the values from the CSV file\n",
    "for i, channel in enumerate(channels):\n",
    "    eeg_data[:, i] = data[channel]\n",
    "\n",
    "# Create an MNE Raw object with the EEG data and info\n",
    "raw = mne.io.RawArray(eeg_data.T, info)\n",
    "\n",
    "# Define the electrode positions for the Biosemi32 montage\n",
    "montage = mne.channels.make_standard_montage(\"biosemi32\")\n",
    "\n",
    "# Apply the montage to the Raw object\n",
    "raw.set_montage(montage)\n",
    "\n",
    "# Pick channels corresponding to C3 and C4 (left and right motor cortex)\n",
    "left_channels = [\"EEG-C3\"]\n",
    "right_channels = [\"EEG-C4\"]\n",
    "\n",
    "# Extract epochs for left and right motor imagery\n",
    "left_events = data[data[\"label\"] == \"left\"][\"epoch\"].values\n",
    "right_events = data[data[\"label\"] == \"right\"][\"epoch\"].values\n",
    "\n",
    "left_epochs = mne.Epochs(raw, left_events, tmin=-0.5, tmax=4, baseline=None, picks=left_channels, event_id=None)\n",
    "right_epochs = mne.Epochs(raw, right_events, tmin=-0.5, tmax=4, baseline=None, picks=right_channels, event_id=None)\n",
    "\n",
    "# Save the left and right motor imagery epochs to new datasets\n",
    "left_epochs.save(\"left_motor_imagery-epo.fif\")\n",
    "right_epochs.save(\"right_motor_imagery-epo.fif\")\n"
   ]
  },
  {
   "cell_type": "code",
   "execution_count": 3,
   "id": "86b72bb6",
   "metadata": {},
   "outputs": [
    {
     "ename": "ValueError",
     "evalue": "DigMontage is only a subset of info. There are 22 channel positions not present in the DigMontage. The channels missing from the montage are:\n\n['EEG-Fz', 'EEG-0', 'EEG-1', 'EEG-2', 'EEG-3', 'EEG-4', 'EEG-5', 'EEG-C3', 'EEG-6', 'EEG-Cz', 'EEG-7', 'EEG-C4', 'EEG-8', 'EEG-9', 'EEG-10', 'EEG-11', 'EEG-12', 'EEG-13', 'EEG-14', 'EEG-Pz', 'EEG-15', 'EEG-16'].\n\nConsider using inst.rename_channels to match the montage nomenclature, or inst.set_channel_types if these are not EEG channels, or use the on_missing parameter if the channel positions are allowed to be unknown in your analyses.",
     "output_type": "error",
     "traceback": [
      "\u001b[1;31m---------------------------------------------------------------------------\u001b[0m",
      "\u001b[1;31mValueError\u001b[0m                                Traceback (most recent call last)",
      "\u001b[1;32m<ipython-input-3-8fa52d128d93>\u001b[0m in \u001b[0;36m<module>\u001b[1;34m\u001b[0m\n\u001b[0;32m     25\u001b[0m     \u001b[1;31m# Create an info object for MNE\u001b[0m\u001b[1;33m\u001b[0m\u001b[1;33m\u001b[0m\u001b[1;33m\u001b[0m\u001b[0m\n\u001b[0;32m     26\u001b[0m     \u001b[0minfo\u001b[0m \u001b[1;33m=\u001b[0m \u001b[0mmne\u001b[0m\u001b[1;33m.\u001b[0m\u001b[0mcreate_info\u001b[0m\u001b[1;33m(\u001b[0m\u001b[0mch_names\u001b[0m\u001b[1;33m=\u001b[0m\u001b[0mlist\u001b[0m\u001b[1;33m(\u001b[0m\u001b[0melectrode_names\u001b[0m\u001b[1;33m)\u001b[0m\u001b[1;33m,\u001b[0m \u001b[0msfreq\u001b[0m\u001b[1;33m=\u001b[0m\u001b[0msampling_rate\u001b[0m\u001b[1;33m,\u001b[0m \u001b[0mch_types\u001b[0m\u001b[1;33m=\u001b[0m\u001b[1;34m'eeg'\u001b[0m\u001b[1;33m)\u001b[0m\u001b[1;33m\u001b[0m\u001b[1;33m\u001b[0m\u001b[0m\n\u001b[1;32m---> 27\u001b[1;33m     \u001b[0minfo\u001b[0m\u001b[1;33m.\u001b[0m\u001b[0mset_montage\u001b[0m\u001b[1;33m(\u001b[0m\u001b[0mmontage\u001b[0m\u001b[1;33m)\u001b[0m\u001b[1;33m\u001b[0m\u001b[1;33m\u001b[0m\u001b[0m\n\u001b[0m\u001b[0;32m     28\u001b[0m \u001b[1;33m\u001b[0m\u001b[0m\n\u001b[0;32m     29\u001b[0m     \u001b[1;31m# Create an empty data array\u001b[0m\u001b[1;33m\u001b[0m\u001b[1;33m\u001b[0m\u001b[1;33m\u001b[0m\u001b[0m\n",
      "\u001b[1;32m<decorator-gen-36>\u001b[0m in \u001b[0;36mset_montage\u001b[1;34m(self, montage, match_case, match_alias, on_missing, verbose)\u001b[0m\n",
      "\u001b[1;32m~\\anaconda3\\lib\\site-packages\\mne\\io\\meas_info.py\u001b[0m in \u001b[0;36mset_montage\u001b[1;34m(self, montage, match_case, match_alias, on_missing, verbose)\u001b[0m\n\u001b[0;32m    421\u001b[0m \u001b[1;33m\u001b[0m\u001b[0m\n\u001b[0;32m    422\u001b[0m         \u001b[0minfo\u001b[0m \u001b[1;33m=\u001b[0m \u001b[0mself\u001b[0m \u001b[1;32mif\u001b[0m \u001b[0misinstance\u001b[0m\u001b[1;33m(\u001b[0m\u001b[0mself\u001b[0m\u001b[1;33m,\u001b[0m \u001b[0mInfo\u001b[0m\u001b[1;33m)\u001b[0m \u001b[1;32melse\u001b[0m \u001b[0mself\u001b[0m\u001b[1;33m.\u001b[0m\u001b[0minfo\u001b[0m\u001b[1;33m\u001b[0m\u001b[1;33m\u001b[0m\u001b[0m\n\u001b[1;32m--> 423\u001b[1;33m         \u001b[0m_set_montage\u001b[0m\u001b[1;33m(\u001b[0m\u001b[0minfo\u001b[0m\u001b[1;33m,\u001b[0m \u001b[0mmontage\u001b[0m\u001b[1;33m,\u001b[0m \u001b[0mmatch_case\u001b[0m\u001b[1;33m,\u001b[0m \u001b[0mmatch_alias\u001b[0m\u001b[1;33m,\u001b[0m \u001b[0mon_missing\u001b[0m\u001b[1;33m)\u001b[0m\u001b[1;33m\u001b[0m\u001b[1;33m\u001b[0m\u001b[0m\n\u001b[0m\u001b[0;32m    424\u001b[0m         \u001b[1;32mreturn\u001b[0m \u001b[0mself\u001b[0m\u001b[1;33m\u001b[0m\u001b[1;33m\u001b[0m\u001b[0m\n\u001b[0;32m    425\u001b[0m \u001b[1;33m\u001b[0m\u001b[0m\n",
      "\u001b[1;32m~\\anaconda3\\lib\\site-packages\\mne\\channels\\montage.py\u001b[0m in \u001b[0;36m_set_montage\u001b[1;34m(***failed resolving arguments***)\u001b[0m\n\u001b[0;32m   1256\u001b[0m             \u001b[1;34mf\"position{pl} {are_is} allowed to be unknown in your analyses.\"\u001b[0m\u001b[1;33m\u001b[0m\u001b[1;33m\u001b[0m\u001b[0m\n\u001b[0;32m   1257\u001b[0m         )\n\u001b[1;32m-> 1258\u001b[1;33m         \u001b[0m_on_missing\u001b[0m\u001b[1;33m(\u001b[0m\u001b[0mon_missing\u001b[0m\u001b[1;33m,\u001b[0m \u001b[0mmissing_coord_msg\u001b[0m\u001b[1;33m)\u001b[0m\u001b[1;33m\u001b[0m\u001b[1;33m\u001b[0m\u001b[0m\n\u001b[0m\u001b[0;32m   1259\u001b[0m \u001b[1;33m\u001b[0m\u001b[0m\n\u001b[0;32m   1260\u001b[0m         \u001b[1;31m# set ch coordinates and names from digmontage or nan coords\u001b[0m\u001b[1;33m\u001b[0m\u001b[1;33m\u001b[0m\u001b[1;33m\u001b[0m\u001b[0m\n",
      "\u001b[1;32m~\\anaconda3\\lib\\site-packages\\mne\\utils\\check.py\u001b[0m in \u001b[0;36m_on_missing\u001b[1;34m(on_missing, msg, name, error_klass)\u001b[0m\n\u001b[0;32m   1140\u001b[0m     \u001b[0mon_missing\u001b[0m \u001b[1;33m=\u001b[0m \u001b[1;34m\"warn\"\u001b[0m \u001b[1;32mif\u001b[0m \u001b[0mon_missing\u001b[0m \u001b[1;33m==\u001b[0m \u001b[1;34m\"warning\"\u001b[0m \u001b[1;32melse\u001b[0m \u001b[0mon_missing\u001b[0m\u001b[1;33m\u001b[0m\u001b[1;33m\u001b[0m\u001b[0m\n\u001b[0;32m   1141\u001b[0m     \u001b[1;32mif\u001b[0m \u001b[0mon_missing\u001b[0m \u001b[1;33m==\u001b[0m \u001b[1;34m\"raise\"\u001b[0m\u001b[1;33m:\u001b[0m\u001b[1;33m\u001b[0m\u001b[1;33m\u001b[0m\u001b[0m\n\u001b[1;32m-> 1142\u001b[1;33m         \u001b[1;32mraise\u001b[0m \u001b[0merror_klass\u001b[0m\u001b[1;33m(\u001b[0m\u001b[0mmsg\u001b[0m\u001b[1;33m)\u001b[0m\u001b[1;33m\u001b[0m\u001b[1;33m\u001b[0m\u001b[0m\n\u001b[0m\u001b[0;32m   1143\u001b[0m     \u001b[1;32melif\u001b[0m \u001b[0mon_missing\u001b[0m \u001b[1;33m==\u001b[0m \u001b[1;34m\"warn\"\u001b[0m\u001b[1;33m:\u001b[0m\u001b[1;33m\u001b[0m\u001b[1;33m\u001b[0m\u001b[0m\n\u001b[0;32m   1144\u001b[0m         \u001b[0mwarn\u001b[0m\u001b[1;33m(\u001b[0m\u001b[0mmsg\u001b[0m\u001b[1;33m)\u001b[0m\u001b[1;33m\u001b[0m\u001b[1;33m\u001b[0m\u001b[0m\n",
      "\u001b[1;31mValueError\u001b[0m: DigMontage is only a subset of info. There are 22 channel positions not present in the DigMontage. The channels missing from the montage are:\n\n['EEG-Fz', 'EEG-0', 'EEG-1', 'EEG-2', 'EEG-3', 'EEG-4', 'EEG-5', 'EEG-C3', 'EEG-6', 'EEG-Cz', 'EEG-7', 'EEG-C4', 'EEG-8', 'EEG-9', 'EEG-10', 'EEG-11', 'EEG-12', 'EEG-13', 'EEG-14', 'EEG-Pz', 'EEG-15', 'EEG-16'].\n\nConsider using inst.rename_channels to match the montage nomenclature, or inst.set_channel_types if these are not EEG channels, or use the on_missing parameter if the channel positions are allowed to be unknown in your analyses."
     ]
    }
   ],
   "source": [
    "import pandas as pd\n",
    "import mne\n",
    "import os\n",
    "\n",
    "# Step 1: Import necessary libraries\n",
    "\n",
    "# Step 2: Read the provided CSV file\n",
    "data = pd.read_csv('BCICIV_2a_2.csv')\n",
    "\n",
    "# Step 3: Organize data for each class separately\n",
    "classes = ['right', 'left', 'tongue', 'foot']\n",
    "montage = mne.channels.make_standard_montage('biosemi64')\n",
    "sampling_rate = 250  # 250Hz\n",
    "\n",
    "for class_name in classes:\n",
    "    # Select data for the current class\n",
    "    class_data = data[data['label'] == class_name]\n",
    "\n",
    "    # Extract electrode names from the CSV columns (excluding 'patient', 'time', 'label', 'epoch')\n",
    "    electrode_names = data.columns[4:]\n",
    "\n",
    "    # Get electrode positions from the montage\n",
    "    electrode_positions = montage.get_positions()\n",
    "\n",
    "    # Create an info object for MNE\n",
    "    info = mne.create_info(ch_names=list(electrode_names), sfreq=sampling_rate, ch_types='eeg')\n",
    "    info.set_montage(montage)\n",
    "\n",
    "    # Create an empty data array\n",
    "    data_array = class_data[electrode_names].values.T\n",
    "\n",
    "    # Create a Raw object from the data array and info\n",
    "    raw = mne.io.RawArray(data_array, info)\n",
    "\n",
    "    # Step 5: Save the raw objects to separate folders\n",
    "    folder_name = f'{class_name}_data'\n",
    "    if not os.path.exists(folder_name):\n",
    "        os.makedirs(folder_name)\n",
    "\n",
    "    # Save the raw object\n",
    "    raw.save(os.path.join(folder_name, f'{class_name}_data_raw.fif'), overwrite=True)\n",
    "\n",
    "print(\"Data processing and saving completed successfully.\")\n"
   ]
  },
  {
   "cell_type": "code",
   "execution_count": 6,
   "id": "b8ff368e",
   "metadata": {},
   "outputs": [
    {
     "name": "stdout",
     "output_type": "stream",
     "text": [
      "Creating RawArray with float64 data, n_channels=22, n_times=57888\n",
      "    Range : 0 ... 57887 =      0.000 ...   231.548 secs\n",
      "Ready.\n"
     ]
    },
    {
     "data": {
      "image/png": "[encoded data removed]",
      "text/plain": [
       "<Figure size 460.8x460.8 with 1 Axes>"
      ]
     },
     "metadata": {
      "needs_background": "light"
     },
     "output_type": "display_data"
    },
    {
     "data": {
      "image/png": "[encoded data removed]",
      "text/plain": [
       "<Figure size 460.8x460.8 with 1 Axes>"
      ]
     },
     "execution_count": 6,
     "metadata": {},
     "output_type": "execute_result"
    }
   ],
   "source": [
    "import pandas as pd\n",
    "import mne\n",
    "import os\n",
    "# Step 2: Read the provided CSV file\n",
    "df = pd.read_csv('BCICIV_2a_2.csv')\n",
    "\n",
    "# Step 3: Organize data for each class separately\n",
    "classes = ['right', 'left', 'tongue', 'foot']\n",
    "# Electrode positions for the Biosemi 32-channel EEG system\n",
    "electrode_positions = {\n",
    "    'EEG-Fz': [0.0, 0.0, 0.0],\n",
    "    'EEG-0': [0.0, 0.095, 0.0],\n",
    "    'EEG-1': [-0.078, 0.070, 0.0],\n",
    "    'EEG-2': [0.078, 0.070, 0.0],\n",
    "    'EEG-3': [-0.118, 0.040, 0.0],\n",
    "    'EEG-4': [0.118, 0.040, 0.0],\n",
    "    'EEG-5': [-0.155, 0.0, 0.0],\n",
    "    'EEG-C3': [0.155, 0.0, 0.0],\n",
    "    'EEG-6': [-0.118, -0.040, 0.0],\n",
    "    'EEG-Cz': [0.118, -0.040, 0.0],\n",
    "    'EEG-7': [-0.078, -0.070, 0.0],\n",
    "    'EEG-C4': [0.078, -0.070, 0.0],\n",
    "    'EEG-8': [0.0, -0.095, 0.0],\n",
    "    'EEG-9': [-0.040, 0.095, 0.0],\n",
    "    'EEG-10': [-0.080, 0.070, 0.0],\n",
    "    'EEG-11': [0.040, 0.095, 0.0],\n",
    "    'EEG-12': [0.080, 0.070, 0.0],\n",
    "    'EEG-13': [-0.115, 0.040, 0.0],\n",
    "    'EEG-14': [0.115, 0.040, 0.0],\n",
    "    'EEG-Pz': [0.0, -0.035, 0.0],\n",
    "    'EEG-15': [-0.115, -0.040, 0.0],\n",
    "    'EEG-16': [0.115, -0.040, 0.0],\n",
    "}\n",
    "\n",
    "# Create the montage\n",
    "biosemi_montage = mne.channels.make_dig_montage(ch_pos=electrode_positions, coord_frame='head')\n",
    "ch_names = df.columns[4:].tolist()\n",
    "\n",
    "# Load the data into an MNE RawArray object (assuming your data is in a pandas DataFrame named 'df')\n",
    "# 'info' contains information about the data and channels (e.g., sampling rate, channel names)\n",
    "info = mne.create_info(ch_names=ch_names, sfreq=250, ch_types='eeg')\n",
    "raw_data = mne.io.RawArray(data=df[df.columns[4:]].values.T, info=info)\n",
    "\n",
    "# Set the montage to the RawArray object\n",
    "raw_data.set_montage(biosemi_montage)\n",
    "\n",
    "# Plot the electrode positions to verify the montage\n",
    "raw_data.plot_sensors(show_names=True)\n"
   ]
  },
  {
   "cell_type": "code",
   "execution_count": 22,
   "id": "3a19c219",
   "metadata": {},
   "outputs": [],
   "source": [
    "montage = mne.channels.make_standard_montage('biosemi32')"
   ]
  },
  {
   "cell_type": "code",
   "execution_count": 23,
   "id": "c3989607",
   "metadata": {},
   "outputs": [],
   "source": [
    "data = pd.read_csv(\"BCICIV_2a_2.csv\")"
   ]
  },
  {
   "cell_type": "code",
   "execution_count": 24,
   "id": "24565e0d",
   "metadata": {},
   "outputs": [],
   "source": [
    "montage = mne.channels.make_standard_montage('biosemi32')"
   ]
  },
  {
   "cell_type": "code",
   "execution_count": 25,
   "id": "bac48ec3",
   "metadata": {},
   "outputs": [],
   "source": [
    "unique_classes = data['label'].unique()"
   ]
  },
  {
   "cell_type": "code",
   "execution_count": 27,
   "id": "cee67fc3",
   "metadata": {},
   "outputs": [
    {
     "ename": "IndentationError",
     "evalue": "unexpected indent (<ipython-input-27-d0e614f7779c>, line 19)",
     "output_type": "error",
     "traceback": [
      "\u001b[1;36m  File \u001b[1;32m\"<ipython-input-27-d0e614f7779c>\"\u001b[1;36m, line \u001b[1;32m19\u001b[0m\n\u001b[1;33m    raw = mne.io.RawArray([electrode_values], info=mne.create_info(electrode_names, sfreq=250, ch_types='eeg'),\u001b[0m\n\u001b[1;37m    ^\u001b[0m\n\u001b[1;31mIndentationError\u001b[0m\u001b[1;31m:\u001b[0m unexpected indent\n"
     ]
    }
   ],
   "source": [
    "for class_label in unique_classes:\n",
    "    class_data = data[data['label'] == class_label]\n",
    "    class_folder = f\"{class_label}_data\"\n",
    "    \n",
    "    # Create a folder for the class if it doesn't exist\n",
    "    import os\n",
    "    if not os.path.exists(class_folder):\n",
    "        os.makedirs(class_folder)\n",
    "    \n",
    "    for idx, row in class_data.iterrows():\n",
    "        electrode_names = data.columns[4:]  # Extract electrode names from the columns\n",
    "        electrode_values = row[4:].values   # Extract electrode values from the row\n",
    "        \n",
    "ch_names_list = data['ch_names'].tolist()\n",
    "\n",
    "# Now you can use this list in the mne.create_info() function along with other required parameters.\n",
    "info = mne.create_info(ch_names=ch_names_list, sfreq=250, ch_types='eeg')\n",
    "        # Create a raw MNE object with the EEG data and Biosemi32 montage\n",
    "        raw = mne.io.RawArray([electrode_values], info=mne.create_info(electrode_names, sfreq=250, ch_types='eeg'),\n",
    "                              verbose=False)\n",
    "        raw.set_montage(montage)\n",
    "\n",
    "        # Save the raw data in the class folder with a suitable filename\n",
    "        filename = f\"{class_label}_{row['patient']}_{row['time']}.fif\"\n",
    "        filepath = os.path.join(class_folder, filename)\n",
    "        raw.save(filepath, overwrite=True)\n"
   ]
  },
  {
   "cell_type": "code",
   "execution_count": 28,
   "id": "304af4cf",
   "metadata": {},
   "outputs": [
    {
     "name": "stdout",
     "output_type": "stream",
     "text": [
      "Epoch 1/20\n",
      "1158/1158 [==============================] - 7s 2ms/step - loss: nan - accuracy: 0.2518 - val_loss: nan - val_accuracy: 0.2545\n",
      "Epoch 2/20\n",
      "1158/1158 [==============================] - 2s 1ms/step - loss: nan - accuracy: 0.2518 - val_loss: nan - val_accuracy: 0.2545\n",
      "Epoch 3/20\n",
      "1158/1158 [==============================] - 2s 1ms/step - loss: nan - accuracy: 0.2518 - val_loss: nan - val_accuracy: 0.2545\n",
      "Epoch 4/20\n",
      "1158/1158 [==============================] - 2s 1ms/step - loss: nan - accuracy: 0.2518 - val_loss: nan - val_accuracy: 0.2545\n",
      "Epoch 5/20\n",
      "1158/1158 [==============================] - 2s 1ms/step - loss: nan - accuracy: 0.2518 - val_loss: nan - val_accuracy: 0.2545\n",
      "Epoch 6/20\n",
      "1158/1158 [==============================] - 2s 1ms/step - loss: nan - accuracy: 0.2518 - val_loss: nan - val_accuracy: 0.2545\n",
      "Epoch 7/20\n",
      "1158/1158 [==============================] - 2s 1ms/step - loss: nan - accuracy: 0.2518 - val_loss: nan - val_accuracy: 0.2545\n",
      "Epoch 8/20\n",
      "1158/1158 [==============================] - 2s 1ms/step - loss: nan - accuracy: 0.2518 - val_loss: nan - val_accuracy: 0.2545\n",
      "Epoch 9/20\n",
      "1158/1158 [==============================] - 2s 1ms/step - loss: nan - accuracy: 0.2518 - val_loss: nan - val_accuracy: 0.2545\n",
      "Epoch 10/20\n",
      "1158/1158 [==============================] - 2s 1ms/step - loss: nan - accuracy: 0.2518 - val_loss: nan - val_accuracy: 0.2545\n",
      "Epoch 11/20\n",
      "1158/1158 [==============================] - 2s 1ms/step - loss: nan - accuracy: 0.2518 - val_loss: nan - val_accuracy: 0.2545\n",
      "Epoch 12/20\n",
      "1158/1158 [==============================] - 2s 1ms/step - loss: nan - accuracy: 0.2518 - val_loss: nan - val_accuracy: 0.2545\n",
      "Epoch 13/20\n",
      "1158/1158 [==============================] - 2s 1ms/step - loss: nan - accuracy: 0.2518 - val_loss: nan - val_accuracy: 0.2545\n",
      "Epoch 14/20\n",
      "1158/1158 [==============================] - 2s 1ms/step - loss: nan - accuracy: 0.2518 - val_loss: nan - val_accuracy: 0.2545\n",
      "Epoch 15/20\n",
      "1158/1158 [==============================] - 2s 1ms/step - loss: nan - accuracy: 0.2518 - val_loss: nan - val_accuracy: 0.2545\n",
      "Epoch 16/20\n",
      "1158/1158 [==============================] - 2s 1ms/step - loss: nan - accuracy: 0.2518 - val_loss: nan - val_accuracy: 0.2545\n",
      "Epoch 17/20\n",
      "1158/1158 [==============================] - 2s 1ms/step - loss: nan - accuracy: 0.2518 - val_loss: nan - val_accuracy: 0.2545\n",
      "Epoch 18/20\n",
      "1158/1158 [==============================] - 2s 1ms/step - loss: nan - accuracy: 0.2518 - val_loss: nan - val_accuracy: 0.2545\n",
      "Epoch 19/20\n",
      "1158/1158 [==============================] - 2s 1ms/step - loss: nan - accuracy: 0.2518 - val_loss: nan - val_accuracy: 0.2545\n",
      "Epoch 20/20\n",
      "1158/1158 [==============================] - 2s 1ms/step - loss: nan - accuracy: 0.2518 - val_loss: nan - val_accuracy: 0.2545\n",
      "362/362 [==============================] - 0s 863us/step - loss: nan - accuracy: 0.2406\n",
      "Test Loss: nan, Test Accuracy: 0.2406\n"
     ]
    }
   ],
   "source": [
    "import numpy as np\n",
    "import pandas as pd\n",
    "from sklearn.model_selection import train_test_split\n",
    "from sklearn.preprocessing import StandardScaler\n",
    "from tensorflow.keras.models import Sequential\n",
    "from tensorflow.keras.layers import Conv1D, MaxPooling1D, Flatten, Dense, Dropout\n",
    "\n",
    "# Load the dataset\n",
    "data = pd.read_csv('BCICIV_2a_2.csv')\n",
    "\n",
    "# Preprocess the EEG data\n",
    "X = data[['EEG-Fz', 'EEG-C3', 'EEG-C4', 'EEG-Pz']].values\n",
    "y = data['label'].map({'left': 0, 'right': 1}).values\n",
    "\n",
    "# Standardize the features\n",
    "scaler = StandardScaler()\n",
    "X = scaler.fit_transform(X)\n",
    "\n",
    "# Split the dataset into training and testing sets\n",
    "X_train, X_test, y_train, y_test = train_test_split(X, y, test_size=0.2, random_state=42)\n",
    "\n",
    "# Reshape the input data for 1D Convolution\n",
    "X_train = X_train.reshape(X_train.shape[0], X_train.shape[1], 1)\n",
    "X_test = X_test.reshape(X_test.shape[0], X_test.shape[1], 1)\n",
    "\n",
    "# Create and compile the CNN model\n",
    "model = Sequential()\n",
    "model.add(Conv1D(filters=32, kernel_size=3, activation='relu', input_shape=(X_train.shape[1], 1)))\n",
    "model.add(MaxPooling1D(pool_size=2))\n",
    "model.add(Flatten())\n",
    "model.add(Dense(64, activation='relu'))\n",
    "model.add(Dropout(0.5))\n",
    "model.add(Dense(1, activation='sigmoid'))\n",
    "\n",
    "model.compile(loss='binary_crossentropy', optimizer='adam', metrics=['accuracy'])\n",
    "\n",
    "# Train the model\n",
    "model.fit(X_train, y_train, epochs=20, batch_size=32, validation_split=0.2)\n",
    "\n",
    "# Evaluate the model on the testing set\n",
    "loss, accuracy = model.evaluate(X_test, y_test)\n",
    "print(f'Test Loss: {loss:.4f}, Test Accuracy: {accuracy:.4f}')\n"
   ]
  },
  {
   "cell_type": "code",
   "execution_count": 2,
   "id": "745d0282",
   "metadata": {},
   "outputs": [
    {
     "ename": "FileNotFoundError",
     "evalue": "[Errno 2] No such file or directory: 'C:Users\\\\21694\\\\Path finding in neurogaming\\\\BCICIV_2a_2.csv'",
     "output_type": "error",
     "traceback": [
      "\u001b[1;31m---------------------------------------------------------------------------\u001b[0m",
      "\u001b[1;31mFileNotFoundError\u001b[0m                         Traceback (most recent call last)",
      "\u001b[1;32m<ipython-input-2-7b8265ac6eee>\u001b[0m in \u001b[0;36m<module>\u001b[1;34m\u001b[0m\n\u001b[0;32m      9\u001b[0m \u001b[0mdata_path\u001b[0m \u001b[1;33m=\u001b[0m \u001b[0mos\u001b[0m\u001b[1;33m.\u001b[0m\u001b[0mpath\u001b[0m\u001b[1;33m.\u001b[0m\u001b[0mjoin\u001b[0m\u001b[1;33m(\u001b[0m\u001b[1;34m'C:'\u001b[0m\u001b[1;33m,\u001b[0m \u001b[1;34m'Users'\u001b[0m\u001b[1;33m,\u001b[0m\u001b[1;34m'21694'\u001b[0m\u001b[1;33m,\u001b[0m\u001b[1;34m'Path finding in neurogaming'\u001b[0m\u001b[1;33m)\u001b[0m\u001b[1;33m\u001b[0m\u001b[1;33m\u001b[0m\u001b[0m\n\u001b[0;32m     10\u001b[0m \u001b[1;33m\u001b[0m\u001b[0m\n\u001b[1;32m---> 11\u001b[1;33m \u001b[0mdf\u001b[0m \u001b[1;33m=\u001b[0m \u001b[0mpd\u001b[0m\u001b[1;33m.\u001b[0m\u001b[0mread_csv\u001b[0m\u001b[1;33m(\u001b[0m\u001b[0mos\u001b[0m\u001b[1;33m.\u001b[0m\u001b[0mpath\u001b[0m\u001b[1;33m.\u001b[0m\u001b[0mjoin\u001b[0m\u001b[1;33m(\u001b[0m\u001b[0mdata_path\u001b[0m\u001b[1;33m,\u001b[0m \u001b[1;34m'BCICIV_2a_2.csv'\u001b[0m\u001b[1;33m)\u001b[0m\u001b[1;33m)\u001b[0m\u001b[1;33m\u001b[0m\u001b[1;33m\u001b[0m\u001b[0m\n\u001b[0m\u001b[0;32m     12\u001b[0m \u001b[1;33m\u001b[0m\u001b[0m\n\u001b[0;32m     13\u001b[0m \u001b[1;31m# Create a BioSemi 32-channel standard montage\u001b[0m\u001b[1;33m\u001b[0m\u001b[1;33m\u001b[0m\u001b[1;33m\u001b[0m\u001b[0m\n",
      "\u001b[1;32m~\\anaconda3\\lib\\site-packages\\pandas\\io\\parsers\\readers.py\u001b[0m in \u001b[0;36mread_csv\u001b[1;34m(filepath_or_buffer, sep, delimiter, header, names, index_col, usecols, dtype, engine, converters, true_values, false_values, skipinitialspace, skiprows, skipfooter, nrows, na_values, keep_default_na, na_filter, verbose, skip_blank_lines, parse_dates, infer_datetime_format, keep_date_col, date_parser, date_format, dayfirst, cache_dates, iterator, chunksize, compression, thousands, decimal, lineterminator, quotechar, quoting, doublequote, escapechar, comment, encoding, encoding_errors, dialect, on_bad_lines, delim_whitespace, low_memory, memory_map, float_precision, storage_options, dtype_backend)\u001b[0m\n\u001b[0;32m    910\u001b[0m     \u001b[0mkwds\u001b[0m\u001b[1;33m.\u001b[0m\u001b[0mupdate\u001b[0m\u001b[1;33m(\u001b[0m\u001b[0mkwds_defaults\u001b[0m\u001b[1;33m)\u001b[0m\u001b[1;33m\u001b[0m\u001b[1;33m\u001b[0m\u001b[0m\n\u001b[0;32m    911\u001b[0m \u001b[1;33m\u001b[0m\u001b[0m\n\u001b[1;32m--> 912\u001b[1;33m     \u001b[1;32mreturn\u001b[0m \u001b[0m_read\u001b[0m\u001b[1;33m(\u001b[0m\u001b[0mfilepath_or_buffer\u001b[0m\u001b[1;33m,\u001b[0m \u001b[0mkwds\u001b[0m\u001b[1;33m)\u001b[0m\u001b[1;33m\u001b[0m\u001b[1;33m\u001b[0m\u001b[0m\n\u001b[0m\u001b[0;32m    913\u001b[0m \u001b[1;33m\u001b[0m\u001b[0m\n\u001b[0;32m    914\u001b[0m \u001b[1;33m\u001b[0m\u001b[0m\n",
      "\u001b[1;32m~\\anaconda3\\lib\\site-packages\\pandas\\io\\parsers\\readers.py\u001b[0m in \u001b[0;36m_read\u001b[1;34m(filepath_or_buffer, kwds)\u001b[0m\n\u001b[0;32m    575\u001b[0m \u001b[1;33m\u001b[0m\u001b[0m\n\u001b[0;32m    576\u001b[0m     \u001b[1;31m# Create the parser.\u001b[0m\u001b[1;33m\u001b[0m\u001b[1;33m\u001b[0m\u001b[1;33m\u001b[0m\u001b[0m\n\u001b[1;32m--> 577\u001b[1;33m     \u001b[0mparser\u001b[0m \u001b[1;33m=\u001b[0m \u001b[0mTextFileReader\u001b[0m\u001b[1;33m(\u001b[0m\u001b[0mfilepath_or_buffer\u001b[0m\u001b[1;33m,\u001b[0m \u001b[1;33m**\u001b[0m\u001b[0mkwds\u001b[0m\u001b[1;33m)\u001b[0m\u001b[1;33m\u001b[0m\u001b[1;33m\u001b[0m\u001b[0m\n\u001b[0m\u001b[0;32m    578\u001b[0m \u001b[1;33m\u001b[0m\u001b[0m\n\u001b[0;32m    579\u001b[0m     \u001b[1;32mif\u001b[0m \u001b[0mchunksize\u001b[0m \u001b[1;32mor\u001b[0m \u001b[0miterator\u001b[0m\u001b[1;33m:\u001b[0m\u001b[1;33m\u001b[0m\u001b[1;33m\u001b[0m\u001b[0m\n",
      "\u001b[1;32m~\\anaconda3\\lib\\site-packages\\pandas\\io\\parsers\\readers.py\u001b[0m in \u001b[0;36m__init__\u001b[1;34m(self, f, engine, **kwds)\u001b[0m\n\u001b[0;32m   1405\u001b[0m \u001b[1;33m\u001b[0m\u001b[0m\n\u001b[0;32m   1406\u001b[0m         \u001b[0mself\u001b[0m\u001b[1;33m.\u001b[0m\u001b[0mhandles\u001b[0m\u001b[1;33m:\u001b[0m \u001b[0mIOHandles\u001b[0m \u001b[1;33m|\u001b[0m \u001b[1;32mNone\u001b[0m \u001b[1;33m=\u001b[0m \u001b[1;32mNone\u001b[0m\u001b[1;33m\u001b[0m\u001b[1;33m\u001b[0m\u001b[0m\n\u001b[1;32m-> 1407\u001b[1;33m         \u001b[0mself\u001b[0m\u001b[1;33m.\u001b[0m\u001b[0m_engine\u001b[0m \u001b[1;33m=\u001b[0m \u001b[0mself\u001b[0m\u001b[1;33m.\u001b[0m\u001b[0m_make_engine\u001b[0m\u001b[1;33m(\u001b[0m\u001b[0mf\u001b[0m\u001b[1;33m,\u001b[0m \u001b[0mself\u001b[0m\u001b[1;33m.\u001b[0m\u001b[0mengine\u001b[0m\u001b[1;33m)\u001b[0m\u001b[1;33m\u001b[0m\u001b[1;33m\u001b[0m\u001b[0m\n\u001b[0m\u001b[0;32m   1408\u001b[0m \u001b[1;33m\u001b[0m\u001b[0m\n\u001b[0;32m   1409\u001b[0m     \u001b[1;32mdef\u001b[0m \u001b[0mclose\u001b[0m\u001b[1;33m(\u001b[0m\u001b[0mself\u001b[0m\u001b[1;33m)\u001b[0m \u001b[1;33m->\u001b[0m \u001b[1;32mNone\u001b[0m\u001b[1;33m:\u001b[0m\u001b[1;33m\u001b[0m\u001b[1;33m\u001b[0m\u001b[0m\n",
      "\u001b[1;32m~\\anaconda3\\lib\\site-packages\\pandas\\io\\parsers\\readers.py\u001b[0m in \u001b[0;36m_make_engine\u001b[1;34m(self, f, engine)\u001b[0m\n\u001b[0;32m   1659\u001b[0m                 \u001b[1;32mif\u001b[0m \u001b[1;34m\"b\"\u001b[0m \u001b[1;32mnot\u001b[0m \u001b[1;32min\u001b[0m \u001b[0mmode\u001b[0m\u001b[1;33m:\u001b[0m\u001b[1;33m\u001b[0m\u001b[1;33m\u001b[0m\u001b[0m\n\u001b[0;32m   1660\u001b[0m                     \u001b[0mmode\u001b[0m \u001b[1;33m+=\u001b[0m \u001b[1;34m\"b\"\u001b[0m\u001b[1;33m\u001b[0m\u001b[1;33m\u001b[0m\u001b[0m\n\u001b[1;32m-> 1661\u001b[1;33m             self.handles = get_handle(\n\u001b[0m\u001b[0;32m   1662\u001b[0m                 \u001b[0mf\u001b[0m\u001b[1;33m,\u001b[0m\u001b[1;33m\u001b[0m\u001b[1;33m\u001b[0m\u001b[0m\n\u001b[0;32m   1663\u001b[0m                 \u001b[0mmode\u001b[0m\u001b[1;33m,\u001b[0m\u001b[1;33m\u001b[0m\u001b[1;33m\u001b[0m\u001b[0m\n",
      "\u001b[1;32m~\\anaconda3\\lib\\site-packages\\pandas\\io\\common.py\u001b[0m in \u001b[0;36mget_handle\u001b[1;34m(path_or_buf, mode, encoding, compression, memory_map, is_text, errors, storage_options)\u001b[0m\n\u001b[0;32m    857\u001b[0m         \u001b[1;32mif\u001b[0m \u001b[0mioargs\u001b[0m\u001b[1;33m.\u001b[0m\u001b[0mencoding\u001b[0m \u001b[1;32mand\u001b[0m \u001b[1;34m\"b\"\u001b[0m \u001b[1;32mnot\u001b[0m \u001b[1;32min\u001b[0m \u001b[0mioargs\u001b[0m\u001b[1;33m.\u001b[0m\u001b[0mmode\u001b[0m\u001b[1;33m:\u001b[0m\u001b[1;33m\u001b[0m\u001b[1;33m\u001b[0m\u001b[0m\n\u001b[0;32m    858\u001b[0m             \u001b[1;31m# Encoding\u001b[0m\u001b[1;33m\u001b[0m\u001b[1;33m\u001b[0m\u001b[1;33m\u001b[0m\u001b[0m\n\u001b[1;32m--> 859\u001b[1;33m             handle = open(\n\u001b[0m\u001b[0;32m    860\u001b[0m                 \u001b[0mhandle\u001b[0m\u001b[1;33m,\u001b[0m\u001b[1;33m\u001b[0m\u001b[1;33m\u001b[0m\u001b[0m\n\u001b[0;32m    861\u001b[0m                 \u001b[0mioargs\u001b[0m\u001b[1;33m.\u001b[0m\u001b[0mmode\u001b[0m\u001b[1;33m,\u001b[0m\u001b[1;33m\u001b[0m\u001b[1;33m\u001b[0m\u001b[0m\n",
      "\u001b[1;31mFileNotFoundError\u001b[0m: [Errno 2] No such file or directory: 'C:Users\\\\21694\\\\Path finding in neurogaming\\\\BCICIV_2a_2.csv'"
     ]
    }
   ],
   "source": [
    "import os\n",
    "import pandas as pd\n",
    "import numpy as np\n",
    "import mne\n",
    "from mne.channels import make_standard_montage\n",
    "\n",
    "# Load the CSV dataset\n",
    "#data_path = r'C:\\Users\\21694\\Path finding in neurogaming\\BCICIV_2a_2.csv'\n",
    "data_path = os.path.join('C:', 'Users','21694','Path finding in neurogaming')\n",
    "\n",
    "df = pd.read_csv(os.path.join(data_path, 'BCICIV_2a_2.csv'))\n",
    "\n",
    "# Create a BioSemi 32-channel standard montage\n",
    "montage = make_standard_montage('biosemi32')\n",
    "\n",
    "# Create a folder for each class\n",
    "classes = df['label'].unique()\n",
    "for cls in classes:\n",
    "    cls_folder = os.path.join(data_path, cls)\n",
    "    os.makedirs(cls_folder, exist_ok=True)\n",
    "\n",
    "# Iterate through each sample and create new datasets with electrode locations\n",
    "for idx, row in df.iterrows():\n",
    "    patient = row['patient']\n",
    "    cls = row['label']\n",
    "    raw_data = row.drop(['patient', 'time', 'label', 'epoch'])\n",
    "    raw_data = np.array(raw_data).reshape(1, -1)\n",
    "\n",
    "    # Create an Info object with channel names and montage\n",
    "    ch_names = montage.ch_names\n",
    "    info = mne.create_info(ch_names, sfreq=250, ch_types='eeg')\n",
    "    info.set_montage(montage)\n",
    "\n",
    "    # Create a Raw object\n",
    "    raw = mne.io.RawArray(raw_data, info)\n",
    "\n",
    "    # Save the Raw object to the corresponding class folder\n",
    "    raw.save(os.path.join(data_path, cls, f'patient_{patient}.fif'))\n"
   ]
  },
  {
   "cell_type": "code",
   "execution_count": 7,
   "id": "4c60b61a",
   "metadata": {},
   "outputs": [
    {
     "name": "stdout",
     "output_type": "stream",
     "text": [
      "C:\\Users\\21694\\Path finding in neurogaming\n"
     ]
    }
   ],
   "source": [
    "import os\n",
    "print(os.getcwd())"
   ]
  },
  {
   "cell_type": "code",
   "execution_count": 8,
   "id": "c6f6458f",
   "metadata": {},
   "outputs": [
    {
     "name": "stdout",
     "output_type": "stream",
     "text": [
      "['Fp1', 'Fpz', 'Fp2', 'AF9', 'AF7', 'AF5', 'AF3', 'AF1', 'AFz', 'AF2', 'AF4', 'AF6', 'AF8', 'AF10', 'F9', 'F7', 'F5', 'F3', 'F1', 'Fz', 'F2', 'F4', 'F6', 'F8', 'F10', 'FT9', 'FT7', 'FC5', 'FC3', 'FC1', 'FCz', 'FC2', 'FC4', 'FC6', 'FT8', 'FT10', 'T9', 'T7', 'C5', 'C3', 'C1', 'Cz', 'C2', 'C4', 'C6', 'T8', 'T10', 'TP9', 'TP7', 'CP5', 'CP3', 'CP1', 'CPz', 'CP2', 'CP4', 'CP6', 'TP8', 'TP10', 'P9', 'P7', 'P5', 'P3', 'P1', 'Pz', 'P2', 'P4', 'P6', 'P8', 'P10', 'PO9', 'PO7', 'PO5', 'PO3', 'PO1', 'POz', 'PO2', 'PO4', 'PO6', 'PO8', 'PO10', 'O1', 'Oz', 'O2', 'O9', 'Iz', 'O10', 'T3', 'T5', 'T4', 'T6', 'M1', 'M2', 'A1', 'A2']\n",
      "4 duplicate electrode labels found:\n",
      "T7/T3, T8/T4, P7/T5, P8/T6\n",
      "Plotting 90 unique labels.\n"
     ]
    },
    {
     "data": {
      "image/png": "[encoded data removed]",
      "text/plain": [
       "<Figure size 432x432 with 1 Axes>"
      ]
     },
     "metadata": {
      "needs_background": "light"
     },
     "output_type": "display_data"
    },
    {
     "data": {
      "image/png": "[encoded data removed]",
      "text/plain": [
       "<Figure size 432x432 with 1 Axes>"
      ]
     },
     "execution_count": 8,
     "metadata": {},
     "output_type": "execute_result"
    }
   ],
   "source": [
    "import mne\n",
    "\n",
    "# Download the standard 10-20 montage\n",
    "montage = mne.channels.make_standard_montage('standard_1020')\n",
    "\n",
    "# Print the electrode positions\n",
    "print(montage.ch_names)\n",
    "# Plot the electrode positions\n",
    "montage.plot()"
   ]
  },
  {
   "cell_type": "code",
   "execution_count": null,
   "id": "3c41aba9",
   "metadata": {},
   "outputs": [],
   "source": []
  }
 ],
 "metadata": {
  "kernelspec": {
   "display_name": "Python 3",
   "language": "python",
   "name": "python3"
  },
  "language_info": {
   "codemirror_mode": {
    "name": "ipython",
    "version": 3
   },
   "file_extension": ".py",
   "mimetype": "text/x-python",
   "name": "python",
   "nbconvert_exporter": "python",
   "pygments_lexer": "ipython3",
   "version": "3.8.8"
  }
 },
 "nbformat": 4,
 "nbformat_minor": 5
}
