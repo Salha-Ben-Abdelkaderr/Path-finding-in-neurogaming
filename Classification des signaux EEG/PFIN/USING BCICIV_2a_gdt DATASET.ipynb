{
 "cells": [
  {
   "cell_type": "code",
   "execution_count": 1,
   "id": "cd79e9be",
   "metadata": {},
   "outputs": [],
   "source": [
    "import numpy as np\n",
    "import matplotlib.pyplot as plt\n",
    "from scipy.signal import butter, lfilter\n",
    "import mne"
   ]
  },
  {
   "cell_type": "code",
   "execution_count": 2,
   "id": "24dacd83",
   "metadata": {},
   "outputs": [],
   "source": [
    "def butter_bandpass_filter(data, lowcut, highcut, fs, order=2):\n",
    "    nyq = 0.5 * fs\n",
    "    low = lowcut / nyq\n",
    "    high = highcut / nyq\n",
    "    b, a = butter(order, [low, high], btype='band')\n",
    "    y = lfilter(b, a, data)\n",
    "    return y"
   ]
  },
  {
   "cell_type": "code",
   "execution_count": 12,
   "id": "3d08a347",
   "metadata": {},
   "outputs": [
    {
     "name": "stdout",
     "output_type": "stream",
     "text": [
      "Extracting EDF parameters from C:\\Users\\21694\\PFIN\\BCICIV_2a_gdf\\A09T.gdf...\n",
      "GDF file detected\n",
      "Setting channel info structure...\n",
      "Could not determine channel type of the following channels, they will be set as EEG:\n",
      "EEG-Fz, EEG, EEG, EEG, EEG, EEG, EEG, EEG-C3, EEG, EEG-Cz, EEG, EEG-C4, EEG, EEG, EEG, EEG, EEG, EEG, EEG, EEG-Pz, EEG, EEG\n",
      "Creating raw.info structure...\n",
      "Reading 0 ... 673327  =      0.000 ...  2693.308 secs...\n"
     ]
    },
    {
     "name": "stderr",
     "output_type": "stream",
     "text": [
      "C:\\Users\\21694\\anaconda3\\lib\\contextlib.py:120: RuntimeWarning: Channel names are not unique, found duplicates for: {'EEG'}. Applying running numbers for duplicates.\n",
      "  next(self.gen)\n"
     ]
    },
    {
     "data": {
      "text/html": [
       "<table class=\"table table-hover table-striped table-sm table-responsive small\">\n",
       "    <tr>\n",
       "        <th>Measurement date</th>\n",
       "        \n",
       "        <td>November 16, 2004  12:00:00 GMT</td>\n",
       "        \n",
       "    </tr>\n",
       "    <tr>\n",
       "        <th>Experimenter</th>\n",
       "        \n",
       "        <td>Unknown</td>\n",
       "        \n",
       "    </tr>\n",
       "        <th>Participant</th>\n",
       "        \n",
       "        <td>Unknown</td>\n",
       "        \n",
       "    </tr>\n",
       "    <tr>\n",
       "        <th>Digitized points</th>\n",
       "        \n",
       "        <td>Not available</td>\n",
       "        \n",
       "    </tr>\n",
       "    <tr>\n",
       "        <th>Good channels</th>\n",
       "        <td>22 EEG</td>\n",
       "    </tr>\n",
       "    <tr>\n",
       "        <th>Bad channels</th>\n",
       "        <td>None</td>\n",
       "    </tr>\n",
       "    <tr>\n",
       "        <th>EOG channels</th>\n",
       "        <td>Not available</td>\n",
       "    </tr>\n",
       "    <tr>\n",
       "        <th>ECG channels</th>\n",
       "        <td>Not available</td>\n",
       "    \n",
       "    <tr>\n",
       "        <th>Sampling frequency</th>\n",
       "        <td>250.00 Hz</td>\n",
       "    </tr>\n",
       "    \n",
       "    \n",
       "    <tr>\n",
       "        <th>Highpass</th>\n",
       "        <td>0.50 Hz</td>\n",
       "    </tr>\n",
       "    \n",
       "    \n",
       "    <tr>\n",
       "        <th>Lowpass</th>\n",
       "        <td>100.00 Hz</td>\n",
       "    </tr>\n",
       "    \n",
       "    \n",
       "    \n",
       "    <tr>\n",
       "        <th>Filenames</th>\n",
       "        <td>A09T.gdf</td>\n",
       "    </tr>\n",
       "    \n",
       "    <tr>\n",
       "        <th>Duration</th>\n",
       "        <td>00:44:54 (HH:MM:SS)</td>\n",
       "    </tr>\n",
       "</table>"
      ],
      "text/plain": [
       "<RawGDF | A09T.gdf, 22 x 673328 (2693.3 s), ~113.0 MB, data loaded>"
      ]
     },
     "execution_count": 12,
     "metadata": {},
     "output_type": "execute_result"
    }
   ],
   "source": [
    "file_path = 'BCICIV_2a_gdf\\A09T.gdf'  \n",
    "raw = mne.io.read_raw_gdf(file_path,eog=['EOG-left', 'EOG-central', 'EOG-right'], preload=True)\n",
    "raw.drop_channels(['EOG-left', 'EOG-central', 'EOG-right'])\n",
    "\n"
   ]
  },
  {
   "cell_type": "code",
   "execution_count": 13,
   "id": "9fb186f8",
   "metadata": {},
   "outputs": [],
   "source": [
    "fs = raw.info['sfreq']  # Sampling frequency\n",
    "n_channels, n_samples = data.shape\n",
    "\n",
    "mu_band = (8.0, 12.0)  # Mu frequency band (Hz)\n",
    "beta_band = (16.0, 36.0)  # Beta frequency band (Hz)\n",
    "\n",
    "mu_powers = []\n",
    "beta_powers = []\n",
    "\n",
    "for i in range(n_channels):\n",
    "    channel_data = data[i, :]\n",
    "    \n",
    "    # Apply bandpass filter\n",
    "    mu_filtered = butter_bandpass_filter(channel_data, mu_band[0], mu_band[1], fs)\n",
    "    beta_filtered = butter_bandpass_filter(channel_data, beta_band[0], beta_band[1], fs)\n",
    "    \n",
    "    # Compute power (squared magnitude of the filtered signal)\n",
    "    mu_power = np.mean(np.abs(mu_filtered) ** 2)\n",
    "    beta_power = np.mean(np.abs(beta_filtered) ** 2)\n",
    "    \n",
    "    mu_powers.append(mu_power)\n",
    "    beta_powers.append(beta_power)\n"
   ]
  },
  {
   "cell_type": "code",
   "execution_count": 11,
   "id": "8023383f",
   "metadata": {},
   "outputs": [
    {
     "name": "stdout",
     "output_type": "stream",
     "text": [
      "Used Annotations descriptions: ['1023', '1072', '276', '277', '32766', '768', '769', '770', '771', '772']\n"
     ]
    },
    {
     "data": {
      "text/plain": [
       "{'1023': 1,\n",
       " '1072': 2,\n",
       " '276': 3,\n",
       " '277': 4,\n",
       " '32766': 5,\n",
       " '768': 6,\n",
       " '769': 7,\n",
       " '770': 8,\n",
       " '771': 9,\n",
       " '772': 10}"
      ]
     },
     "execution_count": 11,
     "metadata": {},
     "output_type": "execute_result"
    }
   ],
   "source": [
    "\n",
    "events=mne.events_from_annotations(raw)\n",
    "events[1]"
   ]
  },
  {
   "cell_type": "code",
   "execution_count": 15,
   "id": "9bea8748",
   "metadata": {},
   "outputs": [
    {
     "data": {
      "text/plain": [
       "array([[     0,      0,      5],\n",
       "       [     0,      0,      3],\n",
       "       [ 30878,      0,      5],\n",
       "       [ 30878,      0,      4],\n",
       "       [ 54282,      0,      5],\n",
       "       [ 54282,      0,      2],\n",
       "       [ 92318,      0,      5],\n",
       "       [ 92668,      0,      6],\n",
       "       [ 92668,      0,      1],\n",
       "       [ 93168,      0,     10],\n",
       "       [ 94671,      0,      6],\n",
       "       [ 95171,      0,      8],\n",
       "       [ 96589,      0,      6],\n",
       "       [ 97089,      0,      8],\n",
       "       [ 98541,      0,      6],\n",
       "       [ 98541,      0,      1],\n",
       "       [ 99041,      0,      7],\n",
       "       [100549,      0,      6],\n",
       "       [100549,      0,      1],\n",
       "       [101049,      0,     10]])"
      ]
     },
     "execution_count": 15,
     "metadata": {},
     "output_type": "execute_result"
    }
   ],
   "source": [
    "events[0][0:20]"
   ]
  },
  {
   "cell_type": "code",
   "execution_count": 16,
   "id": "a522d8d7",
   "metadata": {},
   "outputs": [],
   "source": [
    "# Cue onset left (class 1)\n",
    "#Cue onset right (class 2)\n",
    "#Cue onset foot (class 3)\n",
    "#Cue onset tongue (class 4)\n",
    "\n",
    "event_dict={\n",
    " 'reject':1,\n",
    " 'eye move':2,\n",
    " 'eye open':3,\n",
    " 'eye close':4,\n",
    " 'new run':5,\n",
    " 'new trial':6,\n",
    " 'class 1':7,\n",
    " 'class 2':8,\n",
    " 'class 3':9,\n",
    " 'class 4':10,\n",
    "\n",
    "}"
   ]
  },
  {
   "cell_type": "code",
   "execution_count": 17,
   "id": "6f891bb3",
   "metadata": {},
   "outputs": [
    {
     "data": {
      "image/png": "[encoded data removed]",
      "text/plain": [
       "<Figure size 432x288 with 1 Axes>"
      ]
     },
     "metadata": {
      "needs_background": "light"
     },
     "output_type": "display_data"
    }
   ],
   "source": [
    "fig = mne.viz.plot_events(events[0], event_id=event_dict, sfreq=raw.info['sfreq'],\n",
    "                          first_samp=raw.first_samp)"
   ]
  },
  {
   "cell_type": "code",
   "execution_count": 18,
   "id": "e0b9877c",
   "metadata": {},
   "outputs": [
    {
     "name": "stdout",
     "output_type": "stream",
     "text": [
      "Not setting metadata\n",
      "288 matching events found\n",
      "Setting baseline interval to [-0.1, 0.0] s\n",
      "Applying baseline correction (mode: mean)\n",
      "0 projection items activated\n",
      "Using data from preloaded Raw for 288 events and 201 original time points ...\n",
      "0 bad epochs dropped\n"
     ]
    }
   ],
   "source": [
    "epochs = mne.Epochs(raw, events[0], event_id=[7,8,9,10],tmin= -0.1, tmax=0.7, preload=True)  "
   ]
  },
  {
   "cell_type": "code",
   "execution_count": 19,
   "id": "9462e821",
   "metadata": {},
   "outputs": [
    {
     "data": {
      "text/plain": [
       "(288, 22, 201)"
      ]
     },
     "execution_count": 19,
     "metadata": {},
     "output_type": "execute_result"
    }
   ],
   "source": [
    "epochs.get_data().shape"
   ]
  },
  {
   "cell_type": "code",
   "execution_count": 20,
   "id": "d778e4ce",
   "metadata": {},
   "outputs": [
    {
     "data": {
      "text/plain": [
       "288"
      ]
     },
     "execution_count": 20,
     "metadata": {},
     "output_type": "execute_result"
    }
   ],
   "source": [
    "label=epochs.events[:,-1]\n",
    "len(label)"
   ]
  },
  {
   "cell_type": "code",
   "execution_count": 21,
   "id": "82331da8",
   "metadata": {},
   "outputs": [
    {
     "name": "stdout",
     "output_type": "stream",
     "text": [
      "NOTE: pick_channels() is a legacy function. New code should use inst.pick(...).\n",
      "NOTE: pick_channels() is a legacy function. New code should use inst.pick(...).\n",
      "NOTE: pick_channels() is a legacy function. New code should use inst.pick(...).\n",
      "NOTE: pick_channels() is a legacy function. New code should use inst.pick(...).\n"
     ]
    }
   ],
   "source": [
    "evoked_0 = epochs['7'].average()\n",
    "evoked_1 = epochs['8'].average()\n",
    "evoked_2 = epochs['9'].average()\n",
    "evoked_3 = epochs['10'].average()"
   ]
  },
  {
   "cell_type": "code",
   "execution_count": 22,
   "id": "d7d7d1a8",
   "metadata": {},
   "outputs": [
    {
     "name": "stdout",
     "output_type": "stream",
     "text": [
      "combining channels using \"gfp\"\n",
      "combining channels using \"gfp\"\n",
      "combining channels using \"gfp\"\n",
      "combining channels using \"gfp\"\n"
     ]
    },
    {
     "data": {
      "image/png": "[encoded data removed]",
      "text/plain": [
       "<Figure size 576x432 with 1 Axes>"
      ]
     },
     "metadata": {
      "needs_background": "light"
     },
     "output_type": "display_data"
    },
    {
     "data": {
      "text/plain": [
       "[<Figure size 576x432 with 1 Axes>]"
      ]
     },
     "execution_count": 22,
     "metadata": {},
     "output_type": "execute_result"
    }
   ],
   "source": [
    "#left,right,foot,tongue\n",
    "dicts={'class0':evoked_0,'class1':evoked_1,'class2':evoked_2,'class3':evoked_3}\n",
    "mne.viz.plot_compare_evokeds(dicts)\n",
    "     "
   ]
  },
  {
   "cell_type": "code",
   "execution_count": 23,
   "id": "6da9f1aa",
   "metadata": {},
   "outputs": [],
   "source": [
    "\n",
    "def read_data(path):\n",
    "  raw=mne.io.read_raw_gdf(path,preload=True,\n",
    "                          eog=['EOG-left', 'EOG-central', 'EOG-right'])\n",
    "  raw.drop_channels(['EOG-left', 'EOG-central', 'EOG-right'])\n",
    "  raw.set_eeg_reference()\n",
    "  events=mne.events_from_annotations(raw)\n",
    "  epochs = mne.Epochs(raw, events[0], event_id=[7,8,9,10],on_missing ='warn')\n",
    "  labels=epochs.events[:,-1]\n",
    "  features=epochs.get_data()\n",
    "  return features,labels\n",
    "\n"
   ]
  },
  {
   "cell_type": "code",
   "execution_count": 25,
   "id": "4cd8cbc5",
   "metadata": {},
   "outputs": [],
   "source": [
    "\n",
    "%%capture\n",
    "features,labels,groups=[],[],[]\n",
    "for i in range(1,10):\n",
    "  feature,label=read_data(f'BCICIV_2a_gdf/A0{i}T.gdf')\n",
    "  features.append(feature)\n",
    "  labels.append(label)\n",
    "  groups.append([i]*len(label))\n"
   ]
  },
  {
   "cell_type": "code",
   "execution_count": 26,
   "id": "5de16d04",
   "metadata": {},
   "outputs": [
    {
     "data": {
      "text/plain": [
       "((2448, 22, 176), (2448,), (2448,))"
      ]
     },
     "execution_count": 26,
     "metadata": {},
     "output_type": "execute_result"
    }
   ],
   "source": [
    "features=np.concatenate(features)\n",
    "labels=np.concatenate(labels)\n",
    "groups=np.concatenate(groups)\n",
    "\n",
    "features.shape,labels.shape,groups.shape"
   ]
  },
  {
   "cell_type": "code",
   "execution_count": 27,
   "id": "760177da",
   "metadata": {},
   "outputs": [
    {
     "data": {
      "text/plain": [
       "0"
      ]
     },
     "execution_count": 27,
     "metadata": {},
     "output_type": "execute_result"
    }
   ],
   "source": [
    "np.isnan(features).sum()"
   ]
  },
  {
   "cell_type": "code",
   "execution_count": 28,
   "id": "ffdb1860",
   "metadata": {},
   "outputs": [
    {
     "data": {
      "text/plain": [
       "(array([ 7,  8,  9, 10]), array([648, 648, 576, 576], dtype=int64))"
      ]
     },
     "execution_count": 28,
     "metadata": {},
     "output_type": "execute_result"
    }
   ],
   "source": [
    "unique, counts = np.unique(labels, return_counts=True)\n",
    "unique, counts"
   ]
  },
  {
   "cell_type": "code",
   "execution_count": 29,
   "id": "9825cf4a",
   "metadata": {},
   "outputs": [
    {
     "data": {
      "text/plain": [
       "(array([1, 2, 3, 4, 5, 6, 7, 8, 9]),\n",
       " array([288, 288, 288, 144, 288, 288, 288, 288, 288], dtype=int64))"
      ]
     },
     "execution_count": 29,
     "metadata": {},
     "output_type": "execute_result"
    }
   ],
   "source": [
    "unique, counts = np.unique(groups, return_counts=True)\n",
    "unique, counts"
   ]
  },
  {
   "cell_type": "code",
   "execution_count": 31,
   "id": "b557230f",
   "metadata": {},
   "outputs": [
    {
     "name": "stdout",
     "output_type": "stream",
     "text": [
      "[[69 25 24 20]\n",
      " [30 53 21 22]\n",
      " [30 33 42 13]\n",
      " [18 27 21 42]]\n",
      "              precision    recall  f1-score   support\n",
      "\n",
      "           7       0.47      0.50      0.48       138\n",
      "           8       0.38      0.42      0.40       126\n",
      "           9       0.39      0.36      0.37       118\n",
      "          10       0.43      0.39      0.41       108\n",
      "\n",
      "    accuracy                           0.42       490\n",
      "   macro avg       0.42      0.42      0.42       490\n",
      "weighted avg       0.42      0.42      0.42       490\n",
      "\n"
     ]
    }
   ],
   "source": [
    "from sklearn.model_selection import train_test_split\n",
    "from sklearn.preprocessing import StandardScaler\n",
    "from sklearn.svm import SVC\n",
    "from sklearn.metrics import classification_report, confusion_matrix\n",
    "\n",
    "# Assuming you have features and labels already defined\n",
    "# features: (2448, 22, 176) - EEG data for each trial\n",
    "# labels: (2448,) - Task labels (7: left, 8: right, 9: foot, 10: tongue)\n",
    "\n",
    "# Reshape features for classification\n",
    "num_trials, num_channels, num_samples = features.shape\n",
    "reshaped_features = features.reshape(num_trials, num_channels * num_samples)\n",
    "\n",
    "# Split the data into training and testing sets\n",
    "X_train, X_test, y_train, y_test = train_test_split(reshaped_features, labels, test_size=0.2, random_state=42)\n",
    "\n",
    "# Standardize the features\n",
    "scaler = StandardScaler()\n",
    "X_train_scaled = scaler.fit_transform(X_train)\n",
    "X_test_scaled = scaler.transform(X_test)\n",
    "\n",
    "# Train a Support Vector Machine classifier\n",
    "classifier = SVC(kernel='linear', C=1)\n",
    "classifier.fit(X_train_scaled, y_train)\n",
    "\n",
    "# Predict on the testing set\n",
    "y_pred = classifier.predict(X_test_scaled)\n",
    "\n",
    "# Evaluate the model\n",
    "print(confusion_matrix(y_test, y_pred))\n",
    "print(classification_report(y_test, y_pred))\n"
   ]
  },
  {
   "cell_type": "code",
   "execution_count": 34,
   "id": "79fe9214",
   "metadata": {
    "scrolled": true
   },
   "outputs": [
    {
     "name": "stdout",
     "output_type": "stream",
     "text": [
      "Fold 1 - Training\n",
      "Epoch 1/10\n",
      "62/62 [==============================] - 12s 96ms/step - loss: 0.6330 - accuracy: 0.7268 - val_loss: 0.5880 - val_accuracy: 0.7347\n",
      "Epoch 2/10\n",
      "62/62 [==============================] - 5s 84ms/step - loss: 0.5705 - accuracy: 0.7354 - val_loss: 0.5987 - val_accuracy: 0.7347\n",
      "Epoch 3/10\n",
      "62/62 [==============================] - 5s 85ms/step - loss: 0.5419 - accuracy: 0.7390 - val_loss: 0.5905 - val_accuracy: 0.7327\n",
      "Epoch 4/10\n",
      "62/62 [==============================] - 5s 85ms/step - loss: 0.5137 - accuracy: 0.7554 - val_loss: 0.5954 - val_accuracy: 0.7367\n",
      "Epoch 5/10\n",
      "62/62 [==============================] - 5s 84ms/step - loss: 0.4891 - accuracy: 0.7661 - val_loss: 0.5771 - val_accuracy: 0.7184\n",
      "Epoch 6/10\n",
      "62/62 [==============================] - 5s 82ms/step - loss: 0.4454 - accuracy: 0.7921 - val_loss: 0.6031 - val_accuracy: 0.6980\n",
      "Epoch 7/10\n",
      "62/62 [==============================] - 5s 83ms/step - loss: 0.4323 - accuracy: 0.7937 - val_loss: 0.6108 - val_accuracy: 0.7041\n",
      "Epoch 8/10\n",
      "62/62 [==============================] - 5s 83ms/step - loss: 0.3781 - accuracy: 0.8248 - val_loss: 0.6116 - val_accuracy: 0.7041\n",
      "Epoch 9/10\n",
      "62/62 [==============================] - 5s 78ms/step - loss: 0.3469 - accuracy: 0.8391 - val_loss: 0.7255 - val_accuracy: 0.7224\n",
      "Epoch 10/10\n",
      "62/62 [==============================] - 5s 86ms/step - loss: 0.3010 - accuracy: 0.8596 - val_loss: 0.7836 - val_accuracy: 0.7143\n",
      "Fold 1 - Testing\n",
      "[[ 20 110]\n",
      " [ 30 330]]\n",
      "              precision    recall  f1-score   support\n",
      "\n",
      "           0       0.40      0.15      0.22       130\n",
      "           1       0.75      0.92      0.83       360\n",
      "\n",
      "    accuracy                           0.71       490\n",
      "   macro avg       0.57      0.54      0.52       490\n",
      "weighted avg       0.66      0.71      0.67       490\n",
      "\n",
      "Fold 2 - Training\n",
      "Epoch 1/10\n",
      "62/62 [==============================] - 6s 86ms/step - loss: 0.6450 - accuracy: 0.7120 - val_loss: 0.5808 - val_accuracy: 0.7347\n",
      "Epoch 2/10\n",
      "62/62 [==============================] - 5s 86ms/step - loss: 0.5757 - accuracy: 0.7354 - val_loss: 0.5699 - val_accuracy: 0.7347\n",
      "Epoch 3/10\n",
      "62/62 [==============================] - 5s 80ms/step - loss: 0.5649 - accuracy: 0.7354 - val_loss: 0.5608 - val_accuracy: 0.7347\n",
      "Epoch 4/10\n",
      "62/62 [==============================] - 5s 85ms/step - loss: 0.5455 - accuracy: 0.7344 - val_loss: 0.5687 - val_accuracy: 0.7347\n",
      "Epoch 5/10\n",
      "62/62 [==============================] - 18s 301ms/step - loss: 0.5316 - accuracy: 0.7421 - val_loss: 0.5534 - val_accuracy: 0.7367\n",
      "Epoch 6/10\n",
      "62/62 [==============================] - 5s 84ms/step - loss: 0.5161 - accuracy: 0.7426 - val_loss: 0.5506 - val_accuracy: 0.7408\n",
      "Epoch 7/10\n",
      "62/62 [==============================] - 5s 82ms/step - loss: 0.4851 - accuracy: 0.7579 - val_loss: 0.5483 - val_accuracy: 0.7429\n",
      "Epoch 8/10\n",
      "62/62 [==============================] - 5s 84ms/step - loss: 0.4603 - accuracy: 0.7707 - val_loss: 0.5698 - val_accuracy: 0.7571\n",
      "Epoch 9/10\n",
      "62/62 [==============================] - 5s 82ms/step - loss: 0.4438 - accuracy: 0.7804 - val_loss: 0.5756 - val_accuracy: 0.7347\n",
      "Epoch 10/10\n",
      "62/62 [==============================] - 5s 82ms/step - loss: 0.4099 - accuracy: 0.7937 - val_loss: 0.5941 - val_accuracy: 0.7510\n",
      "Fold 2 - Testing\n",
      "[[ 34  96]\n",
      " [ 26 334]]\n",
      "              precision    recall  f1-score   support\n",
      "\n",
      "           0       0.57      0.26      0.36       130\n",
      "           1       0.78      0.93      0.85       360\n",
      "\n",
      "    accuracy                           0.75       490\n",
      "   macro avg       0.67      0.59      0.60       490\n",
      "weighted avg       0.72      0.75      0.72       490\n",
      "\n",
      "Fold 3 - Training\n",
      "Epoch 1/10\n",
      "62/62 [==============================] - 7s 98ms/step - loss: 0.6821 - accuracy: 0.7104 - val_loss: 0.6061 - val_accuracy: 0.7347\n",
      "Epoch 2/10\n",
      "62/62 [==============================] - 6s 95ms/step - loss: 0.5827 - accuracy: 0.7354 - val_loss: 0.5897 - val_accuracy: 0.7347\n",
      "Epoch 3/10\n",
      "62/62 [==============================] - 6s 93ms/step - loss: 0.5617 - accuracy: 0.7354 - val_loss: 0.5998 - val_accuracy: 0.7347\n",
      "Epoch 4/10\n",
      "62/62 [==============================] - 5s 85ms/step - loss: 0.5715 - accuracy: 0.7354 - val_loss: 0.5862 - val_accuracy: 0.7347\n",
      "Epoch 5/10\n",
      "62/62 [==============================] - 5s 83ms/step - loss: 0.5360 - accuracy: 0.7354 - val_loss: 0.6005 - val_accuracy: 0.7347\n",
      "Epoch 6/10\n",
      "62/62 [==============================] - 5s 85ms/step - loss: 0.5211 - accuracy: 0.7354 - val_loss: 0.5753 - val_accuracy: 0.7347\n",
      "Epoch 7/10\n",
      "62/62 [==============================] - 5s 85ms/step - loss: 0.4988 - accuracy: 0.7451 - val_loss: 0.5660 - val_accuracy: 0.7367\n",
      "Epoch 8/10\n",
      "62/62 [==============================] - 5s 85ms/step - loss: 0.4756 - accuracy: 0.7508 - val_loss: 0.5709 - val_accuracy: 0.7388\n",
      "Epoch 9/10\n",
      "62/62 [==============================] - 5s 84ms/step - loss: 0.4422 - accuracy: 0.7707 - val_loss: 0.6351 - val_accuracy: 0.7469\n",
      "Epoch 10/10\n",
      "62/62 [==============================] - 5s 84ms/step - loss: 0.4060 - accuracy: 0.7988 - val_loss: 0.6749 - val_accuracy: 0.7531\n",
      "Fold 3 - Testing\n",
      "[[ 14 116]\n",
      " [  5 355]]\n",
      "              precision    recall  f1-score   support\n",
      "\n",
      "           0       0.74      0.11      0.19       130\n",
      "           1       0.75      0.99      0.85       360\n",
      "\n",
      "    accuracy                           0.75       490\n",
      "   macro avg       0.75      0.55      0.52       490\n",
      "weighted avg       0.75      0.75      0.68       490\n",
      "\n",
      "Fold 4 - Training\n",
      "Epoch 1/10\n",
      "62/62 [==============================] - 6s 89ms/step - loss: 0.6306 - accuracy: 0.7218 - val_loss: 0.5715 - val_accuracy: 0.7362\n",
      "Epoch 2/10\n",
      "62/62 [==============================] - 5s 84ms/step - loss: 0.5960 - accuracy: 0.7351 - val_loss: 0.5742 - val_accuracy: 0.7362\n",
      "Epoch 3/10\n",
      "62/62 [==============================] - 5s 82ms/step - loss: 0.5751 - accuracy: 0.7351 - val_loss: 0.5538 - val_accuracy: 0.7362\n",
      "Epoch 4/10\n",
      "62/62 [==============================] - 5s 83ms/step - loss: 0.5540 - accuracy: 0.7361 - val_loss: 0.5464 - val_accuracy: 0.7362\n",
      "Epoch 5/10\n",
      "62/62 [==============================] - 5s 84ms/step - loss: 0.5378 - accuracy: 0.7453 - val_loss: 0.5435 - val_accuracy: 0.7362\n",
      "Epoch 6/10\n",
      "62/62 [==============================] - 5s 84ms/step - loss: 0.5207 - accuracy: 0.7458 - val_loss: 0.5507 - val_accuracy: 0.7301\n",
      "Epoch 7/10\n",
      "62/62 [==============================] - 5s 83ms/step - loss: 0.4986 - accuracy: 0.7596 - val_loss: 0.5464 - val_accuracy: 0.7403\n",
      "Epoch 8/10\n",
      "62/62 [==============================] - 5s 85ms/step - loss: 0.4801 - accuracy: 0.7749 - val_loss: 0.5582 - val_accuracy: 0.7321\n",
      "Epoch 9/10\n",
      "62/62 [==============================] - 5s 84ms/step - loss: 0.4428 - accuracy: 0.7933 - val_loss: 0.5580 - val_accuracy: 0.7444\n",
      "Epoch 10/10\n",
      "62/62 [==============================] - 5s 85ms/step - loss: 0.4221 - accuracy: 0.8076 - val_loss: 0.5856 - val_accuracy: 0.7321\n",
      "Fold 4 - Testing\n",
      "[[ 38  91]\n",
      " [ 40 320]]\n",
      "              precision    recall  f1-score   support\n",
      "\n",
      "           0       0.49      0.29      0.37       129\n",
      "           1       0.78      0.89      0.83       360\n",
      "\n",
      "    accuracy                           0.73       489\n",
      "   macro avg       0.63      0.59      0.60       489\n",
      "weighted avg       0.70      0.73      0.71       489\n",
      "\n",
      "Fold 5 - Training\n",
      "Epoch 1/10\n",
      "62/62 [==============================] - 6s 88ms/step - loss: 0.6527 - accuracy: 0.7126 - val_loss: 0.5715 - val_accuracy: 0.7362\n",
      "Epoch 2/10\n",
      "62/62 [==============================] - 5s 85ms/step - loss: 0.5752 - accuracy: 0.7351 - val_loss: 0.5590 - val_accuracy: 0.7362\n",
      "Epoch 3/10\n",
      "62/62 [==============================] - 5s 85ms/step - loss: 0.5636 - accuracy: 0.7351 - val_loss: 0.6036 - val_accuracy: 0.7362\n",
      "Epoch 4/10\n",
      "62/62 [==============================] - 5s 86ms/step - loss: 0.5461 - accuracy: 0.7351 - val_loss: 0.5542 - val_accuracy: 0.7362\n",
      "Epoch 5/10\n",
      "62/62 [==============================] - 5s 85ms/step - loss: 0.5237 - accuracy: 0.7376 - val_loss: 0.5466 - val_accuracy: 0.7362\n",
      "Epoch 6/10\n",
      "62/62 [==============================] - 5s 84ms/step - loss: 0.4966 - accuracy: 0.7458 - val_loss: 0.5497 - val_accuracy: 0.7382\n",
      "Epoch 7/10\n",
      "62/62 [==============================] - 5s 84ms/step - loss: 0.4787 - accuracy: 0.7611 - val_loss: 0.5462 - val_accuracy: 0.7301\n",
      "Epoch 8/10\n"
     ]
    },
    {
     "name": "stdout",
     "output_type": "stream",
     "text": [
      "62/62 [==============================] - 5s 87ms/step - loss: 0.4422 - accuracy: 0.7856 - val_loss: 0.5565 - val_accuracy: 0.7239\n",
      "Epoch 9/10\n",
      "62/62 [==============================] - 5s 86ms/step - loss: 0.4226 - accuracy: 0.7938 - val_loss: 0.5560 - val_accuracy: 0.7178\n",
      "Epoch 10/10\n",
      "62/62 [==============================] - 5s 83ms/step - loss: 0.3836 - accuracy: 0.8060 - val_loss: 0.6069 - val_accuracy: 0.7219\n",
      "Fold 5 - Testing\n",
      "[[ 23 106]\n",
      " [ 30 330]]\n",
      "              precision    recall  f1-score   support\n",
      "\n",
      "           0       0.43      0.18      0.25       129\n",
      "           1       0.76      0.92      0.83       360\n",
      "\n",
      "    accuracy                           0.72       489\n",
      "   macro avg       0.60      0.55      0.54       489\n",
      "weighted avg       0.67      0.72      0.68       489\n",
      "\n"
     ]
    }
   ],
   "source": [
    "import numpy as np\n",
    "from sklearn.model_selection import StratifiedKFold\n",
    "from sklearn.preprocessing import StandardScaler\n",
    "from sklearn.metrics import classification_report, confusion_matrix\n",
    "from keras.models import Sequential\n",
    "from keras.layers import Conv2D, MaxPooling2D, Flatten, Dense, Dropout\n",
    "from tensorflow.keras.utils import to_categorical\n",
    "\n",
    "# features: (2448, 22, 176) - EEG data for each trial\n",
    "# labels: (2448,) - Task labels (7: left, 8: right, 9: foot, 10: tongue)\n",
    "\n",
    "# Reshape features for CNN input\n",
    "num_trials, num_channels, num_samples = features.shape\n",
    "reshaped_features = features.reshape(num_trials, num_channels, num_samples, 1)  # Adding a channel dimension\n",
    "\n",
    "# Standardize the features\n",
    "scaler = StandardScaler()\n",
    "scaled_features = scaler.fit_transform(reshaped_features.reshape(num_trials, -1))\n",
    "scaled_features = scaled_features.reshape(num_trials, num_channels, num_samples, 1)\n",
    "\n",
    "# Adjust labels to be 0 (left) or 1 (right)\n",
    "adjusted_labels = np.where(labels == 7, 0, 1)\n",
    "\n",
    "# Convert labels to categorical format\n",
    "categorical_labels = to_categorical(adjusted_labels, num_classes=2)\n",
    "\n",
    "# Define CNN architecture\n",
    "def create_cnn_model():\n",
    "    model = Sequential()\n",
    "    model.add(Conv2D(32, kernel_size=(3, 3), activation='relu', input_shape=(num_channels, num_samples, 1)))\n",
    "    model.add(MaxPooling2D(pool_size=(2, 2)))\n",
    "    model.add(Conv2D(64, kernel_size=(3, 3), activation='relu'))\n",
    "    model.add(MaxPooling2D(pool_size=(2, 2)))\n",
    "    model.add(Flatten())\n",
    "    model.add(Dense(128, activation='relu'))\n",
    "    model.add(Dropout(0.5))\n",
    "    model.add(Dense(2, activation='softmax'))  # 2 classes (left or right)\n",
    "    model.compile(optimizer='adam', loss='categorical_crossentropy', metrics=['accuracy'])\n",
    "    return model\n",
    "\n",
    "# Perform 5-fold cross-validation\n",
    "n_splits = 5\n",
    "skf = StratifiedKFold(n_splits=n_splits, shuffle=True, random_state=42)\n",
    "\n",
    "for fold_idx, (train_idx, test_idx) in enumerate(skf.split(scaled_features, adjusted_labels)):\n",
    "    print(f\"Fold {fold_idx + 1} - Training\")\n",
    "\n",
    "    X_train, X_test = scaled_features[train_idx], scaled_features[test_idx]\n",
    "    y_train, y_test = categorical_labels[train_idx], categorical_labels[test_idx]\n",
    "\n",
    "    model = create_cnn_model()\n",
    "    model.fit(X_train, y_train, epochs=10, batch_size=32, verbose=1, validation_data=(X_test, y_test))\n",
    "\n",
    "    print(f\"Fold {fold_idx + 1} - Testing\")\n",
    "    y_pred = model.predict(X_test)\n",
    "    y_pred_labels = np.argmax(y_pred, axis=1)  # Predicted labels\n",
    "    y_true_labels = np.argmax(y_test, axis=1)  # True labels\n",
    "\n",
    "    print(confusion_matrix(y_true_labels, y_pred_labels))\n",
    "    print(classification_report(y_true_labels, y_pred_labels))"
   ]
  },
  {
   "cell_type": "code",
   "execution_count": 38,
   "id": "7b0d715f",
   "metadata": {},
   "outputs": [
    {
     "name": "stdout",
     "output_type": "stream",
     "text": [
      "Fold 1 - Training\n",
      "Epoch 1/10\n",
      "33/33 [==============================] - 3s 92ms/step - loss: 0.8392 - accuracy: 0.4739 - val_loss: 0.7070 - val_accuracy: 0.5154\n",
      "Epoch 2/10\n",
      "33/33 [==============================] - 3s 81ms/step - loss: 0.6924 - accuracy: 0.5936 - val_loss: 0.6770 - val_accuracy: 0.5808\n",
      "Epoch 3/10\n",
      "33/33 [==============================] - 3s 83ms/step - loss: 0.6347 - accuracy: 0.6486 - val_loss: 0.6814 - val_accuracy: 0.5731\n",
      "Epoch 4/10\n",
      "33/33 [==============================] - 3s 83ms/step - loss: 0.6067 - accuracy: 0.6660 - val_loss: 0.6644 - val_accuracy: 0.6231\n",
      "Epoch 5/10\n",
      "33/33 [==============================] - 3s 86ms/step - loss: 0.5555 - accuracy: 0.7297 - val_loss: 0.6652 - val_accuracy: 0.5923\n",
      "Epoch 6/10\n",
      "33/33 [==============================] - 3s 86ms/step - loss: 0.4972 - accuracy: 0.7625 - val_loss: 0.6313 - val_accuracy: 0.6385\n",
      "Epoch 7/10\n",
      "33/33 [==============================] - 3s 86ms/step - loss: 0.4218 - accuracy: 0.8118 - val_loss: 0.6675 - val_accuracy: 0.6423\n",
      "Epoch 8/10\n",
      "33/33 [==============================] - 3s 81ms/step - loss: 0.4087 - accuracy: 0.8098 - val_loss: 0.6419 - val_accuracy: 0.6423\n",
      "Epoch 9/10\n",
      "33/33 [==============================] - 3s 86ms/step - loss: 0.3222 - accuracy: 0.8687 - val_loss: 0.6187 - val_accuracy: 0.6615\n",
      "Epoch 10/10\n",
      "33/33 [==============================] - 3s 85ms/step - loss: 0.2558 - accuracy: 0.9044 - val_loss: 0.7238 - val_accuracy: 0.6962\n",
      "Fold 1 - Testing\n",
      "[[ 79  51]\n",
      " [ 28 102]]\n",
      "              precision    recall  f1-score   support\n",
      "\n",
      "           0       0.74      0.61      0.67       130\n",
      "           1       0.67      0.78      0.72       130\n",
      "\n",
      "    accuracy                           0.70       260\n",
      "   macro avg       0.70      0.70      0.69       260\n",
      "weighted avg       0.70      0.70      0.69       260\n",
      "\n",
      "Fold 2 - Training\n",
      "Epoch 1/10\n",
      "33/33 [==============================] - 3s 89ms/step - loss: 0.9614 - accuracy: 0.5178 - val_loss: 0.6987 - val_accuracy: 0.5405\n",
      "Epoch 2/10\n",
      "33/33 [==============================] - 3s 85ms/step - loss: 0.6996 - accuracy: 0.5622 - val_loss: 0.6789 - val_accuracy: 0.5676\n",
      "Epoch 3/10\n",
      "33/33 [==============================] - 3s 84ms/step - loss: 0.6696 - accuracy: 0.5959 - val_loss: 0.6629 - val_accuracy: 0.6178\n",
      "Epoch 4/10\n",
      "33/33 [==============================] - 3s 86ms/step - loss: 0.6435 - accuracy: 0.6365 - val_loss: 0.6574 - val_accuracy: 0.6062\n",
      "Epoch 5/10\n",
      "33/33 [==============================] - 3s 86ms/step - loss: 0.6122 - accuracy: 0.6673 - val_loss: 0.6864 - val_accuracy: 0.5792\n",
      "Epoch 6/10\n",
      "33/33 [==============================] - 3s 86ms/step - loss: 0.5768 - accuracy: 0.6943 - val_loss: 0.6363 - val_accuracy: 0.6564\n",
      "Epoch 7/10\n",
      "33/33 [==============================] - 9s 293ms/step - loss: 0.5383 - accuracy: 0.7281 - val_loss: 0.6425 - val_accuracy: 0.6255\n",
      "Epoch 8/10\n",
      "33/33 [==============================] - 3s 87ms/step - loss: 0.5083 - accuracy: 0.7531 - val_loss: 0.6257 - val_accuracy: 0.6371\n",
      "Epoch 9/10\n",
      "33/33 [==============================] - 3s 82ms/step - loss: 0.4555 - accuracy: 0.7956 - val_loss: 0.6809 - val_accuracy: 0.6139\n",
      "Epoch 10/10\n",
      "33/33 [==============================] - 3s 82ms/step - loss: 0.4193 - accuracy: 0.8081 - val_loss: 0.6374 - val_accuracy: 0.6680\n",
      "Fold 2 - Testing\n",
      "[[94 35]\n",
      " [51 79]]\n",
      "              precision    recall  f1-score   support\n",
      "\n",
      "           0       0.65      0.73      0.69       129\n",
      "           1       0.69      0.61      0.65       130\n",
      "\n",
      "    accuracy                           0.67       259\n",
      "   macro avg       0.67      0.67      0.67       259\n",
      "weighted avg       0.67      0.67      0.67       259\n",
      "\n",
      "Fold 3 - Training\n",
      "Epoch 1/10\n",
      "33/33 [==============================] - 4s 88ms/step - loss: 0.8207 - accuracy: 0.5246 - val_loss: 0.6944 - val_accuracy: 0.5058\n",
      "Epoch 2/10\n",
      "33/33 [==============================] - 3s 86ms/step - loss: 0.6817 - accuracy: 0.5892 - val_loss: 0.6726 - val_accuracy: 0.5907\n",
      "Epoch 3/10\n",
      "33/33 [==============================] - 3s 83ms/step - loss: 0.6409 - accuracy: 0.6442 - val_loss: 0.6589 - val_accuracy: 0.6139\n",
      "Epoch 4/10\n",
      "33/33 [==============================] - 3s 85ms/step - loss: 0.5925 - accuracy: 0.6905 - val_loss: 0.6493 - val_accuracy: 0.6100\n",
      "Epoch 5/10\n",
      "33/33 [==============================] - 3s 80ms/step - loss: 0.5416 - accuracy: 0.7425 - val_loss: 0.6440 - val_accuracy: 0.6293\n",
      "Epoch 6/10\n",
      "33/33 [==============================] - 3s 83ms/step - loss: 0.4898 - accuracy: 0.7686 - val_loss: 0.6512 - val_accuracy: 0.6139\n",
      "Epoch 7/10\n",
      "33/33 [==============================] - 3s 79ms/step - loss: 0.4213 - accuracy: 0.8158 - val_loss: 0.6598 - val_accuracy: 0.6409\n",
      "Epoch 8/10\n",
      "33/33 [==============================] - 3s 83ms/step - loss: 0.3754 - accuracy: 0.8419 - val_loss: 0.6963 - val_accuracy: 0.6486\n",
      "Epoch 9/10\n",
      "33/33 [==============================] - 3s 82ms/step - loss: 0.3008 - accuracy: 0.8775 - val_loss: 0.7749 - val_accuracy: 0.6178\n",
      "Epoch 10/10\n",
      "33/33 [==============================] - 3s 86ms/step - loss: 0.2812 - accuracy: 0.8930 - val_loss: 0.7807 - val_accuracy: 0.6178\n",
      "Fold 3 - Testing\n",
      "[[78 51]\n",
      " [48 82]]\n",
      "              precision    recall  f1-score   support\n",
      "\n",
      "           0       0.62      0.60      0.61       129\n",
      "           1       0.62      0.63      0.62       130\n",
      "\n",
      "    accuracy                           0.62       259\n",
      "   macro avg       0.62      0.62      0.62       259\n",
      "weighted avg       0.62      0.62      0.62       259\n",
      "\n",
      "Fold 4 - Training\n",
      "Epoch 1/10\n",
      "33/33 [==============================] - 4s 92ms/step - loss: 0.8331 - accuracy: 0.5198 - val_loss: 0.6892 - val_accuracy: 0.5444\n",
      "Epoch 2/10\n",
      "33/33 [==============================] - 3s 87ms/step - loss: 0.6784 - accuracy: 0.5892 - val_loss: 0.7046 - val_accuracy: 0.5367\n",
      "Epoch 3/10\n",
      "33/33 [==============================] - 3s 84ms/step - loss: 0.6607 - accuracy: 0.6056 - val_loss: 0.6792 - val_accuracy: 0.6486\n",
      "Epoch 4/10\n",
      "33/33 [==============================] - 3s 85ms/step - loss: 0.6056 - accuracy: 0.6827 - val_loss: 0.6593 - val_accuracy: 0.6023\n",
      "Epoch 5/10\n",
      "33/33 [==============================] - 3s 90ms/step - loss: 0.5363 - accuracy: 0.7387 - val_loss: 0.6589 - val_accuracy: 0.6371\n",
      "Epoch 6/10\n",
      "33/33 [==============================] - 3s 90ms/step - loss: 0.4948 - accuracy: 0.7695 - val_loss: 0.6857 - val_accuracy: 0.6602\n",
      "Epoch 7/10\n",
      "33/33 [==============================] - 3s 89ms/step - loss: 0.4340 - accuracy: 0.8206 - val_loss: 0.7203 - val_accuracy: 0.6641\n",
      "Epoch 8/10\n",
      "33/33 [==============================] - 3s 93ms/step - loss: 0.4127 - accuracy: 0.8206 - val_loss: 0.6442 - val_accuracy: 0.6680\n",
      "Epoch 9/10\n",
      "33/33 [==============================] - 3s 85ms/step - loss: 0.3151 - accuracy: 0.8689 - val_loss: 0.7407 - val_accuracy: 0.6795\n",
      "Epoch 10/10\n",
      "33/33 [==============================] - 3s 84ms/step - loss: 0.2711 - accuracy: 0.9036 - val_loss: 0.8292 - val_accuracy: 0.6834\n",
      "Fold 4 - Testing\n",
      "[[85 45]\n",
      " [37 92]]\n",
      "              precision    recall  f1-score   support\n",
      "\n",
      "           0       0.70      0.65      0.67       130\n",
      "           1       0.67      0.71      0.69       129\n",
      "\n",
      "    accuracy                           0.68       259\n",
      "   macro avg       0.68      0.68      0.68       259\n",
      "weighted avg       0.68      0.68      0.68       259\n",
      "\n",
      "Fold 5 - Training\n",
      "Epoch 1/10\n",
      "33/33 [==============================] - 4s 92ms/step - loss: 0.8839 - accuracy: 0.4918 - val_loss: 0.6987 - val_accuracy: 0.5676\n",
      "Epoch 2/10\n",
      "33/33 [==============================] - 3s 84ms/step - loss: 0.7050 - accuracy: 0.5516 - val_loss: 0.6675 - val_accuracy: 0.6100\n",
      "Epoch 3/10\n",
      "33/33 [==============================] - 3s 85ms/step - loss: 0.6547 - accuracy: 0.6172 - val_loss: 0.6507 - val_accuracy: 0.5985\n",
      "Epoch 4/10\n",
      "33/33 [==============================] - 3s 92ms/step - loss: 0.6187 - accuracy: 0.6789 - val_loss: 0.6742 - val_accuracy: 0.5753\n",
      "Epoch 5/10\n",
      "33/33 [==============================] - 3s 92ms/step - loss: 0.5596 - accuracy: 0.7136 - val_loss: 0.6498 - val_accuracy: 0.6641\n",
      "Epoch 6/10\n",
      "33/33 [==============================] - 4s 106ms/step - loss: 0.4881 - accuracy: 0.7743 - val_loss: 0.6584 - val_accuracy: 0.6178\n",
      "Epoch 7/10\n",
      "33/33 [==============================] - 3s 91ms/step - loss: 0.4389 - accuracy: 0.8081 - val_loss: 0.6730 - val_accuracy: 0.6448\n",
      "Epoch 8/10\n"
     ]
    },
    {
     "name": "stdout",
     "output_type": "stream",
     "text": [
      "33/33 [==============================] - 3s 90ms/step - loss: 0.3850 - accuracy: 0.8235 - val_loss: 0.7164 - val_accuracy: 0.6448\n",
      "Epoch 9/10\n",
      "33/33 [==============================] - 3s 90ms/step - loss: 0.3278 - accuracy: 0.8611 - val_loss: 0.7861 - val_accuracy: 0.6178\n",
      "Epoch 10/10\n",
      "33/33 [==============================] - 3s 84ms/step - loss: 0.2645 - accuracy: 0.8949 - val_loss: 0.8150 - val_accuracy: 0.6525\n",
      "Fold 5 - Testing\n",
      "[[70 60]\n",
      " [30 99]]\n",
      "              precision    recall  f1-score   support\n",
      "\n",
      "           0       0.70      0.54      0.61       130\n",
      "           1       0.62      0.77      0.69       129\n",
      "\n",
      "    accuracy                           0.65       259\n",
      "   macro avg       0.66      0.65      0.65       259\n",
      "weighted avg       0.66      0.65      0.65       259\n",
      "\n"
     ]
    }
   ],
   "source": [
    "import numpy as np\n",
    "from sklearn.model_selection import StratifiedKFold\n",
    "from sklearn.preprocessing import StandardScaler\n",
    "from sklearn.metrics import classification_report, confusion_matrix\n",
    "from keras.models import Sequential\n",
    "from keras.layers import Conv2D, MaxPooling2D, Flatten, Dense, Dropout\n",
    "from tensorflow.keras.utils import to_categorical\n",
    "\n",
    "# features: (2448, 22, 176) - EEG data for each trial\n",
    "# labels: (2448,) - Task labels (7: left, 8: right, 9: foot, 10: tongue)\n",
    "\n",
    "# Filter out labels for binary classification (left vs. right)\n",
    "binary_labels = labels[(labels == 7) | (labels == 8)]\n",
    "binary_features = features[(labels == 7) | (labels == 8)]\n",
    "\n",
    "# Reshape features for CNN input\n",
    "num_trials, num_channels, num_samples = binary_features.shape\n",
    "reshaped_features = binary_features.reshape(num_trials, num_channels, num_samples, 1)  # Adding a channel dimension\n",
    "\n",
    "# Adjust labels to be 0 (left) or 1 (right)\n",
    "adjusted_labels = np.where(binary_labels == 7, 0, 1)\n",
    "\n",
    "# Standardize the features\n",
    "scaler = StandardScaler()\n",
    "scaled_features = scaler.fit_transform(reshaped_features.reshape(num_trials, -1))\n",
    "scaled_features = scaled_features.reshape(num_trials, num_channels, num_samples, 1)\n",
    "\n",
    "# Convert labels to categorical format\n",
    "categorical_labels = to_categorical(adjusted_labels, num_classes=4)\n",
    "# Define CNN architecture\n",
    "def create_cnn_model():\n",
    "    model = Sequential()\n",
    "    model.add(Conv2D(32, kernel_size=(3, 3), activation='relu', input_shape=(num_channels, num_samples, 1)))\n",
    "    model.add(MaxPooling2D(pool_size=(2, 2)))\n",
    "    model.add(Conv2D(64, kernel_size=(3, 3), activation='relu'))\n",
    "    model.add(MaxPooling2D(pool_size=(2, 2)))\n",
    "    model.add(Flatten())\n",
    "    model.add(Dense(128, activation='relu'))\n",
    "    model.add(Dropout(0.5))\n",
    "    model.add(Dense(4, activation='softmax'))  # 4 classes (left or right)\n",
    "    model.compile(optimizer='adam', loss='categorical_crossentropy', metrics=['accuracy'])\n",
    "    return model\n",
    "# Perform 5-fold cross-validation\n",
    "n_splits = 5\n",
    "skf = StratifiedKFold(n_splits=n_splits, shuffle=True, random_state=42)\n",
    "\n",
    "for fold_idx, (train_idx, test_idx) in enumerate(skf.split(scaled_features, adjusted_labels)):\n",
    "    print(f\"Fold {fold_idx + 1} - Training\")\n",
    "\n",
    "    X_train, X_test = scaled_features[train_idx], scaled_features[test_idx]\n",
    "    y_train, y_test = categorical_labels[train_idx], categorical_labels[test_idx]\n",
    "\n",
    "    model = create_cnn_model()\n",
    "    model.fit(X_train, y_train, epochs=10, batch_size=32, verbose=1, validation_data=(X_test, y_test))\n",
    "\n",
    "    print(f\"Fold {fold_idx + 1} - Testing\")\n",
    "    y_pred = model.predict(X_test)\n",
    "    y_pred_labels = np.argmax(y_pred, axis=1)  # Predicted labels\n",
    "    y_true_labels = np.argmax(y_test, axis=1)  # True labels\n",
    "\n",
    "    print(confusion_matrix(y_true_labels, y_pred_labels))\n",
    "    print(classification_report(y_true_labels, y_pred_labels))"
   ]
  },
  {
   "cell_type": "code",
   "execution_count": 39,
   "id": "8dcb51f2",
   "metadata": {},
   "outputs": [
    {
     "name": "stdout",
     "output_type": "stream",
     "text": [
      "Epoch 1/10\n",
      "33/33 [==============================] - 3s 90ms/step - loss: 0.8559 - accuracy: 0.4788 - val_loss: 0.7107 - val_accuracy: 0.5077\n",
      "Epoch 2/10\n",
      "33/33 [==============================] - 3s 83ms/step - loss: 0.6989 - accuracy: 0.5666 - val_loss: 0.6889 - val_accuracy: 0.5808\n",
      "Epoch 3/10\n",
      "33/33 [==============================] - 3s 89ms/step - loss: 0.6786 - accuracy: 0.5975 - val_loss: 0.6711 - val_accuracy: 0.5923\n",
      "Epoch 4/10\n",
      "33/33 [==============================] - 3s 81ms/step - loss: 0.6386 - accuracy: 0.6535 - val_loss: 0.6712 - val_accuracy: 0.6000\n",
      "Epoch 5/10\n",
      "33/33 [==============================] - 3s 83ms/step - loss: 0.6241 - accuracy: 0.6641 - val_loss: 0.6577 - val_accuracy: 0.5769\n",
      "Epoch 6/10\n",
      "33/33 [==============================] - 3s 89ms/step - loss: 0.5873 - accuracy: 0.6998 - val_loss: 0.6410 - val_accuracy: 0.6231\n",
      "Epoch 7/10\n",
      "33/33 [==============================] - 3s 82ms/step - loss: 0.5428 - accuracy: 0.7461 - val_loss: 0.6336 - val_accuracy: 0.6577\n",
      "Epoch 8/10\n",
      "33/33 [==============================] - 3s 89ms/step - loss: 0.5304 - accuracy: 0.7452 - val_loss: 0.6759 - val_accuracy: 0.6154\n",
      "Epoch 9/10\n",
      "33/33 [==============================] - 3s 85ms/step - loss: 0.4625 - accuracy: 0.8021 - val_loss: 0.6655 - val_accuracy: 0.6231\n",
      "Epoch 10/10\n",
      "33/33 [==============================] - 3s 82ms/step - loss: 0.4307 - accuracy: 0.7963 - val_loss: 0.6494 - val_accuracy: 0.6385\n",
      "Fold 1 - Accuracy: 0.6385, Kappa: 0.2769\n",
      "Epoch 1/10\n",
      "33/33 [==============================] - 3s 87ms/step - loss: 0.8755 - accuracy: 0.5043 - val_loss: 0.7248 - val_accuracy: 0.5019\n",
      "Epoch 2/10\n",
      "33/33 [==============================] - 3s 82ms/step - loss: 0.7175 - accuracy: 0.5391 - val_loss: 0.6726 - val_accuracy: 0.5869\n",
      "Epoch 3/10\n",
      "33/33 [==============================] - 3s 81ms/step - loss: 0.6599 - accuracy: 0.5998 - val_loss: 0.6565 - val_accuracy: 0.6216\n",
      "Epoch 4/10\n",
      "33/33 [==============================] - 3s 80ms/step - loss: 0.6053 - accuracy: 0.6818 - val_loss: 0.6349 - val_accuracy: 0.6216\n",
      "Epoch 5/10\n",
      "33/33 [==============================] - 3s 84ms/step - loss: 0.5915 - accuracy: 0.6847 - val_loss: 0.6466 - val_accuracy: 0.6023\n",
      "Epoch 6/10\n",
      "33/33 [==============================] - 3s 86ms/step - loss: 0.5425 - accuracy: 0.7281 - val_loss: 0.6313 - val_accuracy: 0.6602\n",
      "Epoch 7/10\n",
      "33/33 [==============================] - 3s 82ms/step - loss: 0.5004 - accuracy: 0.7493 - val_loss: 0.6126 - val_accuracy: 0.6564\n",
      "Epoch 8/10\n",
      "33/33 [==============================] - 3s 85ms/step - loss: 0.4404 - accuracy: 0.8004 - val_loss: 0.6054 - val_accuracy: 0.6718\n",
      "Epoch 9/10\n",
      "33/33 [==============================] - 3s 84ms/step - loss: 0.4004 - accuracy: 0.8390 - val_loss: 0.6218 - val_accuracy: 0.6564\n",
      "Epoch 10/10\n",
      "33/33 [==============================] - 3s 85ms/step - loss: 0.3326 - accuracy: 0.8611 - val_loss: 0.6564 - val_accuracy: 0.6602\n",
      "Fold 2 - Accuracy: 0.6602, Kappa: 0.3199\n",
      "Epoch 1/10\n",
      "33/33 [==============================] - 7s 95ms/step - loss: 0.9604 - accuracy: 0.4986 - val_loss: 0.7648 - val_accuracy: 0.5019\n",
      "Epoch 2/10\n",
      "33/33 [==============================] - 3s 84ms/step - loss: 0.7236 - accuracy: 0.5342 - val_loss: 0.6841 - val_accuracy: 0.5521\n",
      "Epoch 3/10\n",
      "33/33 [==============================] - 3s 81ms/step - loss: 0.6611 - accuracy: 0.6008 - val_loss: 0.6581 - val_accuracy: 0.6023\n",
      "Epoch 4/10\n",
      "33/33 [==============================] - 3s 84ms/step - loss: 0.6259 - accuracy: 0.6596 - val_loss: 0.6482 - val_accuracy: 0.6255\n",
      "Epoch 5/10\n",
      "33/33 [==============================] - 3s 83ms/step - loss: 0.6003 - accuracy: 0.6905 - val_loss: 0.6478 - val_accuracy: 0.6255\n",
      "Epoch 6/10\n",
      "33/33 [==============================] - 3s 84ms/step - loss: 0.5357 - accuracy: 0.7396 - val_loss: 0.6403 - val_accuracy: 0.6332\n",
      "Epoch 7/10\n",
      "33/33 [==============================] - 3s 80ms/step - loss: 0.5112 - accuracy: 0.7637 - val_loss: 0.6713 - val_accuracy: 0.6409\n",
      "Epoch 8/10\n",
      "33/33 [==============================] - 3s 81ms/step - loss: 0.4486 - accuracy: 0.7956 - val_loss: 0.6489 - val_accuracy: 0.6409\n",
      "Epoch 9/10\n",
      "33/33 [==============================] - 3s 82ms/step - loss: 0.4013 - accuracy: 0.8332 - val_loss: 0.6460 - val_accuracy: 0.6680\n",
      "Epoch 10/10\n",
      "33/33 [==============================] - 3s 80ms/step - loss: 0.3471 - accuracy: 0.8525 - val_loss: 0.7025 - val_accuracy: 0.6486\n",
      "Fold 3 - Accuracy: 0.6486, Kappa: 0.2969\n",
      "Epoch 1/10\n",
      "33/33 [==============================] - 3s 91ms/step - loss: 0.8181 - accuracy: 0.5304 - val_loss: 0.7103 - val_accuracy: 0.5019\n",
      "Epoch 2/10\n",
      "33/33 [==============================] - 3s 89ms/step - loss: 0.6948 - accuracy: 0.5651 - val_loss: 0.6793 - val_accuracy: 0.5560\n",
      "Epoch 3/10\n",
      "33/33 [==============================] - 3s 83ms/step - loss: 0.6472 - accuracy: 0.6538 - val_loss: 0.6715 - val_accuracy: 0.5985\n",
      "Epoch 4/10\n",
      "33/33 [==============================] - 3s 82ms/step - loss: 0.6107 - accuracy: 0.6615 - val_loss: 0.6824 - val_accuracy: 0.5985\n",
      "Epoch 5/10\n",
      "33/33 [==============================] - 3s 83ms/step - loss: 0.5701 - accuracy: 0.7117 - val_loss: 0.6596 - val_accuracy: 0.6178\n",
      "Epoch 6/10\n",
      "33/33 [==============================] - 3s 84ms/step - loss: 0.5085 - accuracy: 0.7522 - val_loss: 0.6899 - val_accuracy: 0.5869\n",
      "Epoch 7/10\n",
      "33/33 [==============================] - 3s 83ms/step - loss: 0.4734 - accuracy: 0.7676 - val_loss: 0.6634 - val_accuracy: 0.6216\n",
      "Epoch 8/10\n",
      "33/33 [==============================] - 3s 83ms/step - loss: 0.4157 - accuracy: 0.7994 - val_loss: 0.6725 - val_accuracy: 0.6178\n",
      "Epoch 9/10\n",
      "33/33 [==============================] - 3s 85ms/step - loss: 0.3464 - accuracy: 0.8554 - val_loss: 0.7258 - val_accuracy: 0.6409\n",
      "Epoch 10/10\n",
      "33/33 [==============================] - 3s 83ms/step - loss: 0.2985 - accuracy: 0.8795 - val_loss: 0.7465 - val_accuracy: 0.6293\n",
      "Fold 4 - Accuracy: 0.6293, Kappa: 0.2591\n",
      "Epoch 1/10\n",
      "33/33 [==============================] - 3s 93ms/step - loss: 0.9265 - accuracy: 0.5236 - val_loss: 0.6944 - val_accuracy: 0.5367\n",
      "Epoch 2/10\n",
      "33/33 [==============================] - 3s 83ms/step - loss: 0.7001 - accuracy: 0.5680 - val_loss: 0.6629 - val_accuracy: 0.6255\n",
      "Epoch 3/10\n",
      "33/33 [==============================] - 3s 79ms/step - loss: 0.6452 - accuracy: 0.6249 - val_loss: 0.6345 - val_accuracy: 0.6641\n",
      "Epoch 4/10\n",
      "33/33 [==============================] - 3s 78ms/step - loss: 0.6094 - accuracy: 0.6577 - val_loss: 0.6286 - val_accuracy: 0.6564\n",
      "Epoch 5/10\n",
      "33/33 [==============================] - 3s 77ms/step - loss: 0.5596 - accuracy: 0.7290 - val_loss: 0.6792 - val_accuracy: 0.5985\n",
      "Epoch 6/10\n",
      "33/33 [==============================] - 3s 78ms/step - loss: 0.4939 - accuracy: 0.7666 - val_loss: 0.6491 - val_accuracy: 0.6178\n",
      "Epoch 7/10\n",
      "33/33 [==============================] - 3s 78ms/step - loss: 0.4266 - accuracy: 0.7985 - val_loss: 0.6498 - val_accuracy: 0.6718\n",
      "Epoch 8/10\n",
      "33/33 [==============================] - 3s 87ms/step - loss: 0.3850 - accuracy: 0.8274 - val_loss: 0.6713 - val_accuracy: 0.6834\n",
      "Epoch 9/10\n",
      "33/33 [==============================] - 3s 84ms/step - loss: 0.3124 - accuracy: 0.8727 - val_loss: 0.6900 - val_accuracy: 0.6757\n",
      "Epoch 10/10\n",
      "33/33 [==============================] - 3s 81ms/step - loss: 0.3001 - accuracy: 0.8746 - val_loss: 0.7107 - val_accuracy: 0.6486\n",
      "Fold 5 - Accuracy: 0.6486, Kappa: 0.2972\n",
      "Accuracy Scores: [0.6384615384615384, 0.6602316602316602, 0.6486486486486487, 0.6293436293436293, 0.6486486486486487]\n",
      "Kappa Scores: [0.27692307692307694, 0.319926001074178, 0.29688851764565494, 0.25907384230287867, 0.2971820486059341]\n"
     ]
    }
   ],
   "source": [
    "from sklearn.metrics import cohen_kappa_score\n",
    "\n",
    "accuracy_scores = []\n",
    "kappa_scores = []\n",
    "\n",
    "for fold_idx, (train_idx, test_idx) in enumerate(skf.split(scaled_features, adjusted_labels)):\n",
    "    X_train, X_test = scaled_features[train_idx], scaled_features[test_idx]\n",
    "    y_train, y_test = categorical_labels[train_idx], categorical_labels[test_idx]\n",
    "\n",
    "    model = create_cnn_model()\n",
    "    model.fit(X_train, y_train, epochs=10, batch_size=32, verbose=1, validation_data=(X_test, y_test))\n",
    "\n",
    "    y_pred = model.predict(X_test)\n",
    "    y_pred_labels = np.argmax(y_pred, axis=1)\n",
    "    y_true_labels = np.argmax(y_test, axis=1)\n",
    "\n",
    "    accuracy = np.mean(y_pred_labels == y_true_labels)\n",
    "    kappa = cohen_kappa_score(y_true_labels, y_pred_labels)\n",
    "\n",
    "    accuracy_scores.append(accuracy)\n",
    "    kappa_scores.append(kappa)\n",
    "\n",
    "    print(f\"Fold {fold_idx + 1} - Accuracy: {accuracy:.4f}, Kappa: {kappa:.4f}\")\n",
    "\n",
    "print(\"Accuracy Scores:\", accuracy_scores)\n",
    "print(\"Kappa Scores:\", kappa_scores)\n"
   ]
  },
  {
   "cell_type": "code",
   "execution_count": 40,
   "id": "4c408a21",
   "metadata": {},
   "outputs": [
    {
     "data": {
      "image/png": "[encoded data removed]",
      "text/plain": [
       "<Figure size 720x360 with 1 Axes>"
      ]
     },
     "metadata": {
      "needs_background": "light"
     },
     "output_type": "display_data"
    }
   ],
   "source": [
    "import matplotlib.pyplot as plt\n",
    "\n",
    "plt.figure(figsize=(10, 5))\n",
    "plt.plot(range(1, n_splits + 1), accuracy_scores, label=\"Accuracy\")\n",
    "plt.plot(range(1, n_splits + 1), kappa_scores, label=\"Kappa\")\n",
    "plt.xlabel(\"Fold\")\n",
    "plt.ylabel(\"Score\")\n",
    "plt.title(\"Time Course of Accuracy and Kappa Coefficient\")\n",
    "plt.legend()\n",
    "plt.grid(True)\n",
    "plt.show()\n"
   ]
  },
  {
   "cell_type": "code",
   "execution_count": 41,
   "id": "c52e32d9",
   "metadata": {},
   "outputs": [
    {
     "name": "stdout",
     "output_type": "stream",
     "text": [
      "Winner Algorithm - Fold: 2, Kappa: 0.3199\n"
     ]
    }
   ],
   "source": [
    "best_fold = np.argmax(kappa_scores)\n",
    "best_kappa = kappa_scores[best_fold]\n",
    "\n",
    "print(f\"Winner Algorithm - Fold: {best_fold + 1}, Kappa: {best_kappa:.4f}\")\n"
   ]
  },
  {
   "cell_type": "code",
   "execution_count": null,
   "id": "b83b9e57",
   "metadata": {},
   "outputs": [],
   "source": []
  }
 ],
 "metadata": {
  "kernelspec": {
   "display_name": "Python 3",
   "language": "python",
   "name": "python3"
  },
  "language_info": {
   "codemirror_mode": {
    "name": "ipython",
    "version": 3
   },
   "file_extension": ".py",
   "mimetype": "text/x-python",
   "name": "python",
   "nbconvert_exporter": "python",
   "pygments_lexer": "ipython3",
   "version": "3.8.8"
  }
 },
 "nbformat": 4,
 "nbformat_minor": 5
}
